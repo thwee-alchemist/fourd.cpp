{
 "cells": [
  {
   "cell_type": "markdown",
   "metadata": {},
   "source": [
    "# FourD.cpp\n",
    "[Joshua Marshall Moore](joshua.moore@leudla.net)\n",
    "March 31st, 2019\n",
    "\n",
    "\n",
    "The goal here is to arrive at a dynamic, force directed layout written in cpp, that I can port to WebAssembly. The code is written in C++17, on a CERN's Cling C++ kernel.\n",
    "\n",
    "This code will not be pretty. Please don't evaluate it for prettiness, I wrote it over a weekend. I'm sure there could be more consts, and more private members, but I just wanted to get this going.\n",
    "\n",
    "I will need the following classes: \n",
    "\n",
    "1. Vertex\n",
    "2. Edge\n",
    "3. Graph\n",
    "4. BarnesHutNode3\n",
    "\n",
    "This is the order in which you should read this document. Each class is followed by a few (informal) tests, as appropriate. \n",
    "\n",
    "\n",
    "\n",
    "\n",
    "That should be enough for now. Let's begin: "
   ]
  },
  {
   "cell_type": "code",
   "execution_count": 1,
   "metadata": {},
   "outputs": [
    {
     "data": {
      "text/plain": []
     },
     "execution_count": 1,
     "metadata": {},
     "output_type": "execute_result"
    }
   ],
   "source": [
    "#include \"gmtl/gmtl/Vec.h\"\n",
    "#include \"gmtl/gmtl/VecOps.h\"\n",
    "#include \"gmtl/gmtl.h\"\n",
    "#include <vector>\n",
    "#include <random>\n",
    "#include <iostream>\n",
    "#include <chrono> \n",
    "#include <map>\n",
    "#include <sstream>\n",
    "\n",
    "using namespace std;\n",
    "using namespace std::chrono; \n",
    "using namespace gmtl;"
   ]
  },
  {
   "cell_type": "markdown",
   "metadata": {},
   "source": [
    "## Constants"
   ]
  },
  {
   "cell_type": "code",
   "execution_count": 2,
   "metadata": {},
   "outputs": [
    {
     "data": {
      "text/plain": []
     },
     "execution_count": 2,
     "metadata": {},
     "output_type": "execute_result"
    }
   ],
   "source": [
    "float _repulsion = 25.0;\n",
    "float _epsilon = 0.1;\n",
    "float _inner_distance = 0.36;\n",
    "float _attraction = 0.05;\n",
    "float _friction = 0.60;\n",
    "float _gravity = 10;\n",
    " \n",
    "float _min_start_pos = -1.0f;\n",
    "float _max_start_pos = 1.0f;\n",
    "\n",
    "class Settings {\n",
    "  public:\n",
    "  \n",
    "    Settings(float _repulsion, float _epsilon, float _inner_distance, float _attraction, float _friction, float _gravity, float _min_start_pos, float _max_start_pos){\n",
    "      repulsion = _repulsion;\n",
    "      epsilon = _epsilon;\n",
    "      inner_distance = _inner_distance;\n",
    "      attraction = _attraction;\n",
    "      friction = _friction;\n",
    "      gravity = _gravity;\n",
    "      \n",
    "      min_start_pos = _min_start_pos;\n",
    "      max_start_pos = _max_start_pos;\n",
    "    }\n",
    "  \n",
    "    float repulsion;\n",
    "    float epsilon;\n",
    "    float inner_distance;\n",
    "    float attraction;\n",
    "    float friction;\n",
    "    float gravity;\n",
    "    float min_start_pos;\n",
    "    float max_start_pos;\n",
    "};\n",
    "\n",
    "Settings SETTINGS(_repulsion, _epsilon, _inner_distance, _attraction, _friction, _gravity, _min_start_pos, _max_start_pos);"
   ]
  },
  {
   "cell_type": "markdown",
   "metadata": {},
   "source": [
    "## The Randomator class\n",
    "The Randomator will return a floating point number in the range -1.0f to 1.0f for use in the Vertex constructor."
   ]
  },
  {
   "cell_type": "code",
   "execution_count": 3,
   "metadata": {},
   "outputs": [
    {
     "data": {
      "text/plain": []
     },
     "execution_count": 3,
     "metadata": {},
     "output_type": "execute_result"
    }
   ],
   "source": [
    "\n",
    "template <typename T>\n",
    "class Randomator {\n",
    "  public:\n",
    "    static inline random_device r;\n",
    "    static inline default_random_engine * engine = new default_random_engine(Randomator::r());\n",
    "    uniform_real_distribution<T> dist;\n",
    "  \n",
    "    Randomator(T min, T max){\n",
    "      this->dist = uniform_real_distribution<T>(min, max);\n",
    "    }\n",
    "\n",
    "    T get(){\n",
    "      return this->dist(*Randomator::engine);\n",
    "    }\n",
    "};"
   ]
  },
  {
   "cell_type": "code",
   "execution_count": 4,
   "metadata": {},
   "outputs": [
    {
     "name": "stdout",
     "output_type": "stream",
     "text": [
      "0.915759 -0.840898\n"
     ]
    },
    {
     "data": {
      "text/plain": [
       "(std::basic_ostream<char, std::char_traits<char> >::__ostream_type &) @0x7fe0090ee640\n"
      ]
     },
     "execution_count": 4,
     "metadata": {},
     "output_type": "execute_result"
    }
   ],
   "source": [
    "Randomator<float> ra( -1, 1);\n",
    "cout << ra.get() << \" \" << ra.get() << endl;"
   ]
  },
  {
   "cell_type": "code",
   "execution_count": 5,
   "metadata": {},
   "outputs": [
    {
     "data": {
      "text/plain": []
     },
     "execution_count": 5,
     "metadata": {},
     "output_type": "execute_result"
    }
   ],
   "source": [
    "float length(gmtl::Vec3f v){\n",
    "  return sqrt(v[0]*v[0] + v[1]*v[1] + v[2]*v[2]);\n",
    "};\n"
   ]
  },
  {
   "cell_type": "code",
   "execution_count": 6,
   "metadata": {},
   "outputs": [
    {
     "name": "stdout",
     "output_type": "stream",
     "text": [
      "(-0.97689, -0.596359, 0.999493) (0.485975, -0.224361, -0.828224)\n",
      "(-1.46287, -0.371998, 1.82772)\n"
     ]
    },
    {
     "data": {
      "text/plain": [
       "(std::basic_ostream<char, std::char_traits<char> >::__ostream_type &) @0x7fe0090ee640\n"
      ]
     },
     "execution_count": 6,
     "metadata": {},
     "output_type": "execute_result"
    }
   ],
   "source": [
    "gmtl::Vec3f vec1(ra.get(), ra.get(), ra.get());\n",
    "gmtl::Vec3f vec2(ra.get(), ra.get(), ra.get());\n",
    "\n",
    "cout << vec1 << \" \" << vec2 << endl;\n",
    "cout << vec1 - vec2 << endl;"
   ]
  },
  {
   "cell_type": "markdown",
   "metadata": {},
   "source": [
    "## The Vertex class"
   ]
  },
  {
   "cell_type": "code",
   "execution_count": 7,
   "metadata": {},
   "outputs": [
    {
     "data": {
      "text/plain": []
     },
     "execution_count": 7,
     "metadata": {},
     "output_type": "execute_result"
    }
   ],
   "source": [
    "template <class T>\n",
    "class Vertex {\n",
    "  public:\n",
    "    static inline Randomator<float> r = Randomator<float>(-1.0f, 1.0f);\n",
    "    static inline int _id = 0;\n",
    "  \n",
    "    Vertex(T userdata){\n",
    "      data = userdata;\n",
    "      position = gmtl::Vec3f(Vertex::r.get(), Vertex::r.get(), Vertex::r.get());\n",
    "      id = Vertex::_id++;\n",
    "    }\n",
    "\n",
    "    int id;\n",
    "    T data;\n",
    "    gmtl::Vec3f position;\n",
    "    gmtl::Vec3f velocity;\n",
    "    gmtl::Vec3f acceleration;\n",
    "  \n",
    "    gmtl::Vec3f repulsion_forces;\n",
    "    gmtl::Vec3f attraction_forces;\n",
    "  \n",
    "    static gmtl::Vec3f pairwise_repulsion(const gmtl::Vec3f& one, const gmtl::Vec3f& other){\n",
    "      gmtl::Vec3f diff = one - other;\n",
    "      // gmtl::Vec3f diff = *(this->position) - *(other->position);\n",
    "      float abs_diff = length(diff);\n",
    "      return  (SETTINGS.repulsion / \n",
    "               ((SETTINGS.epsilon + abs_diff)*(SETTINGS.epsilon + abs_diff)) * \n",
    "               (diff / abs_diff));\n",
    "    }\n",
    "  \n",
    "    bool operator==(const Vertex<T>& other){\n",
    "      return other.id == id;\n",
    "    }\n",
    "  \n",
    "    string toString(){\n",
    "      stringstream ss;\n",
    "      ss << \"Vertex \" << id;\n",
    "      return ss.str();\n",
    "    }\n",
    "};"
   ]
  },
  {
   "cell_type": "markdown",
   "metadata": {},
   "source": [
    "## Testing the Pairwise Repulsion Function"
   ]
  },
  {
   "cell_type": "code",
   "execution_count": 8,
   "metadata": {},
   "outputs": [
    {
     "name": "stdout",
     "output_type": "stream",
     "text": [
      "(-2.67406, 0.612305, -5.56118)\n"
     ]
    },
    {
     "data": {
      "text/plain": [
       "(std::basic_ostream<char, std::char_traits<char> >::__ostream_type &) @0x7fe0090ee640\n"
      ]
     },
     "execution_count": 8,
     "metadata": {},
     "output_type": "execute_result"
    }
   ],
   "source": [
    "Vertex<int> v1(1);\n",
    "Vertex<int> v2(2);\n",
    "cout << Vertex<int>::pairwise_repulsion(v1.position, v2.position) << std::endl;"
   ]
  },
  {
   "cell_type": "markdown",
   "metadata": {},
   "source": [
    "## The Edge Class\n",
    "An edge connects a source and a target vertex."
   ]
  },
  {
   "cell_type": "code",
   "execution_count": 9,
   "metadata": {},
   "outputs": [
    {
     "data": {
      "text/plain": []
     },
     "execution_count": 9,
     "metadata": {},
     "output_type": "execute_result"
    }
   ],
   "source": [
    "template <class T>\n",
    "class Edge {\n",
    "  public:\n",
    "    static inline int _id = 0;\n",
    "  \n",
    "    Edge(Vertex<T>* _source, Vertex<T>* _target){\n",
    "      source = _source;\n",
    "      target = _target;\n",
    "      id = Edge::_id++;\n",
    "    };\n",
    "\n",
    "    int id;\n",
    "    Vertex<T>* source;\n",
    "    Vertex<T>* target;\n",
    "    bool directed = false;\n",
    "  \n",
    "    string toString(){\n",
    "      stringstream ss;\n",
    "      ss << \"Edge \" << id;\n",
    "      return ss.str();\n",
    "    }\n",
    "};"
   ]
  },
  {
   "cell_type": "markdown",
   "metadata": {},
   "source": [
    "## The Barnes Hut Tree\n",
    "\n",
    "A [Barnes Hut Tree](https://en.wikipedia.org/wiki/Barnes%E2%80%93Hut_simulation) is a three dimensional data structure. Like a binary tree for each axis, it sorts the received data into left/right up/down and in/out by comparing the received position with the calculated center of a node. If a certain distance to the center is overcome, the vertex argument is placed into its own tree node. "
   ]
  },
  {
   "cell_type": "code",
   "execution_count": 10,
   "metadata": {},
   "outputs": [
    {
     "data": {
      "text/plain": []
     },
     "execution_count": 10,
     "metadata": {},
     "output_type": "execute_result"
    }
   ],
   "source": [
    "template <class T>\n",
    "class BarnesHutNode3 {\n",
    "  public:\n",
    "    vector<Vertex<T>> inners;\n",
    "    map<string, BarnesHutNode3<T>*> outers;\n",
    "    gmtl::Vec3f center_sum;\n",
    "    int count = 0;\n",
    "  \n",
    "    gmtl::Vec3f center(){\n",
    "      return this->center_sum / (float)this->count;\n",
    "    }\n",
    "  \n",
    "    void place_inner(Vertex<T>& vertex){\n",
    "      this->inners.push_back(vertex);\n",
    "      this->center_sum += vertex.position;\n",
    "    }\n",
    "  \n",
    "    void place_outer(Vertex<T>& vertex){\n",
    "      string octant = this->get_octant(vertex.position);\n",
    "      // this->outers.insert(make_pair(octant, new BarnesHutNode3<T>()));\n",
    "      this->outers[octant] = new BarnesHutNode3<T>();\n",
    "      this->outers[octant]->insert(vertex);\n",
    "    }\n",
    "  \n",
    "    void insert(Vertex<T>& vertex){\n",
    "      if(this->inners.size() == 0){\n",
    "        this->place_inner(vertex);\n",
    "      }else{\n",
    "        gmtl::Vec3f center = this->center();\n",
    "        gmtl::Vec3f pos = vertex.position;\n",
    "        float distance = sqrt((center[0] - pos[0])*(center[0] - pos[0]) + \n",
    "                             (center[1] - pos[1])*(center[1] - pos[1]) +\n",
    "                             (center[2] - pos[2])*(center[2] - pos[2]));\n",
    "        \n",
    "        if(distance <= SETTINGS.inner_distance){\n",
    "          this->place_inner(vertex);\n",
    "        }else{\n",
    "          this->place_outer(vertex);\n",
    "        }\n",
    "      }\n",
    "      \n",
    "      this->count++;\n",
    "    }\n",
    "  \n",
    "    string get_octant(gmtl::Vec3f& position){\n",
    "      gmtl::Vec3f center = this->center();\n",
    "      string x = center[0] < position[0] ? \"l\" : \"r\";\n",
    "      string y = center[1] < position[1] ? \"u\" : \"d\";\n",
    "      string z = center[2] < position[2] ? \"i\" : \"o\";\n",
    "      return x+y+z;\n",
    "    }\n",
    "  \n",
    "    void estimate(Vertex<T>& vertex, gmtl::Vec3f& force, gmtl::Vec3f (*force_fn)(const gmtl::Vec3f& p1, const gmtl::Vec3f& p2)){\n",
    "      if(find(this->inners.begin(), this->inners.end(), vertex) != this->inners.end()){ // todo: make better, maintain a set or something\n",
    "        for(auto i=0; i<this->inners.size(); i++){\n",
    "          if(this->inners[i].id != vertex.id){\n",
    "            gmtl::Vec3f f = force_fn(vertex.position, this->inners[i].position);\n",
    "            force += f;\n",
    "          }\n",
    "        }\n",
    "      }else{\n",
    "        gmtl::Vec3f f = force_fn(vertex.position, this->center()) * (float)this->inners.size();\n",
    "        force += f;\n",
    "      }\n",
    "      \n",
    "      for(auto &it : this->outers){\n",
    "        this->outers[it.first]->estimate(vertex, force, force_fn);\n",
    "      }\n",
    "    }\n",
    "  \n",
    "    string toString(){\n",
    "      return \"BarnesHutNode3\";\n",
    "    }\n",
    "  \n",
    "    unsigned int size(){\n",
    "      return this->count;\n",
    "    }\n",
    "};"
   ]
  },
  {
   "cell_type": "markdown",
   "metadata": {},
   "source": [
    "## The Graph Class"
   ]
  },
  {
   "cell_type": "code",
   "execution_count": 11,
   "metadata": {},
   "outputs": [
    {
     "data": {
      "text/plain": []
     },
     "execution_count": 11,
     "metadata": {},
     "output_type": "execute_result"
    }
   ],
   "source": [
    "template <class T>\n",
    "class Graph {\n",
    "  public:\n",
    "    void add_vertex(Vertex<T> vertex){\n",
    "      V.push_back(vertex);\n",
    "    }\n",
    "  \n",
    "    void add_edge(Edge<T> edge){\n",
    "      E.push_back(edge);\n",
    "    }\n",
    "  \n",
    "    void remove_vertex(Vertex<T> vertex){\n",
    "      V.erase(vertex);\n",
    "    }\n",
    "  \n",
    "    void remove_edge(Edge<T> edge){\n",
    "      E.erase(edge);\n",
    "    }\n",
    "  \n",
    "    vector<Vertex<T>> V;\n",
    "    vector<Edge<T>> E;\n",
    "  \n",
    "    void layout(){\n",
    "      // calculate repulsions\n",
    "      \n",
    "      BarnesHutNode3<T> tree = BarnesHutNode3<T>();\n",
    "      for(Vertex<T>& vertex : this->V){\n",
    "        tree.insert(vertex);\n",
    "      }\n",
    "      for(Vertex<T>& vertex : this->V){\n",
    "        vertex.repulsion_forces = gmtl::Vec3f();\n",
    "        tree.estimate(\n",
    "          vertex,\n",
    "          vertex.repulsion_forces,\n",
    "          &Vertex<T>::pairwise_repulsion);\n",
    "      }\n",
    "      \n",
    "      // calculate attractions \n",
    "      for(Edge<T> edge : this->E){\n",
    "        gmtl::Vec3f attraction = (edge.source->position - edge.target->position) * (-1 * SETTINGS.attraction);\n",
    "        if(edge.directed){\n",
    "          gmtl::Vec3f sp = edge.source->position;\n",
    "          gmtl::Vec3f tp = edge.target->position;\n",
    "          \n",
    "          float distance = sqrt((sp[0] - tp[0])*(sp[0] - tp[0]) + \n",
    "                                      (sp[1] - tp[1])*(sp[1] - tp[1]) +\n",
    "                                      (sp[2] - tp[2])*(sp[2] - tp[2]));\n",
    "          gmtl::Vec3f gravity = gmtl::Vec3f(0.0f, SETTINGS.gravity/distance, 0.0f);\n",
    "          edge.source->attraction_forces -= attraction;\n",
    "          edge.target->attraction_forces += attraction;\n",
    "        }\n",
    "      }\n",
    "      \n",
    "      // update vertices\n",
    "      for(Vertex<T>& vertex : this->V){\n",
    "        gmtl::Vec3f friction = vertex.velocity * SETTINGS.friction;\n",
    "        vertex.acceleration += vertex.repulsion_forces - vertex.attraction_forces - friction;\n",
    "        vertex.velocity += vertex.acceleration;\n",
    "        vertex.position += vertex.velocity;\n",
    "      }\n",
    "    }\n",
    "};"
   ]
  },
  {
   "cell_type": "markdown",
   "metadata": {},
   "source": [
    "## A Quick Test Of The Graph"
   ]
  },
  {
   "cell_type": "code",
   "execution_count": 12,
   "metadata": {},
   "outputs": [
    {
     "data": {
      "text/plain": []
     },
     "execution_count": 12,
     "metadata": {},
     "output_type": "execute_result"
    }
   ],
   "source": [
    "Graph<int> graph;"
   ]
  },
  {
   "cell_type": "markdown",
   "metadata": {},
   "source": [
    "The graph instantiates."
   ]
  },
  {
   "cell_type": "code",
   "execution_count": 13,
   "metadata": {},
   "outputs": [
    {
     "name": "stdout",
     "output_type": "stream",
     "text": [
      "Empty graph layout test... done.\n"
     ]
    },
    {
     "data": {
      "text/plain": [
       "(std::basic_ostream<char, std::char_traits<char> >::__ostream_type &) @0x7fe0090ee640\n"
      ]
     },
     "execution_count": 13,
     "metadata": {},
     "output_type": "execute_result"
    }
   ],
   "source": [
    "cout << \"Empty graph layout test... \";\n",
    "graph.layout();\n",
    "cout << \"done.\" << endl;"
   ]
  },
  {
   "cell_type": "markdown",
   "metadata": {},
   "source": [
    "The layout function runs when called on an empty graph."
   ]
  },
  {
   "cell_type": "code",
   "execution_count": 14,
   "metadata": {},
   "outputs": [
    {
     "name": "stdout",
     "output_type": "stream",
     "text": [
      "Added 10 vertices in 2.3905e-05 seconds.\n"
     ]
    },
    {
     "data": {
      "text/plain": [
       "(std::basic_ostream<char, std::char_traits<char> >::__ostream_type &) @0x7fe0090ee640\n"
      ]
     },
     "execution_count": 14,
     "metadata": {},
     "output_type": "execute_result"
    }
   ],
   "source": [
    "#include <iostream>\n",
    "#include <chrono>\n",
    "using namespace std;\n",
    "using namespace std::chrono;\n",
    "\n",
    "int NUM_VERTICES = 10;\n",
    "int NUM_EDGES = 20;\n",
    "\n",
    "auto start = high_resolution_clock::now(); \n",
    "for(int i=0; i<NUM_VERTICES; i++){\n",
    "  graph.add_vertex(Vertex<int>(i));\n",
    "}\n",
    "\n",
    "for(int n=0; n<NUM_EDGES; ++n){\n",
    "  graph.add_edge(Edge<int>(&graph.V[random() % graph.V.size()], &graph.V[random() % graph.V.size()]));\n",
    "}\n",
    "auto stop = high_resolution_clock::now(); \n",
    "\n",
    "cout << \"Added \" << NUM_VERTICES << \" vertices in \" << duration<double>(stop - start).count() << \" seconds.\" << endl; "
   ]
  },
  {
   "cell_type": "code",
   "execution_count": 15,
   "metadata": {},
   "outputs": [
    {
     "name": "stdout",
     "output_type": "stream",
     "text": [
      "10 vertices\n",
      "20 edges\n"
     ]
    },
    {
     "data": {
      "text/plain": [
       "(std::basic_ostream<char, std::char_traits<char> >::__ostream_type &) @0x7fe0090ee640\n"
      ]
     },
     "execution_count": 15,
     "metadata": {},
     "output_type": "execute_result"
    }
   ],
   "source": [
    "cout << graph.V.size() << \" vertices\" << endl;\n",
    "cout << graph.E.size() << \" edges\" << endl;"
   ]
  },
  {
   "cell_type": "code",
   "execution_count": 16,
   "metadata": {},
   "outputs": [
    {
     "name": "stdout",
     "output_type": "stream",
     "text": [
      "Took 1.6496e-05s :  calculate (-7.63782, 33.2137, 31.0779)\n"
     ]
    },
    {
     "data": {
      "text/plain": [
       "(std::basic_ostream<char, std::char_traits<char> >::__ostream_type &) @0x7fe0090ee640\n"
      ]
     },
     "execution_count": 16,
     "metadata": {},
     "output_type": "execute_result"
    }
   ],
   "source": [
    "#include <iostream>\n",
    "#include <chrono>\n",
    "using namespace std;\n",
    "using namespace std::chrono;\n",
    "\n",
    "auto start2 = high_resolution_clock::now();\n",
    "gmtl::Vec3f all;\n",
    "\n",
    "for(auto i=0; i<graph.V.size(); i++){\n",
    "  for(auto j=0; j<graph.V.size(); j++){\n",
    "    if(i<j){\n",
    "      all += Vertex<int>::pairwise_repulsion(graph.V[i].position, graph.V[j].position);\n",
    "    }\n",
    "  }\n",
    "}\n",
    "auto stop2 = high_resolution_clock::now();\n",
    "cout << \"Took \" << duration<double>(stop2 - start2).count() << \"s : \" << \" calculate \"<< (all / (float)graph.V.size()) << endl;"
   ]
  },
  {
   "cell_type": "markdown",
   "metadata": {},
   "source": [
    "## Testing the insert and estimate functions"
   ]
  },
  {
   "cell_type": "code",
   "execution_count": 17,
   "metadata": {},
   "outputs": [
    {
     "data": {
      "text/plain": []
     },
     "execution_count": 17,
     "metadata": {},
     "output_type": "execute_result"
    }
   ],
   "source": [
    "BarnesHutNode3<int> tree;"
   ]
  },
  {
   "cell_type": "markdown",
   "metadata": {},
   "source": [
    "The tree instantiates."
   ]
  },
  {
   "cell_type": "code",
   "execution_count": 18,
   "metadata": {},
   "outputs": [
    {
     "name": "stdout",
     "output_type": "stream",
     "text": [
      "Took 3.8266e-05s to insert 10 vertices.\n"
     ]
    },
    {
     "data": {
      "text/plain": [
       "(std::basic_ostream<char, std::char_traits<char> >::__ostream_type &) @0x7fe0090ee640\n"
      ]
     },
     "execution_count": 18,
     "metadata": {},
     "output_type": "execute_result"
    }
   ],
   "source": [
    "using namespace std;\n",
    "using namespace std::chrono;\n",
    "\n",
    "auto start3 = high_resolution_clock::now();\n",
    "for(auto i=0; i<graph.V.size(); i++){\n",
    "  tree.insert(graph.V[i]);\n",
    "}\n",
    "auto stop3 = high_resolution_clock::now();\n",
    "\n",
    "cout << \"Took \" << duration<double>(stop3 - start3).count() << \"s to insert \" << graph.V.size() << \" vertices.\" << endl;"
   ]
  },
  {
   "cell_type": "markdown",
   "metadata": {},
   "source": [
    "Tree insertion successful."
   ]
  },
  {
   "cell_type": "code",
   "execution_count": 19,
   "metadata": {},
   "outputs": [
    {
     "name": "stdout",
     "output_type": "stream",
     "text": [
      "Took 1.8568e-05s to estimate (53.6967, 92.4281, -16.0417)\n",
      "Took 1.0687e-05s to estimate (-49.3802, 19.4952, 267.747)\n",
      "Took 7.092e-06s to estimate (-79.2401, -26.7276, 6.07264)\n",
      "Took 7.299e-06s to estimate (49.9522, 15.1778, -31.7831)\n",
      "Took 6.318e-06s to estimate (-64.9581, 103.621, -5.45273)\n",
      "Took 7.14e-06s to estimate (78.3768, 30.0358, -61.4725)\n",
      "Took 6.289e-06s to estimate (66.2188, 108.825, 153.093)\n",
      "Took 6.723e-06s to estimate (-13.5154, -56.7096, -19.1831)\n",
      "Took 6.268e-06s to estimate (33.9325, -131.365, -11.3625)\n",
      "Took 6.66e-06s to estimate (24.0491, -16.576, -48.976)\n"
     ]
    },
    {
     "data": {
      "text/plain": []
     },
     "execution_count": 19,
     "metadata": {},
     "output_type": "execute_result"
    }
   ],
   "source": [
    "using namespace std;\n",
    "using namespace std::chrono;\n",
    "\n",
    "for(auto vertex : graph.V){\n",
    "  auto start4 = high_resolution_clock::now();\n",
    "  gmtl::Vec3f force;\n",
    "  tree.estimate(vertex, force, &Vertex<int>::pairwise_repulsion);\n",
    "  auto stop4 = high_resolution_clock::now();\n",
    "  cout << \"Took \" << duration<double>(stop4 - start4).count() << \"s to estimate \" << force << endl;\n",
    "}"
   ]
  },
  {
   "cell_type": "code",
   "execution_count": 20,
   "metadata": {},
   "outputs": [
    {
     "data": {
      "text/plain": [
       "(long [2]) { 149798315, 2038664370 }\n"
      ]
     },
     "execution_count": 20,
     "metadata": {},
     "output_type": "execute_result"
    }
   ],
   "source": [
    "long rs[] = {random(), random()};\n",
    "rs"
   ]
  },
  {
   "cell_type": "markdown",
   "metadata": {},
   "source": [
    "This proves that the random number generator indeed returns two different numbers for two different function calls."
   ]
  },
  {
   "cell_type": "markdown",
   "metadata": {},
   "source": [
    "## Testing graph.layout()"
   ]
  },
  {
   "cell_type": "code",
   "execution_count": 21,
   "metadata": {},
   "outputs": [
    {
     "name": "stdout",
     "output_type": "stream",
     "text": [
      "g.layout() took 0.242327s with 10000 vertices and 30000 edges.\n"
     ]
    },
    {
     "data": {
      "text/plain": [
       "(std::basic_ostream<char, std::char_traits<char> >::__ostream_type &) @0x7fe0090ee640\n"
      ]
     },
     "execution_count": 21,
     "metadata": {},
     "output_type": "execute_result"
    }
   ],
   "source": [
    "#include <iostream>\n",
    "#include <chrono>\n",
    "#include <iostream>\n",
    "using namespace std;\n",
    "using namespace std::chrono;\n",
    "\n",
    "NUM_VERTICES = 10000;\n",
    "NUM_EDGES = NUM_VERTICES * 3;\n",
    "\n",
    "time_point start5 = high_resolution_clock::now();\n",
    "Graph<int> g = Graph<int>();\n",
    "for(int i=0; i<NUM_VERTICES; i++){\n",
    "  g.add_vertex(Vertex<int>(i));\n",
    "}\n",
    "for(int i=0; i<NUM_EDGES; i++){\n",
    "  g.add_edge(Edge<int>(&g.V[random() % g.V.size()], &g.V[random() % g.V.size()]));\n",
    "}\n",
    "g.layout();\n",
    "time_point stop5 = high_resolution_clock::now();\n",
    "\n",
    "cout << \"g.layout() took \" << duration<double>(stop5 - start5).count() << \"s with \" << g.V.size() << \" vertices and \" << g.E.size() << \" edges.\" << endl;"
   ]
  },
  {
   "cell_type": "markdown",
   "metadata": {},
   "source": [
    "## Average Vertex Position\n",
    "\n",
    "The average vertex position is a tool I can use for analysis of the values over multiple layout() calls. \n"
   ]
  },
  {
   "cell_type": "code",
   "execution_count": 22,
   "metadata": {},
   "outputs": [
    {
     "data": {
      "text/plain": []
     },
     "execution_count": 22,
     "metadata": {},
     "output_type": "execute_result"
    }
   ],
   "source": [
    "template <class T>\n",
    "gmtl::Vec3f avg_position(const Graph<T>& graph){\n",
    "  gmtl::Vec3f position;\n",
    "  for(auto vertex : graph.V){\n",
    "    position += vertex.position;\n",
    "  }\n",
    "  return position / (float)graph.V.size();\n",
    "}\n",
    "\n",
    "/* only call this function with type int for now */\n",
    "template <class T>\n",
    "vector<gmtl::Vec3f> average_positions(int iterations, int vertices, int edges){\n",
    "  vector<gmtl::Vec3f> history;\n",
    "  Graph<T> h;\n",
    "  for(int i=0; i<vertices; i++){\n",
    "    h.add_vertex(Vertex<T>(i));\n",
    "  }\n",
    "  for(int i=0; i<edges; i++){\n",
    "    h.add_edge(Edge<T>(&h.V[random() % h.V.size()], &h.V[random() % h.V.size()]));\n",
    "  }\n",
    "\n",
    "  for(int i=0; i<iterations; i++){\n",
    "    h.layout();\n",
    "    cout << \".\";\n",
    "    history.push_back(avg_position(h));\n",
    "  }\n",
    "  \n",
    "  return history;\n",
    "};\n"
   ]
  },
  {
   "cell_type": "code",
   "execution_count": 23,
   "metadata": {},
   "outputs": [
    {
     "name": "stdout",
     "output_type": "stream",
     "text": [
      "(62.5076, 25.4216, 103.589)\n"
     ]
    },
    {
     "data": {
      "text/plain": [
       "(std::basic_ostream<char, std::char_traits<char> >::__ostream_type &) @0x7fe0090ee640\n"
      ]
     },
     "execution_count": 23,
     "metadata": {},
     "output_type": "execute_result"
    }
   ],
   "source": [
    "gmtl::Vec3f pos = avg_position<int>(g);\n",
    "cout << pos << endl;"
   ]
  },
  {
   "cell_type": "code",
   "execution_count": 24,
   "metadata": {},
   "outputs": [
    {
     "data": {
      "text/plain": []
     },
     "execution_count": 24,
     "metadata": {},
     "output_type": "execute_result"
    }
   ],
   "source": [
    "/*\n",
    "cout << avg_position<int>(g) << endl;\n",
    "for(auto n=0; n<100; n++){\n",
    "  g.layout();\n",
    "  cout << \".\";\n",
    "}\n",
    "cout << endl;\n",
    "cout << avg_position<int>(g) << endl;\n",
    "*/"
   ]
  },
  {
   "cell_type": "markdown",
   "metadata": {},
   "source": [
    "This establishes that the graph's layout function has an effect on its vertices' average positions."
   ]
  },
  {
   "cell_type": "code",
   "execution_count": 25,
   "metadata": {},
   "outputs": [
    {
     "data": {
      "text/plain": []
     },
     "execution_count": 25,
     "metadata": {},
     "output_type": "execute_result"
    }
   ],
   "source": [
    "/*\n",
    "auto history = average_positions<int>(200, 2, 1);\n",
    "for(auto i=0; i<history.size(); i++){\n",
    "  cout << length(history[i]) << endl;\n",
    "}\n",
    "*/"
   ]
  },
  {
   "cell_type": "markdown",
   "metadata": {},
   "source": [
    "The graph is oscillating. "
   ]
  },
  {
   "cell_type": "markdown",
   "metadata": {},
   "source": [
    "Let's fix that!"
   ]
  },
  {
   "cell_type": "code",
   "execution_count": 26,
   "metadata": {},
   "outputs": [
    {
     "data": {
      "text/plain": []
     },
     "execution_count": 26,
     "metadata": {},
     "output_type": "execute_result"
    }
   ],
   "source": [
    "#include <vector>\n",
    "template <class T>\n",
    "class Experiment {\n",
    "  public:\n",
    "    Experiment<T>(T& _variable, const std::vector<T>& _values){\n",
    "      variable = &_variable;\n",
    "      values = _values;\n",
    "      \n",
    "      for(auto value : values){\n",
    "        *(this->variable) = value;\n",
    "        this->histories.push_back(average_positions<int>(50, 10, 30));\n",
    "      }\n",
    "    }\n",
    "  \n",
    "    T* variable;\n",
    "    std::vector<T> values;\n",
    "    std::vector<std::vector<gmtl::Vec3f>> histories;\n",
    "};"
   ]
  },
  {
   "cell_type": "code",
   "execution_count": null,
   "metadata": {},
   "outputs": [],
   "source": []
  },
  {
   "cell_type": "code",
   "execution_count": 27,
   "metadata": {},
   "outputs": [
    {
     "name": "stdout",
     "output_type": "stream",
     "text": [
      "attraction\n",
      "............................................................................................................................................................................................................................................................................................................0 50 0 21.2567\n",
      "0 50 1 991.471\n",
      "0 50 2 47598.3\n",
      "0 50 3 2.2837e+06\n",
      "0 50 4 1.0957e+08\n",
      "0 50 5 5.25707e+09\n",
      "0 50 6 2.5223e+11\n",
      "0 50 7 1.21018e+13\n",
      "0 50 8 5.80633e+14\n",
      "0 50 9 2.78583e+16\n",
      "0 50 10 1.33662e+18\n",
      "0 50 11 inf\n",
      "0 50 12 inf\n",
      "0 50 13 inf\n",
      "0 50 14 inf\n",
      "0 50 15 inf\n",
      "0 50 16 inf\n",
      "0 50 17 inf\n",
      "0 50 18 inf\n",
      "0 50 19 inf\n",
      "0 50 20 inf\n",
      "0 50 21 inf\n",
      "0 50 22 -nan\n",
      "0 50 23 -nan\n",
      "0 50 24 -nan\n",
      "0 50 25 -nan\n",
      "0 50 26 -nan\n",
      "0 50 27 -nan\n",
      "0 50 28 -nan\n",
      "0 50 29 -nan\n",
      "0 50 30 -nan\n",
      "0 50 31 -nan\n",
      "0 50 32 -nan\n",
      "0 50 33 -nan\n",
      "0 50 34 -nan\n",
      "0 50 35 -nan\n",
      "0 50 36 -nan\n",
      "0 50 37 -nan\n",
      "0 50 38 -nan\n",
      "0 50 39 -nan\n",
      "0 50 40 -nan\n",
      "0 50 41 -nan\n",
      "0 50 42 -nan\n",
      "0 50 43 -nan\n",
      "0 50 44 -nan\n",
      "0 50 45 -nan\n",
      "0 50 46 -nan\n",
      "0 50 47 -nan\n",
      "0 50 48 -nan\n",
      "0 50 49 -nan\n",
      "1 5 0 14.6358\n",
      "1 5 1 29.4097\n",
      "1 5 2 88.0492\n",
      "1 5 3 220.282\n",
      "1 5 4 587.253\n",
      "1 5 5 1527.02\n",
      "1 5 6 4008.27\n",
      "1 5 7 10483.3\n",
      "1 5 8 27456.2\n",
      "1 5 9 71870.7\n",
      "1 5 10 188170\n",
      "1 5 11 492626\n",
      "1 5 12 1.28972e+06\n",
      "1 5 13 3.37653e+06\n",
      "1 5 14 8.83987e+06\n",
      "1 5 15 2.31431e+07\n",
      "1 5 16 6.05894e+07\n",
      "1 5 17 1.58625e+08\n",
      "1 5 18 4.15286e+08\n",
      "1 5 19 1.08723e+09\n",
      "1 5 20 2.84641e+09\n",
      "1 5 21 7.45199e+09\n",
      "1 5 22 1.95096e+10\n",
      "1 5 23 5.10767e+10\n",
      "1 5 24 1.33721e+11\n",
      "1 5 25 3.50085e+11\n",
      "1 5 26 9.16535e+11\n",
      "1 5 27 2.39952e+12\n",
      "1 5 28 6.28202e+12\n",
      "1 5 29 1.64465e+13\n",
      "1 5 30 4.30576e+13\n",
      "1 5 31 1.12726e+14\n",
      "1 5 32 2.95121e+14\n",
      "1 5 33 7.72638e+14\n",
      "1 5 34 2.02279e+15\n",
      "1 5 35 5.29574e+15\n",
      "1 5 36 1.38644e+16\n",
      "1 5 37 3.62975e+16\n",
      "1 5 38 9.50281e+16\n",
      "1 5 39 2.48787e+17\n",
      "1 5 40 6.51333e+17\n",
      "1 5 41 1.70521e+18\n",
      "1 5 42 4.4643e+18\n",
      "1 5 43 1.16877e+19\n",
      "1 5 44 inf\n",
      "1 5 45 inf\n",
      "1 5 46 inf\n",
      "1 5 47 inf\n",
      "1 5 48 inf\n",
      "1 5 49 inf\n",
      "2 0.5 0 8.07279\n",
      "2 0.5 1 20.0303\n",
      "2 0.5 2 29.9968\n",
      "2 0.5 3 32.9882\n",
      "2 0.5 4 27.5089\n",
      "2 0.5 5 16.2987\n",
      "2 0.5 6 4.96533\n",
      "2 0.5 7 0.852538\n",
      "2 0.5 8 1.59336\n",
      "2 0.5 9 11.0981\n",
      "2 0.5 10 22.9308\n",
      "2 0.5 11 31.176\n",
      "2 0.5 12 31.7117\n",
      "2 0.5 13 24.271\n",
      "2 0.5 14 12.5757\n",
      "2 0.5 15 2.48343\n",
      "2 0.5 16 0.995825\n",
      "2 0.5 17 3.85755\n",
      "2 0.5 18 14.5775\n",
      "2 0.5 19 25.8146\n",
      "2 0.5 20 31.9517\n",
      "2 0.5 21 29.9214\n",
      "2 0.5 22 20.74\n",
      "2 0.5 23 9.00128\n",
      "2 0.5 24 0.636407\n",
      "2 0.5 25 0.437585\n",
      "2 0.5 26 19.3918\n",
      "2 0.5 27 48.1624\n",
      "2 0.5 28 72.285\n",
      "2 0.5 29 79.6977\n",
      "2 0.5 30 66.694\n",
      "2 0.5 31 39.776\n",
      "2 0.5 32 12.4043\n",
      "2 0.5 33 1.76129\n",
      "2 0.5 34 4.32248\n",
      "2 0.5 35 27.3352\n",
      "2 0.5 36 55.8878\n",
      "2 0.5 37 75.6782\n",
      "2 0.5 38 76.8085\n",
      "2 0.5 39 58.7123\n",
      "2 0.5 40 30.4371\n",
      "2 0.5 41 6.12273\n",
      "2 0.5 42 2.12303\n",
      "2 0.5 43 9.95648\n",
      "2 0.5 44 36.1384\n",
      "2 0.5 45 63.4218\n",
      "2 0.5 46 78.1541\n",
      "2 0.5 47 72.9671\n",
      "2 0.5 48 50.4531\n",
      "2 0.5 49 21.8684\n",
      "3 0.05 0 25.6054\n",
      "3 0.05 1 75.0523\n",
      "3 0.05 2 146.118\n",
      "3 0.05 3 235.248\n",
      "3 0.05 4 337.987\n",
      "3 0.05 5 449.196\n",
      "3 0.05 6 563.316\n",
      "3 0.05 7 674.641\n",
      "3 0.05 8 777.604\n",
      "3 0.05 9 867.057\n",
      "3 0.05 10 938.528\n",
      "3 0.05 11 988.443\n",
      "3 0.05 12 1014.31\n",
      "3 0.05 13 1014.82\n",
      "3 0.05 14 989.972\n",
      "3 0.05 15 940.991\n",
      "3 0.05 16 870.331\n",
      "3 0.05 17 781.526\n",
      "3 0.05 18 679.014\n",
      "3 0.05 19 567.922\n",
      "3 0.05 20 453.804\n",
      "3 0.05 21 342.366\n",
      "3 0.05 22 239.181\n",
      "3 0.05 23 149.407\n",
      "3 0.05 24 77.5333\n",
      "3 0.05 25 27.1542\n",
      "3 0.05 26 0.841079\n",
      "3 0.05 27 2.11824\n",
      "3 0.05 28 27.278\n",
      "3 0.05 29 78.4915\n",
      "3 0.05 30 152.199\n",
      "3 0.05 31 244.682\n",
      "3 0.05 32 351.308\n",
      "3 0.05 33 466.744\n",
      "3 0.05 34 585.216\n",
      "3 0.05 35 700.8\n",
      "3 0.05 36 807.717\n",
      "3 0.05 37 900.62\n",
      "3 0.05 38 974.863\n",
      "3 0.05 39 1026.74\n",
      "3 0.05 40 1053.64\n",
      "3 0.05 41 1054.24\n",
      "3 0.05 42 1028.49\n",
      "3 0.05 43 977.697\n",
      "3 0.05 44 904.385\n",
      "3 0.05 45 812.224\n",
      "3 0.05 46 705.824\n",
      "3 0.05 47 590.502\n",
      "3 0.05 48 472.025\n",
      "3 0.05 49 356.317\n",
      "4 0.005 0 13.8242\n",
      "4 0.005 1 41.3588\n",
      "4 0.005 2 82.4911\n",
      "4 0.005 3 137.014\n",
      "4 0.005 4 204.656\n",
      "4 0.005 5 285.077\n",
      "4 0.005 6 377.876\n",
      "4 0.005 7 482.589\n",
      "4 0.005 8 598.692\n",
      "4 0.005 9 725.605\n",
      "4 0.005 10 862.693\n",
      "4 0.005 11 1009.27\n",
      "4 0.005 12 1164.6\n",
      "4 0.005 13 1327.92\n",
      "4 0.005 14 1498.4\n",
      "4 0.005 15 1675.19\n",
      "4 0.005 16 1857.4\n",
      "4 0.005 17 2044.14\n",
      "4 0.005 18 2234.45\n",
      "4 0.005 19 2427.4\n",
      "4 0.005 20 2622.01\n",
      "4 0.005 21 2817.31\n",
      "4 0.005 22 3012.33\n",
      "4 0.005 23 3206.1\n",
      "4 0.005 24 3397.63\n",
      "4 0.005 25 3585.98\n",
      "4 0.005 26 3770.21\n",
      "4 0.005 27 3949.38\n",
      "4 0.005 28 4122.62\n",
      "4 0.005 29 4289.04\n",
      "4 0.005 30 4447.82\n",
      "4 0.005 31 4598.16\n",
      "4 0.005 32 4739.32\n",
      "4 0.005 33 4870.58\n",
      "4 0.005 34 4991.3\n",
      "4 0.005 35 5100.86\n",
      "4 0.005 36 5198.72\n",
      "4 0.005 37 5284.38\n",
      "4 0.005 38 5357.43\n",
      "4 0.005 39 5417.5\n",
      "4 0.005 40 5464.28\n",
      "4 0.005 41 5497.54\n",
      "4 0.005 42 5517.12\n",
      "4 0.005 43 5522.92\n",
      "4 0.005 44 5514.9\n",
      "4 0.005 45 5493.11\n",
      "4 0.005 46 5457.67\n",
      "4 0.005 47 5408.73\n",
      "4 0.005 48 5346.56\n",
      "4 0.005 49 5271.45\n",
      "5 0.0005 0 76.6069\n",
      "5 0.0005 1 229.636\n",
      "5 0.0005 2 459.088\n",
      "5 0.0005 3 764.847\n",
      "5 0.0005 4 1146.76\n",
      "5 0.0005 5 1604.64\n",
      "5 0.0005 6 2138.25\n",
      "5 0.0005 7 2747.32\n",
      "5 0.0005 8 3431.56\n",
      "5 0.0005 9 4190.62\n",
      "5 0.0005 10 5024.13\n",
      "5 0.0005 11 5931.65\n",
      "5 0.0005 12 6912.75\n",
      "5 0.0005 13 7966.93\n",
      "5 0.0005 14 9093.65\n",
      "5 0.0005 15 10292.4\n",
      "5 0.0005 16 11562.5\n",
      "5 0.0005 17 12903.3\n",
      "5 0.0005 18 14314.3\n",
      "5 0.0005 19 15794.6\n",
      "5 0.0005 20 17343.6\n",
      "5 0.0005 21 18960.4\n",
      "5 0.0005 22 20644.3\n",
      "5 0.0005 23 22394.4\n",
      "5 0.0005 24 24209.9\n",
      "5 0.0005 25 26089.7\n",
      "5 0.0005 26 28033.1\n",
      "5 0.0005 27 30039\n",
      "5 0.0005 28 32106.4\n",
      "5 0.0005 29 34234.3\n",
      "5 0.0005 30 36421.6\n",
      "5 0.0005 31 38667.2\n",
      "5 0.0005 32 40970\n",
      "5 0.0005 33 43328.9\n",
      "5 0.0005 34 45742.7\n",
      "5 0.0005 35 48210.1\n",
      "5 0.0005 36 50729.9\n",
      "5 0.0005 37 53301\n",
      "5 0.0005 38 55921.9\n",
      "5 0.0005 39 58591.4\n",
      "5 0.0005 40 61308.1\n",
      "5 0.0005 41 64070.7\n",
      "5 0.0005 42 66877.8\n",
      "5 0.0005 43 69728\n",
      "5 0.0005 44 72619.9\n",
      "5 0.0005 45 75552\n",
      "5 0.0005 46 78522.9\n",
      "5 0.0005 47 81531\n",
      "5 0.0005 48 84574.9\n",
      "5 0.0005 49 87653.1\n",
      "\n"
     ]
    },
    {
     "data": {
      "text/plain": [
       "(std::basic_ostream<char, std::char_traits<char> >::__ostream_type &) @0x7fe0090ee640\n"
      ]
     },
     "execution_count": 27,
     "metadata": {},
     "output_type": "execute_result"
    }
   ],
   "source": [
    "#include <iostream>\n",
    "#include <chrono>\n",
    "#include <iostream>\n",
    "#include <vector>\n",
    "using namespace std;\n",
    "using namespace std::chrono;\n",
    "\n",
    "cout << \"attraction\" << endl;\n",
    "const std::vector<float> values = vector<float>({50.0f, 5.0f, 0.5f, 0.05f, 0.005f, 0.0005f});\n",
    "Experiment<float> e = Experiment<float>(SETTINGS.friction, values);\n",
    "for(auto i=0; i<e.values.size(); i++){\n",
    "  \n",
    "  for(auto j=0; j<e.histories[i].size(); j++){\n",
    "    cout << i << \" \" << e.values[i] << \" \" << j << \" \" << length(e.histories[i][j]) << endl;\n",
    "  }\n",
    "}\n",
    "cout << endl;"
   ]
  },
  {
   "cell_type": "code",
   "execution_count": null,
   "metadata": {},
   "outputs": [],
   "source": []
  },
  {
   "cell_type": "code",
   "execution_count": null,
   "metadata": {},
   "outputs": [],
   "source": []
  },
  {
   "cell_type": "code",
   "execution_count": null,
   "metadata": {},
   "outputs": [],
   "source": []
  }
 ],
 "metadata": {
  "kernelspec": {
   "display_name": "C++17",
   "language": "C++",
   "name": "cling-cpp17"
  },
  "language_info": {
   "codemirror_mode": "c++",
   "file_extension": ".c++",
   "mimetype": "text/x-c++src",
   "name": "c++"
  }
 },
 "nbformat": 4,
 "nbformat_minor": 2
}
