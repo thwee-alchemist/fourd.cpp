{
 "cells": [
  {
   "cell_type": "markdown",
   "metadata": {},
   "source": [
    "# FourD.cpp\n",
    "\n",
    "The goal here is to arrive at a dynamic, force directed layout written in cpp, that I can port to WebAssembly. \n",
    "\n",
    "I will need the following classes: \n",
    "\n",
    "* Vertex\n",
    "* Edge\n",
    "* Graph\n",
    "\n",
    "That should be enough for now. Let's begin: "
   ]
  },
  {
   "cell_type": "code",
   "execution_count": 1,
   "metadata": {},
   "outputs": [
    {
     "data": {
      "text/plain": []
     },
     "execution_count": 1,
     "metadata": {},
     "output_type": "execute_result"
    }
   ],
   "source": [
    "#include \"gmtl/gmtl/Vec.h\"\n",
    "#include \"gmtl/gmtl/VecOps.h\"\n",
    "#include \"gmtl/gmtl.h\"\n",
    "#include <vector>\n",
    "#include <random>\n",
    "#include <iostream>\n",
    "#include <chrono> \n",
    "#include <map>\n",
    "#include <sstream>\n",
    "\n",
    "using namespace std;\n",
    "using namespace std::chrono; \n",
    "using namespace gmtl;"
   ]
  },
  {
   "cell_type": "markdown",
   "metadata": {},
   "source": [
    "## Constants"
   ]
  },
  {
   "cell_type": "code",
   "execution_count": 2,
   "metadata": {},
   "outputs": [
    {
     "data": {
      "text/plain": []
     },
     "execution_count": 2,
     "metadata": {},
     "output_type": "execute_result"
    }
   ],
   "source": [
    "class Constants {\n",
    "  public:\n",
    "    static constexpr float repulsion = 25.0;\n",
    "    static constexpr float epsilon = 0.1;\n",
    "    static constexpr float inner_distance = 0.36;\n",
    "    static constexpr float attraction = 0.05;\n",
    "    static constexpr float friction = 0.60;\n",
    "    static constexpr float gravity = 10;\n",
    "  \n",
    "    static constexpr float min_start_pos = -1.0f;\n",
    "    static constexpr float max_start_pos = 1.0f;\n",
    "};"
   ]
  },
  {
   "cell_type": "markdown",
   "metadata": {},
   "source": [
    "## The Randomator class"
   ]
  },
  {
   "cell_type": "code",
   "execution_count": 3,
   "metadata": {},
   "outputs": [
    {
     "data": {
      "text/plain": []
     },
     "execution_count": 3,
     "metadata": {},
     "output_type": "execute_result"
    }
   ],
   "source": [
    "template <typename T>\n",
    "class Randomator {\n",
    "  public:\n",
    "    static inline random_device r;\n",
    "    static inline default_random_engine * engine = new default_random_engine(Randomator::r());\n",
    "    uniform_real_distribution<T> dist;\n",
    "  \n",
    "    Randomator(T min, T max){\n",
    "      this->dist = uniform_real_distribution<T>(min, max);\n",
    "    }\n",
    "\n",
    "    T get(){\n",
    "      return this->dist(*Randomator::engine);\n",
    "    }\n",
    "};\n",
    "\n"
   ]
  },
  {
   "cell_type": "code",
   "execution_count": 4,
   "metadata": {},
   "outputs": [
    {
     "data": {
      "text/plain": [
       "(float) -0.561327f\n"
      ]
     },
     "execution_count": 4,
     "metadata": {},
     "output_type": "execute_result"
    }
   ],
   "source": [
    "(new Randomator<float>( -1, 1))->get()"
   ]
  },
  {
   "cell_type": "code",
   "execution_count": 5,
   "metadata": {},
   "outputs": [
    {
     "data": {
      "text/plain": []
     },
     "execution_count": 5,
     "metadata": {},
     "output_type": "execute_result"
    }
   ],
   "source": [
    "float length(gmtl::Vec3f v){\n",
    "  return sqrt(v[0]*v[0] + v[1]*v[1] + v[2]*v[2]);\n",
    "};\n"
   ]
  },
  {
   "cell_type": "code",
   "execution_count": 6,
   "metadata": {},
   "outputs": [
    {
     "data": {
      "text/plain": []
     },
     "execution_count": 6,
     "metadata": {},
     "output_type": "execute_result"
    }
   ],
   "source": [
    "auto r = Randomator<float>(-1.0f, 1.0f);\n",
    "\n",
    "gmtl::Vec3f vec1(r.get(), r.get(), r.get());\n",
    "gmtl::Vec3f vec2(r.get(), r.get(), r.get());"
   ]
  },
  {
   "cell_type": "code",
   "execution_count": 7,
   "metadata": {},
   "outputs": [
    {
     "name": "stdout",
     "output_type": "stream",
     "text": [
      "(-0.228382, -0.419222, 0.12854) (0.368282, -0.289008, 0.638888)\n",
      "(-0.596664, -0.130214, -0.510348)\n"
     ]
    },
    {
     "data": {
      "text/plain": [
       "(std::basic_ostream<char, std::char_traits<char> >::__ostream_type &) @0x7fdb33373640\n"
      ]
     },
     "execution_count": 7,
     "metadata": {},
     "output_type": "execute_result"
    }
   ],
   "source": [
    "cout << vec1 << \" \" << vec2 << endl;\n",
    "cout << vec1 - vec2 << endl;"
   ]
  },
  {
   "cell_type": "markdown",
   "metadata": {},
   "source": [
    "## The Vertex class"
   ]
  },
  {
   "cell_type": "code",
   "execution_count": 8,
   "metadata": {},
   "outputs": [
    {
     "data": {
      "text/plain": []
     },
     "execution_count": 8,
     "metadata": {},
     "output_type": "execute_result"
    }
   ],
   "source": [
    "template <class T>\n",
    "class Vertex {\n",
    "  public:\n",
    "    static inline Randomator<float> r = Randomator<float>(-1.0f, 1.0f);\n",
    "    static inline int _id = 0;\n",
    "  \n",
    "    Vertex(T userdata){\n",
    "      data = userdata;\n",
    "      position = gmtl::Vec3f(Vertex::r.get(), Vertex::r.get(), Vertex::r.get());\n",
    "      id = Vertex::_id++;\n",
    "    }\n",
    "\n",
    "    int id;\n",
    "    T data;\n",
    "    gmtl::Vec3f position;\n",
    "    gmtl::Vec3f velocity;\n",
    "    gmtl::Vec3f acceleration;\n",
    "  \n",
    "    gmtl::Vec3f repulsion_forces;\n",
    "    gmtl::Vec3f attraction_forces;\n",
    "  \n",
    "    static gmtl::Vec3f pairwise_repulsion(const gmtl::Vec3f& one, const gmtl::Vec3f& other){\n",
    "      gmtl::Vec3f diff = one - other;\n",
    "      // gmtl::Vec3f diff = *(this->position) - *(other->position);\n",
    "      float abs_diff = length(diff);\n",
    "      return  (Constants::repulsion / \n",
    "               ((Constants::epsilon + abs_diff)*(Constants::epsilon + abs_diff)) * \n",
    "               (diff / abs_diff));\n",
    "    }\n",
    "  \n",
    "    bool operator==(const Vertex<T>& other){\n",
    "      return other.id == id;\n",
    "    }\n",
    "  \n",
    "    string toString(){\n",
    "      stringstream ss;\n",
    "      ss << \"Vertex \" << id;\n",
    "      return ss.str();\n",
    "    }\n",
    "};"
   ]
  },
  {
   "cell_type": "markdown",
   "metadata": {},
   "source": [
    "## Testing the Pairwise Repulsion Function"
   ]
  },
  {
   "cell_type": "code",
   "execution_count": 9,
   "metadata": {},
   "outputs": [
    {
     "name": "stdout",
     "output_type": "stream",
     "text": [
      "(-3.86804, 7.35013, -3.12289)\n"
     ]
    },
    {
     "data": {
      "text/plain": [
       "(std::basic_ostream<char, std::char_traits<char> >::__ostream_type &) @0x7fdb33373640\n"
      ]
     },
     "execution_count": 9,
     "metadata": {},
     "output_type": "execute_result"
    }
   ],
   "source": [
    "Vertex<int> v1(1);\n",
    "Vertex<int> v2(2);\n",
    "cout << Vertex<int>::pairwise_repulsion(v1.position, v2.position) << std::endl;"
   ]
  },
  {
   "cell_type": "markdown",
   "metadata": {},
   "source": [
    "## The Edge Class"
   ]
  },
  {
   "cell_type": "code",
   "execution_count": 10,
   "metadata": {},
   "outputs": [
    {
     "data": {
      "text/plain": []
     },
     "execution_count": 10,
     "metadata": {},
     "output_type": "execute_result"
    }
   ],
   "source": [
    "template <class T>\n",
    "class Edge {\n",
    "  public:\n",
    "    static inline int _id = 0;\n",
    "  \n",
    "    Edge(Vertex<T>* _source, Vertex<T>* _target){\n",
    "      source = _source;\n",
    "      target = _target;\n",
    "      id = Edge::_id++;\n",
    "    };\n",
    "\n",
    "    int id;\n",
    "    Vertex<T>* source;\n",
    "    Vertex<T>* target;\n",
    "    bool directed = false;\n",
    "  \n",
    "    string toString(){\n",
    "      stringstream ss;\n",
    "      ss << \"Edge \" << id;\n",
    "      return ss.str();\n",
    "    }\n",
    "};"
   ]
  },
  {
   "cell_type": "markdown",
   "metadata": {},
   "source": [
    "## The Barnes Hut Tree"
   ]
  },
  {
   "cell_type": "code",
   "execution_count": 11,
   "metadata": {},
   "outputs": [
    {
     "data": {
      "text/plain": []
     },
     "execution_count": 11,
     "metadata": {},
     "output_type": "execute_result"
    }
   ],
   "source": [
    "template <class T>\n",
    "class BarnesHutNode3 {\n",
    "  public:\n",
    "    vector<Vertex<T>> inners;\n",
    "    map<string, BarnesHutNode3<T>*> outers;\n",
    "    gmtl::Vec3f center_sum;\n",
    "    int count = 0;\n",
    "  \n",
    "    gmtl::Vec3f center(){\n",
    "      return this->center_sum / (float)this->count;\n",
    "    }\n",
    "  \n",
    "    void place_inner(Vertex<T>& vertex){\n",
    "      this->inners.push_back(vertex);\n",
    "      this->center_sum += vertex.position;\n",
    "    }\n",
    "  \n",
    "    void place_outer(Vertex<T>& vertex){\n",
    "      string octant = this->get_octant(vertex.position);\n",
    "      // this->outers.insert(make_pair(octant, new BarnesHutNode3<T>()));\n",
    "      this->outers[octant] = new BarnesHutNode3<T>();\n",
    "      this->outers[octant]->insert(vertex);\n",
    "    }\n",
    "  \n",
    "    void insert(Vertex<T>& vertex){\n",
    "      if(this->inners.size() == 0){\n",
    "        this->place_inner(vertex);\n",
    "      }else{\n",
    "        gmtl::Vec3f center = this->center();\n",
    "        gmtl::Vec3f pos = vertex.position;\n",
    "        float distance = sqrt((center[0] - pos[0])*(center[0] - pos[0]) + \n",
    "                             (center[1] - pos[1])*(center[1] - pos[1]) +\n",
    "                             (center[2] - pos[2])*(center[2] - pos[2]));\n",
    "        \n",
    "        if(distance <= Constants::inner_distance){\n",
    "          this->place_inner(vertex);\n",
    "        }else{\n",
    "          this->place_outer(vertex);\n",
    "        }\n",
    "      }\n",
    "      \n",
    "      this->count++;\n",
    "    }\n",
    "  \n",
    "    string get_octant(gmtl::Vec3f& position){\n",
    "      gmtl::Vec3f center = this->center();\n",
    "      string x = center[0] < position[0] ? \"l\" : \"r\";\n",
    "      string y = center[1] < position[1] ? \"u\" : \"d\";\n",
    "      string z = center[2] < position[2] ? \"i\" : \"o\";\n",
    "      return x+y+z;\n",
    "    }\n",
    "  \n",
    "    void estimate(Vertex<T>& vertex, gmtl::Vec3f& force, gmtl::Vec3f (*force_fn)(const gmtl::Vec3f& p1, const gmtl::Vec3f& p2)){\n",
    "      if(find(this->inners.begin(), this->inners.end(), vertex) != this->inners.end()){ // todo: make better, maintain a set or something\n",
    "        for(auto i=0; i<this->inners.size(); i++){\n",
    "          if(this->inners[i].id != vertex.id){\n",
    "            gmtl::Vec3f f = force_fn(vertex.position, this->inners[i].position);\n",
    "            force += f;\n",
    "          }\n",
    "        }\n",
    "      }else{\n",
    "        gmtl::Vec3f f = force_fn(vertex.position, this->center()) * (float)this->inners.size();\n",
    "        force += f;\n",
    "      }\n",
    "      \n",
    "      for(auto &it : this->outers){\n",
    "        this->outers[it.first]->estimate(vertex, force, force_fn);\n",
    "      }\n",
    "    }\n",
    "  \n",
    "    string toString(){\n",
    "      return \"BarnesHutNode3\";\n",
    "    }\n",
    "  \n",
    "    unsigned int size(){\n",
    "      return this->count;\n",
    "    }\n",
    "};"
   ]
  },
  {
   "cell_type": "markdown",
   "metadata": {},
   "source": [
    "## The Graph Class"
   ]
  },
  {
   "cell_type": "code",
   "execution_count": 12,
   "metadata": {},
   "outputs": [
    {
     "data": {
      "text/plain": []
     },
     "execution_count": 12,
     "metadata": {},
     "output_type": "execute_result"
    }
   ],
   "source": [
    "template <class T>\n",
    "class Graph {\n",
    "  public:\n",
    "    void add_vertex(Vertex<T> vertex){\n",
    "      V.push_back(vertex);\n",
    "    }\n",
    "  \n",
    "    void add_edge(Edge<T> edge){\n",
    "      E.push_back(edge);\n",
    "    }\n",
    "  \n",
    "    void remove_vertex(Vertex<T> vertex){\n",
    "      V.erase(vertex);\n",
    "    }\n",
    "  \n",
    "    void remove_edge(Edge<T> edge){\n",
    "      E.erase(edge);\n",
    "    }\n",
    "  \n",
    "    vector<Vertex<T>> V;\n",
    "    vector<Edge<T>> E;\n",
    "  \n",
    "    void layout(){\n",
    "      // calculate repulsions\n",
    "      \n",
    "      BarnesHutNode3<T> tree = BarnesHutNode3<T>();\n",
    "      for(Vertex<T> vertex : this->V){\n",
    "        tree.insert(vertex);\n",
    "      }\n",
    "      for(Vertex<T> vertex : this->V){\n",
    "        vertex.repulsion_forces = gmtl::Vec3f();\n",
    "        tree.estimate(\n",
    "          vertex,\n",
    "          vertex.repulsion_forces,\n",
    "          &Vertex<T>::pairwise_repulsion);\n",
    "      }\n",
    "      \n",
    "      // calculate attractions \n",
    "      for(Edge<T> edge : this->E){\n",
    "        gmtl::Vec3f attraction = (edge.source->position - edge.target->position) * (-1 * Constants::attraction);\n",
    "        if(edge.directed){\n",
    "          gmtl::Vec3f sp = edge.source->position;\n",
    "          gmtl::Vec3f tp = edge.target->position;\n",
    "          \n",
    "          float distance = sqrt((sp[0] - tp[0])*(sp[0] - tp[0]) + \n",
    "                                      (sp[1] - tp[1])*(sp[1] - tp[1]) +\n",
    "                                      (sp[2] - tp[2])*(sp[2] - tp[2]));\n",
    "          gmtl::Vec3f gravity = gmtl::Vec3f(0.0f, Constants::gravity/distance, 0.0f);\n",
    "          edge.source->attraction_forces -= attraction;\n",
    "          edge.target->attraction_forces += attraction;\n",
    "        }\n",
    "      }\n",
    "      \n",
    "      // update vertices\n",
    "      for(Vertex<T> vertex : this->V){\n",
    "        gmtl::Vec3f friction = vertex.velocity * Constants::friction;\n",
    "        vertex.acceleration += vertex.repulsion_forces - vertex.attraction_forces - friction;\n",
    "        vertex.velocity += vertex.acceleration;\n",
    "        vertex.position += vertex.velocity;\n",
    "      }\n",
    "    }\n",
    "};"
   ]
  },
  {
   "cell_type": "markdown",
   "metadata": {},
   "source": [
    "## A quick test of the graph"
   ]
  },
  {
   "cell_type": "code",
   "execution_count": 13,
   "metadata": {},
   "outputs": [
    {
     "data": {
      "text/plain": []
     },
     "execution_count": 13,
     "metadata": {},
     "output_type": "execute_result"
    }
   ],
   "source": [
    "Graph<int> graph;"
   ]
  },
  {
   "cell_type": "markdown",
   "metadata": {},
   "source": [
    "The graph instantiates."
   ]
  },
  {
   "cell_type": "code",
   "execution_count": 14,
   "metadata": {},
   "outputs": [
    {
     "name": "stdout",
     "output_type": "stream",
     "text": [
      "Empty graph layout test... done.\n"
     ]
    },
    {
     "data": {
      "text/plain": [
       "(std::basic_ostream<char, std::char_traits<char> >::__ostream_type &) @0x7fdb33373640\n"
      ]
     },
     "execution_count": 14,
     "metadata": {},
     "output_type": "execute_result"
    }
   ],
   "source": [
    "cout << \"Empty graph layout test... \";\n",
    "graph.layout();\n",
    "cout << \"done.\" << endl;"
   ]
  },
  {
   "cell_type": "markdown",
   "metadata": {},
   "source": [
    "The layout function runs when called on an empty graph."
   ]
  },
  {
   "cell_type": "code",
   "execution_count": 15,
   "metadata": {},
   "outputs": [
    {
     "name": "stdout",
     "output_type": "stream",
     "text": [
      "Added 10 vertices in 2.5878e-05 seconds.\n"
     ]
    },
    {
     "data": {
      "text/plain": [
       "(std::basic_ostream<char, std::char_traits<char> >::__ostream_type &) @0x7fdb33373640\n"
      ]
     },
     "execution_count": 15,
     "metadata": {},
     "output_type": "execute_result"
    }
   ],
   "source": [
    "#include <iostream>\n",
    "#include <chrono>\n",
    "using namespace std;\n",
    "using namespace std::chrono;\n",
    "\n",
    "int NUM_VERTICES = 10;\n",
    "int NUM_EDGES = 20;\n",
    "\n",
    "auto start = high_resolution_clock::now(); \n",
    "for(int i=0; i<NUM_VERTICES; i++){\n",
    "  graph.add_vertex(Vertex<int>(i));\n",
    "}\n",
    "\n",
    "for(int n=0; n<NUM_EDGES; ++n){\n",
    "  graph.add_edge(Edge<int>(&graph.V[random() % graph.V.size()], &graph.V[random() % graph.V.size()]));\n",
    "}\n",
    "auto stop = high_resolution_clock::now(); \n",
    "\n",
    "cout << \"Added \" << NUM_VERTICES << \" vertices in \" << duration<double>(stop - start).count() << \" seconds.\" << endl; "
   ]
  },
  {
   "cell_type": "code",
   "execution_count": 16,
   "metadata": {},
   "outputs": [
    {
     "name": "stdout",
     "output_type": "stream",
     "text": [
      "10 vertices\n",
      "20 edges\n"
     ]
    },
    {
     "data": {
      "text/plain": [
       "(std::basic_ostream<char, std::char_traits<char> >::__ostream_type &) @0x7fdb33373640\n"
      ]
     },
     "execution_count": 16,
     "metadata": {},
     "output_type": "execute_result"
    }
   ],
   "source": [
    "cout << graph.V.size() << \" vertices\" << endl;\n",
    "cout << graph.E.size() << \" edges\" << endl;"
   ]
  },
  {
   "cell_type": "code",
   "execution_count": 17,
   "metadata": {},
   "outputs": [
    {
     "name": "stdout",
     "output_type": "stream",
     "text": [
      "Took 1.6478e-05s :  calculate (-13.0254, 8.84873, -14.778)\n"
     ]
    },
    {
     "data": {
      "text/plain": [
       "(std::basic_ostream<char, std::char_traits<char> >::__ostream_type &) @0x7fdb33373640\n"
      ]
     },
     "execution_count": 17,
     "metadata": {},
     "output_type": "execute_result"
    }
   ],
   "source": [
    "#include <iostream>\n",
    "#include <chrono>\n",
    "using namespace std;\n",
    "using namespace std::chrono;\n",
    "\n",
    "auto start2 = high_resolution_clock::now();\n",
    "gmtl::Vec3f all;\n",
    "\n",
    "for(auto i=0; i<graph.V.size(); i++){\n",
    "  for(auto j=0; j<graph.V.size(); j++){\n",
    "    if(i<j){\n",
    "      all += Vertex<int>::pairwise_repulsion(graph.V[i].position, graph.V[j].position);\n",
    "    }\n",
    "  }\n",
    "}\n",
    "auto stop2 = high_resolution_clock::now();\n",
    "cout << \"Took \" << duration<double>(stop2 - start2).count() << \"s : \" << \" calculate \"<< (all / (float)graph.V.size()) << endl;"
   ]
  },
  {
   "cell_type": "code",
   "execution_count": null,
   "metadata": {},
   "outputs": [],
   "source": []
  },
  {
   "cell_type": "markdown",
   "metadata": {},
   "source": [
    "## Testing the insert and estimate functions"
   ]
  },
  {
   "cell_type": "code",
   "execution_count": 18,
   "metadata": {},
   "outputs": [
    {
     "data": {
      "text/plain": []
     },
     "execution_count": 18,
     "metadata": {},
     "output_type": "execute_result"
    }
   ],
   "source": [
    "BarnesHutNode3<int> tree;"
   ]
  },
  {
   "cell_type": "markdown",
   "metadata": {},
   "source": [
    "The tree instantiates."
   ]
  },
  {
   "cell_type": "code",
   "execution_count": 19,
   "metadata": {},
   "outputs": [
    {
     "name": "stdout",
     "output_type": "stream",
     "text": [
      "Took 3.8274e-05s to insert 10 vertices.\n"
     ]
    },
    {
     "data": {
      "text/plain": [
       "(std::basic_ostream<char, std::char_traits<char> >::__ostream_type &) @0x7fdb33373640\n"
      ]
     },
     "execution_count": 19,
     "metadata": {},
     "output_type": "execute_result"
    }
   ],
   "source": [
    "using namespace std;\n",
    "using namespace std::chrono;\n",
    "\n",
    "auto start3 = high_resolution_clock::now();\n",
    "for(auto i=0; i<graph.V.size(); i++){\n",
    "  tree.insert(graph.V[i]);\n",
    "}\n",
    "auto stop3 = high_resolution_clock::now();\n",
    "\n",
    "cout << \"Took \" << duration<double>(stop3 - start3).count() << \"s to insert \" << graph.V.size() << \" vertices.\" << endl;"
   ]
  },
  {
   "cell_type": "markdown",
   "metadata": {},
   "source": [
    "Tree insertion successful."
   ]
  },
  {
   "cell_type": "code",
   "execution_count": 20,
   "metadata": {},
   "outputs": [
    {
     "name": "stdout",
     "output_type": "stream",
     "text": [
      "Took 1.6689e-05s to estimate (-41.0847, 33.4861, -60.7888)\n",
      "Took 5.232e-06s to estimate (11.5379, 79.3279, 69.9932)\n",
      "Took 4.645e-06s to estimate (-20.0824, 13.4598, -78.6327)\n",
      "Took 4.446e-06s to estimate (-6.13158, 22.8258, 5.08472)\n",
      "Took 4.564e-06s to estimate (44.4381, -74.0126, 5.13635)\n",
      "Took 4.296e-06s to estimate (105.859, 3.66134, -85.4243)\n",
      "Took 4.185e-06s to estimate (-46.8627, -53.0464, 45.2093)\n",
      "Took 4.164e-06s to estimate (-67.0642, 22.1356, 15.4438)\n",
      "Took 4.086e-06s to estimate (83.6873, 59.9389, 29.3155)\n",
      "Took 4.107e-06s to estimate (53.5647, -21.2954, 53.8714)\n"
     ]
    },
    {
     "data": {
      "text/plain": []
     },
     "execution_count": 20,
     "metadata": {},
     "output_type": "execute_result"
    }
   ],
   "source": [
    "using namespace std;\n",
    "using namespace std::chrono;\n",
    "\n",
    "for(auto vertex : graph.V){\n",
    "  auto start4 = high_resolution_clock::now();\n",
    "  gmtl::Vec3f force;\n",
    "  tree.estimate(vertex, force, &Vertex<int>::pairwise_repulsion);\n",
    "  auto stop4 = high_resolution_clock::now();\n",
    "  cout << \"Took \" << duration<double>(stop4 - start4).count() << \"s to estimate \" << force << endl;\n",
    "}"
   ]
  },
  {
   "cell_type": "code",
   "execution_count": 21,
   "metadata": {},
   "outputs": [
    {
     "data": {
      "text/plain": [
       "(long [2]) { 149798315, 2038664370 }\n"
      ]
     },
     "execution_count": 21,
     "metadata": {},
     "output_type": "execute_result"
    }
   ],
   "source": [
    "long rs[] = {random(), random()};\n",
    "rs"
   ]
  },
  {
   "cell_type": "markdown",
   "metadata": {},
   "source": [
    "## Testing graph.layout()"
   ]
  },
  {
   "cell_type": "code",
   "execution_count": 22,
   "metadata": {},
   "outputs": [
    {
     "name": "stdout",
     "output_type": "stream",
     "text": [
      "g.layout() took 0.0148651s with 1000 vertices and 3000 edges.\n"
     ]
    },
    {
     "data": {
      "text/plain": [
       "(std::basic_ostream<char, std::char_traits<char> >::__ostream_type &) @0x7fdb33373640\n"
      ]
     },
     "execution_count": 22,
     "metadata": {},
     "output_type": "execute_result"
    }
   ],
   "source": [
    "#include <iostream>\n",
    "#include <chrono>\n",
    "#include <iostream>\n",
    "using namespace std;\n",
    "using namespace std::chrono;\n",
    "\n",
    "NUM_VERTICES = 1000;\n",
    "NUM_EDGES = NUM_VERTICES * 3;\n",
    "\n",
    "time_point start5 = high_resolution_clock::now();\n",
    "Graph<int> g = Graph<int>();\n",
    "for(int i=0; i<NUM_VERTICES; i++){\n",
    "  g.add_vertex(Vertex<int>(i));\n",
    "}\n",
    "for(int i=0; i<NUM_EDGES; i++){\n",
    "  g.add_edge(Edge<int>(&g.V[random() % g.V.size()], &g.V[random() % g.V.size()]));\n",
    "}\n",
    "g.layout();\n",
    "time_point stop5 = high_resolution_clock::now();\n",
    "\n",
    "cout << \"g.layout() took \" << duration<double>(stop5 - start5).count() << \"s with \" << g.V.size() << \" vertices and \" << g.E.size() << \" edges.\" << endl;"
   ]
  },
  {
   "cell_type": "code",
   "execution_count": null,
   "metadata": {},
   "outputs": [],
   "source": []
  },
  {
   "cell_type": "code",
   "execution_count": null,
   "metadata": {},
   "outputs": [],
   "source": []
  },
  {
   "cell_type": "code",
   "execution_count": null,
   "metadata": {},
   "outputs": [],
   "source": []
  },
  {
   "cell_type": "code",
   "execution_count": null,
   "metadata": {},
   "outputs": [],
   "source": []
  }
 ],
 "metadata": {
  "kernelspec": {
   "display_name": "C++17",
   "language": "C++",
   "name": "cling-cpp17"
  },
  "language_info": {
   "codemirror_mode": "c++",
   "file_extension": ".c++",
   "mimetype": "text/x-c++src",
   "name": "c++"
  }
 },
 "nbformat": 4,
 "nbformat_minor": 2
}
