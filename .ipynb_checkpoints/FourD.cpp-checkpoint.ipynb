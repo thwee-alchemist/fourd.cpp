{
 "cells": [
  {
   "cell_type": "markdown",
   "metadata": {},
   "source": [
    "# FourD.cpp\n",
    "[Joshua Marshall Moore](joshua.moore@leudla.net)\n",
    "March 31st, 2019\n",
    "\n",
    "\n",
    "The goal here is to arrive at a dynamic, force directed layout written in cpp, that I can port to WebAssembly. The code is written in C++17, on a CERN's Cling C++ kernel.\n",
    "\n",
    "This code will not be pretty. Please don't evaluate it for prettiness, I wrote it over a weekend. I'm sure there could be more consts, and more private members, but I just wanted to get this going.\n",
    "\n",
    "I will need the following classes: \n",
    "\n",
    "1. Vertex\n",
    "2. Edge\n",
    "3. Graph\n",
    "4. BarnesHutNode3\n",
    "\n",
    "This is the order in which you should read this document. Each class is followed by a few (informal) tests, as appropriate. \n",
    "\n",
    "\n",
    "\n",
    "\n",
    "That should be enough for now. Let's begin: "
   ]
  },
  {
   "cell_type": "code",
   "execution_count": 1,
   "metadata": {},
   "outputs": [
    {
     "data": {
      "text/plain": []
     },
     "execution_count": 1,
     "metadata": {},
     "output_type": "execute_result"
    }
   ],
   "source": [
    "#include \"gmtl/gmtl/Vec.h\"\n",
    "#include \"gmtl/gmtl/VecOps.h\"\n",
    "#include \"gmtl/gmtl.h\"\n",
    "#include <vector>\n",
    "#include <random>\n",
    "#include <iostream>\n",
    "#include <chrono> \n",
    "#include <map>\n",
    "#include <sstream>\n",
    "\n",
    "using namespace std;\n",
    "using namespace std::chrono; \n",
    "using namespace gmtl;"
   ]
  },
  {
   "cell_type": "markdown",
   "metadata": {},
   "source": [
    "## Constants"
   ]
  },
  {
   "cell_type": "code",
   "execution_count": 2,
   "metadata": {},
   "outputs": [
    {
     "name": "stderr",
     "output_type": "stream",
     "text": [
      "\u001b[1minput_line_4:37:108: \u001b[0m\u001b[0;1;31merror: \u001b[0m\u001b[1muse of undeclared identifier 'max_start_pos'\u001b[0m\n",
      "  ..._inner_distance, _attraction, _friction, _gravity, _min_start_pos, max_s...\n",
      "\u001b[0;1;32m                                                                        ^\n",
      "\u001b[0m"
     ]
    },
    {
     "ename": "ename",
     "evalue": "evalue",
     "output_type": "error",
     "traceback": []
    }
   ],
   "source": [
    "float _repulsion = 25.0;\n",
    "float _epsilon = 0.1;\n",
    "float _inner_distance = 0.36;\n",
    "float _attraction = 0.05;\n",
    "float _friction = 0.60;\n",
    "float _gravity = 10;\n",
    " \n",
    "float _min_start_pos = -1.0f;\n",
    "float _max_start_pos = 1.0f;\n",
    "\n",
    "class Settings {\n",
    "  public:\n",
    "  \n",
    "    Settings(float _repulsion, float _epsilon, float _inner_distance, float _attraction, float _friction, float _gravity, float _min_start_pos, float _max_start_pos){\n",
    "      repulsion = _repulsion;\n",
    "      epsilon = _epsilon;\n",
    "      inner_distance = _inner_distance;\n",
    "      attraction = _attraction;\n",
    "      friction = _friction;\n",
    "      gravity = _gravity;\n",
    "      \n",
    "      min_start_pos = _min_start_pos;\n",
    "      max_start_pos = _max_start_pos;\n",
    "    }\n",
    "  \n",
    "    float repulsion;\n",
    "    float epsilon;\n",
    "    float inner_distance;\n",
    "    float attraction;\n",
    "    float friction;\n",
    "    float gravity;\n",
    "    float min_start_pos;\n",
    "    float max_start_pos;\n",
    "};\n",
    "\n",
    "Settings SETTINGS(_repulsion, _epsilon, _inner_distance, _attraction, _friction, _gravity, _min_start_pos, max_start_pos);"
   ]
  },
  {
   "cell_type": "markdown",
   "metadata": {},
   "source": [
    "## The Randomator class\n",
    "The Randomator will return a floating point number in the range -1.0f to 1.0f for use in the Vertex constructor."
   ]
  },
  {
   "cell_type": "code",
   "execution_count": 3,
   "metadata": {},
   "outputs": [
    {
     "data": {
      "text/plain": []
     },
     "execution_count": 3,
     "metadata": {},
     "output_type": "execute_result"
    }
   ],
   "source": [
    "\n",
    "template <typename T>\n",
    "class Randomator {\n",
    "  public:\n",
    "    static inline random_device r;\n",
    "    static inline default_random_engine * engine = new default_random_engine(Randomator::r());\n",
    "    uniform_real_distribution<T> dist;\n",
    "  \n",
    "    Randomator(T min, T max){\n",
    "      this->dist = uniform_real_distribution<T>(min, max);\n",
    "    }\n",
    "\n",
    "    T get(){\n",
    "      return this->dist(*Randomator::engine);\n",
    "    }\n",
    "};"
   ]
  },
  {
   "cell_type": "code",
   "execution_count": 4,
   "metadata": {},
   "outputs": [
    {
     "name": "stdout",
     "output_type": "stream",
     "text": [
      "-0.742835 -0.835422\n"
     ]
    },
    {
     "data": {
      "text/plain": [
       "(std::basic_ostream<char, std::char_traits<char> >::__ostream_type &) @0x7f8fc6f74640\n"
      ]
     },
     "execution_count": 4,
     "metadata": {},
     "output_type": "execute_result"
    }
   ],
   "source": [
    "Randomator<float> ra( -1, 1);\n",
    "cout << ra.get() << \" \" << ra.get() << endl;"
   ]
  },
  {
   "cell_type": "code",
   "execution_count": 5,
   "metadata": {},
   "outputs": [
    {
     "data": {
      "text/plain": []
     },
     "execution_count": 5,
     "metadata": {},
     "output_type": "execute_result"
    }
   ],
   "source": [
    "float length(gmtl::Vec3f v){\n",
    "  return sqrt(v[0]*v[0] + v[1]*v[1] + v[2]*v[2]);\n",
    "};\n"
   ]
  },
  {
   "cell_type": "code",
   "execution_count": 6,
   "metadata": {},
   "outputs": [
    {
     "name": "stdout",
     "output_type": "stream",
     "text": [
      "(-0.930116, -0.463926, 0.799204) (0.221741, 0.793706, -0.190228)\n",
      "(-1.15186, -1.25763, 0.989432)\n"
     ]
    },
    {
     "data": {
      "text/plain": [
       "(std::basic_ostream<char, std::char_traits<char> >::__ostream_type &) @0x7f8fc6f74640\n"
      ]
     },
     "execution_count": 6,
     "metadata": {},
     "output_type": "execute_result"
    }
   ],
   "source": [
    "gmtl::Vec3f vec1(ra.get(), ra.get(), ra.get());\n",
    "gmtl::Vec3f vec2(ra.get(), ra.get(), ra.get());\n",
    "\n",
    "cout << vec1 << \" \" << vec2 << endl;\n",
    "cout << vec1 - vec2 << endl;"
   ]
  },
  {
   "cell_type": "markdown",
   "metadata": {},
   "source": [
    "## The Vertex class"
   ]
  },
  {
   "cell_type": "code",
   "execution_count": 5,
   "metadata": {},
   "outputs": [
    {
     "name": "stderr",
     "output_type": "stream",
     "text": [
      "\u001b[1minput_line_7:4:19: \u001b[0m\u001b[0;1;31merror: \u001b[0m\u001b[1mno template named 'Randomator'\u001b[0m\n",
      "    static inline Randomator<float> r = Randomator<float>(-1.0f, 1.0f);\n",
      "\u001b[0;1;32m                  ^\n",
      "\u001b[0m\u001b[1minput_line_7:4:41: \u001b[0m\u001b[0;1;31merror: \u001b[0m\u001b[1muse of undeclared identifier 'Randomator'\u001b[0m\n",
      "    static inline Randomator<float> r = Randomator<float>(-1.0f, 1.0f);\n",
      "\u001b[0;1;32m                                        ^\n",
      "\u001b[0m\u001b[1minput_line_7:4:57: \u001b[0m\u001b[0;1;31merror: \u001b[0m\u001b[1mexpected '(' for function-style cast or type construction\u001b[0m\n",
      "    static inline Randomator<float> r = Randomator<float>(-1.0f, 1.0f);\n",
      "\u001b[0;1;32m                                                   ~~~~~^\n",
      "\u001b[0m\u001b[1minput_line_7:8:7: \u001b[0m\u001b[0;1;31merror: \u001b[0m\u001b[1muse of undeclared identifier 'settings'; did you mean '_settings'?\u001b[0m\n",
      "      settings = _settings;\n",
      "\u001b[0;1;32m      ^~~~~~~~\n",
      "\u001b[0m\u001b[0;32m      _settings\n",
      "\u001b[0m\u001b[1minput_line_7:7:22: \u001b[0m\u001b[0;1;30mnote: \u001b[0m'_settings' declared here\u001b[0m\n",
      "    Vertex(Settings* _settings, T userdata){\n",
      "\u001b[0;1;32m                     ^\n",
      "\u001b[0m"
     ]
    },
    {
     "ename": "ename",
     "evalue": "evalue",
     "output_type": "error",
     "traceback": []
    }
   ],
   "source": [
    "template <class T>\n",
    "class Vertex {\n",
    "  public:\n",
    "    static inline Randomator<float> r = Randomator<float>(-1.0f, 1.0f);\n",
    "    static inline int _id = 0;\n",
    "  \n",
    "    Vertex(Settings* _settings, T userdata){\n",
    "      settings = _settings;\n",
    "      data = userdata;\n",
    "      position = gmtl::Vec3f(Vertex::r.get(), Vertex::r.get(), Vertex::r.get());\n",
    "      id = Vertex::_id++;\n",
    "    }\n",
    "\n",
    "    int id;\n",
    "    T data;\n",
    "    gmtl::Vec3f position;\n",
    "    gmtl::Vec3f velocity;\n",
    "    gmtl::Vec3f acceleration;\n",
    "  \n",
    "    gmtl::Vec3f repulsion_forces;\n",
    "    gmtl::Vec3f attraction_forces;\n",
    "  \n",
    "    static gmtl::Vec3f pairwise_repulsion(const gmtl::Vec3f& one, const gmtl::Vec3f& other){\n",
    "      gmtl::Vec3f diff = one - other;\n",
    "      // gmtl::Vec3f diff = *(this->position) - *(other->position);\n",
    "      float abs_diff = length(diff);\n",
    "      return  (SETTINGS.repulsion / \n",
    "               ((SETTINGS.epsilon + abs_diff)*(SETTINGS.epsilon + abs_diff)) * \n",
    "               (diff / abs_diff));\n",
    "    }\n",
    "  \n",
    "    bool operator==(const Vertex<T>& other){\n",
    "      return other.id == id;\n",
    "    }\n",
    "  \n",
    "    string toString(){\n",
    "      stringstream ss;\n",
    "      ss << \"Vertex \" << id;\n",
    "      return ss.str();\n",
    "    }\n",
    "};"
   ]
  },
  {
   "cell_type": "markdown",
   "metadata": {},
   "source": [
    "## Testing the Pairwise Repulsion Function"
   ]
  },
  {
   "cell_type": "code",
   "execution_count": 8,
   "metadata": {},
   "outputs": [
    {
     "name": "stdout",
     "output_type": "stream",
     "text": [
      "(-0.893056, 0.747888, -11.4491)\n"
     ]
    },
    {
     "data": {
      "text/plain": [
       "(std::basic_ostream<char, std::char_traits<char> >::__ostream_type &) @0x7f8fc6f74640\n"
      ]
     },
     "execution_count": 8,
     "metadata": {},
     "output_type": "execute_result"
    }
   ],
   "source": [
    "Vertex<int> v1(1);\n",
    "Vertex<int> v2(2);\n",
    "cout << Vertex<int>::pairwise_repulsion(v1.position, v2.position) << std::endl;"
   ]
  },
  {
   "cell_type": "markdown",
   "metadata": {},
   "source": [
    "## The Edge Class\n",
    "An edge connects a source and a target vertex."
   ]
  },
  {
   "cell_type": "code",
   "execution_count": 9,
   "metadata": {},
   "outputs": [
    {
     "data": {
      "text/plain": []
     },
     "execution_count": 9,
     "metadata": {},
     "output_type": "execute_result"
    }
   ],
   "source": [
    "template <class T>\n",
    "class Edge {\n",
    "  public:\n",
    "    static inline int _id = 0;\n",
    "  \n",
    "    Edge(Vertex<T>* _source, Vertex<T>* _target){\n",
    "      source = _source;\n",
    "      target = _target;\n",
    "      id = Edge::_id++;\n",
    "    };\n",
    "\n",
    "    int id;\n",
    "    Vertex<T>* source;\n",
    "    Vertex<T>* target;\n",
    "    bool directed = false;\n",
    "  \n",
    "    string toString(){\n",
    "      stringstream ss;\n",
    "      ss << \"Edge \" << id;\n",
    "      return ss.str();\n",
    "    }\n",
    "};"
   ]
  },
  {
   "cell_type": "markdown",
   "metadata": {},
   "source": [
    "## The Barnes Hut Tree\n",
    "\n",
    "A [Barnes Hut Tree](https://en.wikipedia.org/wiki/Barnes%E2%80%93Hut_simulation) is a three dimensional data structure. Like a binary tree for each axis, it sorts the received data into left/right up/down and in/out by comparing the received position with the calculated center of a node. If a certain distance to the center is overcome, the vertex argument is placed into its own tree node. "
   ]
  },
  {
   "cell_type": "code",
   "execution_count": 10,
   "metadata": {},
   "outputs": [
    {
     "data": {
      "text/plain": []
     },
     "execution_count": 10,
     "metadata": {},
     "output_type": "execute_result"
    }
   ],
   "source": [
    "template <class T>\n",
    "class BarnesHutNode3 {\n",
    "  public:\n",
    "    vector<Vertex<T>> inners;\n",
    "    map<string, BarnesHutNode3<T>*> outers;\n",
    "    gmtl::Vec3f center_sum;\n",
    "    int count = 0;\n",
    "  \n",
    "    gmtl::Vec3f center(){\n",
    "      return this->center_sum / (float)this->count;\n",
    "    }\n",
    "  \n",
    "    void place_inner(Vertex<T>& vertex){\n",
    "      this->inners.push_back(vertex);\n",
    "      this->center_sum += vertex.position;\n",
    "    }\n",
    "  \n",
    "    void place_outer(Vertex<T>& vertex){\n",
    "      string octant = this->get_octant(vertex.position);\n",
    "      // this->outers.insert(make_pair(octant, new BarnesHutNode3<T>()));\n",
    "      this->outers[octant] = new BarnesHutNode3<T>();\n",
    "      this->outers[octant]->insert(vertex);\n",
    "    }\n",
    "  \n",
    "    void insert(Vertex<T>& vertex){\n",
    "      if(this->inners.size() == 0){\n",
    "        this->place_inner(vertex);\n",
    "      }else{\n",
    "        gmtl::Vec3f center = this->center();\n",
    "        gmtl::Vec3f pos = vertex.position;\n",
    "        float distance = sqrt((center[0] - pos[0])*(center[0] - pos[0]) + \n",
    "                             (center[1] - pos[1])*(center[1] - pos[1]) +\n",
    "                             (center[2] - pos[2])*(center[2] - pos[2]));\n",
    "        \n",
    "        if(distance <= SETTINGS.inner_distance){\n",
    "          this->place_inner(vertex);\n",
    "        }else{\n",
    "          this->place_outer(vertex);\n",
    "        }\n",
    "      }\n",
    "      \n",
    "      this->count++;\n",
    "    }\n",
    "  \n",
    "    string get_octant(gmtl::Vec3f& position){\n",
    "      gmtl::Vec3f center = this->center();\n",
    "      string x = center[0] < position[0] ? \"l\" : \"r\";\n",
    "      string y = center[1] < position[1] ? \"u\" : \"d\";\n",
    "      string z = center[2] < position[2] ? \"i\" : \"o\";\n",
    "      return x+y+z;\n",
    "    }\n",
    "  \n",
    "    void estimate(Vertex<T>& vertex, gmtl::Vec3f& force, gmtl::Vec3f (*force_fn)(const gmtl::Vec3f& p1, const gmtl::Vec3f& p2)){\n",
    "      if(find(this->inners.begin(), this->inners.end(), vertex) != this->inners.end()){ // todo: make better, maintain a set or something\n",
    "        for(auto i=0; i<this->inners.size(); i++){\n",
    "          if(this->inners[i].id != vertex.id){\n",
    "            gmtl::Vec3f f = force_fn(vertex.position, this->inners[i].position);\n",
    "            force += f;\n",
    "          }\n",
    "        }\n",
    "      }else{\n",
    "        gmtl::Vec3f f = force_fn(vertex.position, this->center()) * (float)this->inners.size();\n",
    "        force += f;\n",
    "      }\n",
    "      \n",
    "      for(auto &it : this->outers){\n",
    "        this->outers[it.first]->estimate(vertex, force, force_fn);\n",
    "      }\n",
    "    }\n",
    "  \n",
    "    string toString(){\n",
    "      return \"BarnesHutNode3\";\n",
    "    }\n",
    "  \n",
    "    unsigned int size(){\n",
    "      return this->count;\n",
    "    }\n",
    "};"
   ]
  },
  {
   "cell_type": "markdown",
   "metadata": {},
   "source": [
    "## The Graph Class"
   ]
  },
  {
   "cell_type": "code",
   "execution_count": 11,
   "metadata": {},
   "outputs": [
    {
     "data": {
      "text/plain": []
     },
     "execution_count": 11,
     "metadata": {},
     "output_type": "execute_result"
    }
   ],
   "source": [
    "template <class T>\n",
    "class Graph {\n",
    "  public:\n",
    "    void add_vertex(Vertex<T> vertex){\n",
    "      V.push_back(vertex);\n",
    "    }\n",
    "  \n",
    "    void add_edge(Edge<T> edge){\n",
    "      E.push_back(edge);\n",
    "    }\n",
    "  \n",
    "    void remove_vertex(Vertex<T> vertex){\n",
    "      V.erase(vertex);\n",
    "    }\n",
    "  \n",
    "    void remove_edge(Edge<T> edge){\n",
    "      E.erase(edge);\n",
    "    }\n",
    "  \n",
    "    vector<Vertex<T>> V;\n",
    "    vector<Edge<T>> E;\n",
    "  \n",
    "    void layout(){\n",
    "      // calculate repulsions\n",
    "      \n",
    "      BarnesHutNode3<T> tree = BarnesHutNode3<T>();\n",
    "      for(Vertex<T>& vertex : this->V){\n",
    "        tree.insert(vertex);\n",
    "      }\n",
    "      for(Vertex<T>& vertex : this->V){\n",
    "        vertex.repulsion_forces = gmtl::Vec3f();\n",
    "        tree.estimate(\n",
    "          vertex,\n",
    "          vertex.repulsion_forces,\n",
    "          &Vertex<T>::pairwise_repulsion);\n",
    "      }\n",
    "      \n",
    "      // calculate attractions \n",
    "      for(Edge<T> edge : this->E){\n",
    "        gmtl::Vec3f attraction = (edge.source->position - edge.target->position) * (-1 * SETTINGS.attraction);\n",
    "        if(edge.directed){\n",
    "          gmtl::Vec3f sp = edge.source->position;\n",
    "          gmtl::Vec3f tp = edge.target->position;\n",
    "          \n",
    "          float distance = sqrt((sp[0] - tp[0])*(sp[0] - tp[0]) + \n",
    "                                      (sp[1] - tp[1])*(sp[1] - tp[1]) +\n",
    "                                      (sp[2] - tp[2])*(sp[2] - tp[2]));\n",
    "          gmtl::Vec3f gravity = gmtl::Vec3f(0.0f, SETTINGS.gravity/distance, 0.0f);\n",
    "          edge.source->attraction_forces -= attraction;\n",
    "          edge.target->attraction_forces += attraction;\n",
    "        }\n",
    "      }\n",
    "      \n",
    "      // update vertices\n",
    "      for(Vertex<T>& vertex : this->V){\n",
    "        gmtl::Vec3f friction = vertex.velocity * SETTINGS.friction;\n",
    "        vertex.acceleration += vertex.repulsion_forces - vertex.attraction_forces - friction;\n",
    "        vertex.velocity += vertex.acceleration;\n",
    "        vertex.position += vertex.velocity;\n",
    "      }\n",
    "    }\n",
    "};"
   ]
  },
  {
   "cell_type": "markdown",
   "metadata": {},
   "source": [
    "## A Quick Test Of The Graph"
   ]
  },
  {
   "cell_type": "code",
   "execution_count": 12,
   "metadata": {},
   "outputs": [
    {
     "data": {
      "text/plain": []
     },
     "execution_count": 12,
     "metadata": {},
     "output_type": "execute_result"
    }
   ],
   "source": [
    "Graph<int> graph;"
   ]
  },
  {
   "cell_type": "markdown",
   "metadata": {},
   "source": [
    "The graph instantiates."
   ]
  },
  {
   "cell_type": "code",
   "execution_count": 13,
   "metadata": {},
   "outputs": [
    {
     "name": "stdout",
     "output_type": "stream",
     "text": [
      "Empty graph layout test... done.\n"
     ]
    },
    {
     "data": {
      "text/plain": [
       "(std::basic_ostream<char, std::char_traits<char> >::__ostream_type &) @0x7f8fc6f74640\n"
      ]
     },
     "execution_count": 13,
     "metadata": {},
     "output_type": "execute_result"
    }
   ],
   "source": [
    "cout << \"Empty graph layout test... \";\n",
    "graph.layout();\n",
    "cout << \"done.\" << endl;"
   ]
  },
  {
   "cell_type": "markdown",
   "metadata": {},
   "source": [
    "The layout function runs when called on an empty graph."
   ]
  },
  {
   "cell_type": "code",
   "execution_count": 14,
   "metadata": {},
   "outputs": [
    {
     "name": "stdout",
     "output_type": "stream",
     "text": [
      "Added 10 vertices in 2.8046e-05 seconds.\n"
     ]
    },
    {
     "data": {
      "text/plain": [
       "(std::basic_ostream<char, std::char_traits<char> >::__ostream_type &) @0x7f8fc6f74640\n"
      ]
     },
     "execution_count": 14,
     "metadata": {},
     "output_type": "execute_result"
    }
   ],
   "source": [
    "#include <iostream>\n",
    "#include <chrono>\n",
    "using namespace std;\n",
    "using namespace std::chrono;\n",
    "\n",
    "int NUM_VERTICES = 10;\n",
    "int NUM_EDGES = 20;\n",
    "\n",
    "auto start = high_resolution_clock::now(); \n",
    "for(int i=0; i<NUM_VERTICES; i++){\n",
    "  graph.add_vertex(Vertex<int>(i));\n",
    "}\n",
    "\n",
    "for(int n=0; n<NUM_EDGES; ++n){\n",
    "  graph.add_edge(Edge<int>(&graph.V[random() % graph.V.size()], &graph.V[random() % graph.V.size()]));\n",
    "}\n",
    "auto stop = high_resolution_clock::now(); \n",
    "\n",
    "cout << \"Added \" << NUM_VERTICES << \" vertices in \" << duration<double>(stop - start).count() << \" seconds.\" << endl; "
   ]
  },
  {
   "cell_type": "code",
   "execution_count": 15,
   "metadata": {},
   "outputs": [
    {
     "name": "stdout",
     "output_type": "stream",
     "text": [
      "10 vertices\n",
      "20 edges\n"
     ]
    },
    {
     "data": {
      "text/plain": [
       "(std::basic_ostream<char, std::char_traits<char> >::__ostream_type &) @0x7f8fc6f74640\n"
      ]
     },
     "execution_count": 15,
     "metadata": {},
     "output_type": "execute_result"
    }
   ],
   "source": [
    "cout << graph.V.size() << \" vertices\" << endl;\n",
    "cout << graph.E.size() << \" edges\" << endl;"
   ]
  },
  {
   "cell_type": "code",
   "execution_count": 16,
   "metadata": {},
   "outputs": [
    {
     "name": "stdout",
     "output_type": "stream",
     "text": [
      "Took 1.8394e-05s :  calculate (-37.3618, -7.6933, 54.6095)\n"
     ]
    },
    {
     "data": {
      "text/plain": [
       "(std::basic_ostream<char, std::char_traits<char> >::__ostream_type &) @0x7f8fc6f74640\n"
      ]
     },
     "execution_count": 16,
     "metadata": {},
     "output_type": "execute_result"
    }
   ],
   "source": [
    "#include <iostream>\n",
    "#include <chrono>\n",
    "using namespace std;\n",
    "using namespace std::chrono;\n",
    "\n",
    "auto start2 = high_resolution_clock::now();\n",
    "gmtl::Vec3f all;\n",
    "\n",
    "for(auto i=0; i<graph.V.size(); i++){\n",
    "  for(auto j=0; j<graph.V.size(); j++){\n",
    "    if(i<j){\n",
    "      all += Vertex<int>::pairwise_repulsion(graph.V[i].position, graph.V[j].position);\n",
    "    }\n",
    "  }\n",
    "}\n",
    "auto stop2 = high_resolution_clock::now();\n",
    "cout << \"Took \" << duration<double>(stop2 - start2).count() << \"s : \" << \" calculate \"<< (all / (float)graph.V.size()) << endl;"
   ]
  },
  {
   "cell_type": "markdown",
   "metadata": {},
   "source": [
    "## Testing the insert and estimate functions"
   ]
  },
  {
   "cell_type": "code",
   "execution_count": 17,
   "metadata": {},
   "outputs": [
    {
     "data": {
      "text/plain": []
     },
     "execution_count": 17,
     "metadata": {},
     "output_type": "execute_result"
    }
   ],
   "source": [
    "BarnesHutNode3<int> tree;"
   ]
  },
  {
   "cell_type": "markdown",
   "metadata": {},
   "source": [
    "The tree instantiates."
   ]
  },
  {
   "cell_type": "code",
   "execution_count": 18,
   "metadata": {},
   "outputs": [
    {
     "name": "stdout",
     "output_type": "stream",
     "text": [
      "Took 6.4305e-05s to insert 10 vertices.\n"
     ]
    },
    {
     "data": {
      "text/plain": [
       "(std::basic_ostream<char, std::char_traits<char> >::__ostream_type &) @0x7f8fc6f74640\n"
      ]
     },
     "execution_count": 18,
     "metadata": {},
     "output_type": "execute_result"
    }
   ],
   "source": [
    "using namespace std;\n",
    "using namespace std::chrono;\n",
    "\n",
    "auto start3 = high_resolution_clock::now();\n",
    "for(auto i=0; i<graph.V.size(); i++){\n",
    "  tree.insert(graph.V[i]);\n",
    "}\n",
    "auto stop3 = high_resolution_clock::now();\n",
    "\n",
    "cout << \"Took \" << duration<double>(stop3 - start3).count() << \"s to insert \" << graph.V.size() << \" vertices.\" << endl;"
   ]
  },
  {
   "cell_type": "markdown",
   "metadata": {},
   "source": [
    "Tree insertion successful."
   ]
  },
  {
   "cell_type": "code",
   "execution_count": 19,
   "metadata": {},
   "outputs": [
    {
     "name": "stdout",
     "output_type": "stream",
     "text": [
      "Took 1.7493e-05s to estimate (-39.5055, -64.0028, 22.4873)\n",
      "Took 5.796e-06s to estimate (47.9948, -13.4549, -37.5472)\n",
      "Took 5.316e-06s to estimate (55.3846, 68.3745, 53.0173)\n",
      "Took 5.228e-06s to estimate (43.9647, -11.8704, -34.6645)\n",
      "Took 4.847e-06s to estimate (3.3614, 76.6809, 0.982323)\n",
      "Took 4.852e-06s to estimate (24.7808, -114.403, -37.4219)\n",
      "Took 4.714e-06s to estimate (-19.8096, -0.88966, 70.077)\n",
      "Took 4.808e-06s to estimate (-71.0092, -12.4982, -4.47909)\n",
      "Took 4.815e-06s to estimate (70.8571, -32.0233, 37.9446)\n",
      "Took 4.799e-06s to estimate (-1.42983, 0.667215, -76.8855)\n"
     ]
    },
    {
     "data": {
      "text/plain": []
     },
     "execution_count": 19,
     "metadata": {},
     "output_type": "execute_result"
    }
   ],
   "source": [
    "using namespace std;\n",
    "using namespace std::chrono;\n",
    "\n",
    "for(auto vertex : graph.V){\n",
    "  auto start4 = high_resolution_clock::now();\n",
    "  gmtl::Vec3f force;\n",
    "  tree.estimate(vertex, force, &Vertex<int>::pairwise_repulsion);\n",
    "  auto stop4 = high_resolution_clock::now();\n",
    "  cout << \"Took \" << duration<double>(stop4 - start4).count() << \"s to estimate \" << force << endl;\n",
    "}"
   ]
  },
  {
   "cell_type": "code",
   "execution_count": 20,
   "metadata": {},
   "outputs": [
    {
     "data": {
      "text/plain": [
       "(long [2]) { 149798315, 2038664370 }\n"
      ]
     },
     "execution_count": 20,
     "metadata": {},
     "output_type": "execute_result"
    }
   ],
   "source": [
    "long rs[] = {random(), random()};\n",
    "rs"
   ]
  },
  {
   "cell_type": "markdown",
   "metadata": {},
   "source": [
    "This proves that the random number generator indeed returns two different numbers for two different function calls."
   ]
  },
  {
   "cell_type": "markdown",
   "metadata": {},
   "source": [
    "## Testing graph.layout()"
   ]
  },
  {
   "cell_type": "code",
   "execution_count": 21,
   "metadata": {},
   "outputs": [
    {
     "name": "stdout",
     "output_type": "stream",
     "text": [
      "g.layout() took 0.186421s with 10000 vertices and 30000 edges.\n"
     ]
    },
    {
     "data": {
      "text/plain": [
       "(std::basic_ostream<char, std::char_traits<char> >::__ostream_type &) @0x7f8fc6f74640\n"
      ]
     },
     "execution_count": 21,
     "metadata": {},
     "output_type": "execute_result"
    }
   ],
   "source": [
    "#include <iostream>\n",
    "#include <chrono>\n",
    "#include <iostream>\n",
    "using namespace std;\n",
    "using namespace std::chrono;\n",
    "\n",
    "NUM_VERTICES = 10000;\n",
    "NUM_EDGES = NUM_VERTICES * 3;\n",
    "\n",
    "time_point start5 = high_resolution_clock::now();\n",
    "Graph<int> g = Graph<int>();\n",
    "for(int i=0; i<NUM_VERTICES; i++){\n",
    "  g.add_vertex(Vertex<int>(i));\n",
    "}\n",
    "for(int i=0; i<NUM_EDGES; i++){\n",
    "  g.add_edge(Edge<int>(&g.V[random() % g.V.size()], &g.V[random() % g.V.size()]));\n",
    "}\n",
    "g.layout();\n",
    "time_point stop5 = high_resolution_clock::now();\n",
    "\n",
    "cout << \"g.layout() took \" << duration<double>(stop5 - start5).count() << \"s with \" << g.V.size() << \" vertices and \" << g.E.size() << \" edges.\" << endl;"
   ]
  },
  {
   "cell_type": "markdown",
   "metadata": {},
   "source": [
    "## Average Vertex Position\n",
    "\n",
    "The average vertex position is a tool I can use for analysis of the values over multiple layout() calls. \n"
   ]
  },
  {
   "cell_type": "code",
   "execution_count": 22,
   "metadata": {},
   "outputs": [
    {
     "data": {
      "text/plain": []
     },
     "execution_count": 22,
     "metadata": {},
     "output_type": "execute_result"
    }
   ],
   "source": [
    "template <class T>\n",
    "gmtl::Vec3f avg_position(const Graph<T>& graph){\n",
    "  gmtl::Vec3f position;\n",
    "  for(auto vertex : graph.V){\n",
    "    position += vertex.position;\n",
    "  }\n",
    "  return position / (float)graph.V.size();\n",
    "}\n",
    "\n",
    "/* only call this function with type int for now */\n",
    "template <class T>\n",
    "vector<gmtl::Vec3f> average_positions(int iterations, int vertices, int edges){\n",
    "  vector<gmtl::Vec3f> history;\n",
    "  Graph<T> h;\n",
    "  for(int i=0; i<vertices; i++){\n",
    "    h.add_vertex(Vertex<T>(i));\n",
    "  }\n",
    "  for(int i=0; i<edges; i++){\n",
    "    h.add_edge(Edge<T>(&h.V[random() % h.V.size()], &h.V[random() % h.V.size()]));\n",
    "  }\n",
    "\n",
    "  for(int i=0; i<iterations; i++){\n",
    "    h.layout();\n",
    "    cout << \".\";\n",
    "    history.push_back(avg_position(h));\n",
    "  }\n",
    "  \n",
    "  return history;\n",
    "};\n"
   ]
  },
  {
   "cell_type": "code",
   "execution_count": 23,
   "metadata": {},
   "outputs": [
    {
     "name": "stdout",
     "output_type": "stream",
     "text": [
      "(-2.24755, 15.0891, -34.8468)\n"
     ]
    },
    {
     "data": {
      "text/plain": [
       "(std::basic_ostream<char, std::char_traits<char> >::__ostream_type &) @0x7f8fc6f74640\n"
      ]
     },
     "execution_count": 23,
     "metadata": {},
     "output_type": "execute_result"
    }
   ],
   "source": [
    "gmtl::Vec3f pos = avg_position<int>(g);\n",
    "cout << pos << endl;"
   ]
  },
  {
   "cell_type": "code",
   "execution_count": 24,
   "metadata": {},
   "outputs": [
    {
     "data": {
      "text/plain": []
     },
     "execution_count": 24,
     "metadata": {},
     "output_type": "execute_result"
    }
   ],
   "source": [
    "/*\n",
    "cout << avg_position<int>(g) << endl;\n",
    "for(auto n=0; n<100; n++){\n",
    "  g.layout();\n",
    "  cout << \".\";\n",
    "}\n",
    "cout << endl;\n",
    "cout << avg_position<int>(g) << endl;\n",
    "*/"
   ]
  },
  {
   "cell_type": "markdown",
   "metadata": {},
   "source": [
    "This establishes that the graph's layout function has an effect on its vertices' average positions."
   ]
  },
  {
   "cell_type": "code",
   "execution_count": 25,
   "metadata": {},
   "outputs": [
    {
     "data": {
      "text/plain": []
     },
     "execution_count": 25,
     "metadata": {},
     "output_type": "execute_result"
    }
   ],
   "source": [
    "/*\n",
    "auto history = average_positions<int>(200, 2, 1);\n",
    "for(auto i=0; i<history.size(); i++){\n",
    "  cout << length(history[i]) << endl;\n",
    "}\n",
    "*/"
   ]
  },
  {
   "cell_type": "markdown",
   "metadata": {},
   "source": [
    "The graph is oscillating. "
   ]
  },
  {
   "cell_type": "markdown",
   "metadata": {},
   "source": [
    "Let's fix that!"
   ]
  },
  {
   "cell_type": "code",
   "execution_count": 26,
   "metadata": {},
   "outputs": [
    {
     "data": {
      "text/plain": []
     },
     "execution_count": 26,
     "metadata": {},
     "output_type": "execute_result"
    }
   ],
   "source": [
    "#include <vector>\n",
    "template <class T>\n",
    "class Experiment {\n",
    "  public:\n",
    "    Experiment<T>(T& _variable, const std::vector<T>& _values){\n",
    "      variable = &_variable;\n",
    "      values = _values;\n",
    "      \n",
    "      for(auto value : values){\n",
    "        *(this->variable) = value;\n",
    "        this->histories.push_back(average_positions<int>(50, 10, 30));\n",
    "      }\n",
    "    }\n",
    "  \n",
    "    T* variable;\n",
    "    std::vector<T> values;\n",
    "    std::vector<std::vector<gmtl::Vec3f>> histories;\n",
    "};"
   ]
  },
  {
   "cell_type": "code",
   "execution_count": null,
   "metadata": {},
   "outputs": [],
   "source": []
  },
  {
   "cell_type": "code",
   "execution_count": 27,
   "metadata": {},
   "outputs": [
    {
     "name": "stdout",
     "output_type": "stream",
     "text": [
      "attraction\n",
      "............................................................................................................................................................................................................................................................................................................0 50 0 4.14833\n",
      "0 50 1 184.003\n",
      "0 50 2 8843.32\n",
      "0 50 3 424280\n",
      "0 50 4 2.03566e+07\n",
      "0 50 5 9.76693e+08\n",
      "0 50 6 4.68609e+10\n",
      "0 50 7 2.24835e+12\n",
      "0 50 8 1.07874e+14\n",
      "0 50 9 5.1757e+15\n",
      "0 50 10 2.48326e+17\n",
      "0 50 11 1.19144e+19\n",
      "0 50 12 inf\n",
      "0 50 13 inf\n",
      "0 50 14 inf\n",
      "0 50 15 inf\n",
      "0 50 16 inf\n",
      "0 50 17 inf\n",
      "0 50 18 inf\n",
      "0 50 19 inf\n",
      "0 50 20 inf\n",
      "0 50 21 inf\n",
      "0 50 22 -nan\n",
      "0 50 23 -nan\n",
      "0 50 24 -nan\n",
      "0 50 25 -nan\n",
      "0 50 26 -nan\n",
      "0 50 27 -nan\n",
      "0 50 28 -nan\n",
      "0 50 29 -nan\n",
      "0 50 30 -nan\n",
      "0 50 31 -nan\n",
      "0 50 32 -nan\n",
      "0 50 33 -nan\n",
      "0 50 34 -nan\n",
      "0 50 35 -nan\n",
      "0 50 36 -nan\n",
      "0 50 37 -nan\n",
      "0 50 38 -nan\n",
      "0 50 39 -nan\n",
      "0 50 40 -nan\n",
      "0 50 41 -nan\n",
      "0 50 42 -nan\n",
      "0 50 43 -nan\n",
      "0 50 44 -nan\n",
      "0 50 45 -nan\n",
      "0 50 46 -nan\n",
      "0 50 47 -nan\n",
      "0 50 48 -nan\n",
      "0 50 49 -nan\n",
      "1 5 0 37.9672\n",
      "1 5 1 75.4575\n",
      "1 5 2 227.01\n",
      "1 5 3 566.967\n",
      "1 5 4 1512.5\n",
      "1 5 5 3931.92\n",
      "1 5 6 10321.9\n",
      "1 5 7 26995.1\n",
      "1 5 8 70701.9\n",
      "1 5 9 185072\n",
      "1 5 10 484553\n",
      "1 5 11 1.26855e+06\n",
      "1 5 12 3.32113e+06\n",
      "1 5 13 8.6948e+06\n",
      "1 5 14 2.27633e+07\n",
      "1 5 15 5.95951e+07\n",
      "1 5 16 1.56022e+08\n",
      "1 5 17 4.08471e+08\n",
      "1 5 18 1.06939e+09\n",
      "1 5 19 2.7997e+09\n",
      "1 5 20 7.32972e+09\n",
      "1 5 21 1.91895e+10\n",
      "1 5 22 5.02386e+10\n",
      "1 5 23 1.31526e+11\n",
      "1 5 24 3.44341e+11\n",
      "1 5 25 9.01496e+11\n",
      "1 5 26 2.36015e+12\n",
      "1 5 27 6.17894e+12\n",
      "1 5 28 1.61767e+13\n",
      "1 5 29 4.23511e+13\n",
      "1 5 30 1.10877e+14\n",
      "1 5 31 2.90279e+14\n",
      "1 5 32 7.5996e+14\n",
      "1 5 33 1.9896e+15\n",
      "1 5 34 5.20884e+15\n",
      "1 5 35 1.36369e+16\n",
      "1 5 36 3.57019e+16\n",
      "1 5 37 9.34689e+16\n",
      "1 5 38 2.44705e+17\n",
      "1 5 39 6.40645e+17\n",
      "1 5 40 1.67723e+18\n",
      "1 5 41 4.39105e+18\n",
      "1 5 42 1.14959e+19\n",
      "1 5 43 inf\n",
      "1 5 44 inf\n",
      "1 5 45 inf\n",
      "1 5 46 inf\n",
      "1 5 47 inf\n",
      "1 5 48 inf\n",
      "1 5 49 inf\n",
      "2 0.5 0 32.4378\n",
      "2 0.5 1 80.8311\n",
      "2 0.5 2 121.16\n",
      "2 0.5 3 133.261\n",
      "2 0.5 4 111.083\n",
      "2 0.5 5 65.715\n",
      "2 0.5 6 19.842\n",
      "2 0.5 7 3.59679\n",
      "2 0.5 8 6.91984\n",
      "2 0.5 9 46.1886\n",
      "2 0.5 10 94.5772\n",
      "2 0.5 11 127.892\n",
      "2 0.5 12 129.475\n",
      "2 0.5 13 98.5357\n",
      "2 0.5 14 50.5436\n",
      "2 0.5 15 9.49609\n",
      "2 0.5 16 4.07135\n",
      "2 0.5 17 16.4922\n",
      "2 0.5 18 60.9118\n",
      "2 0.5 19 106.979\n",
      "2 0.5 20 131.661\n",
      "2 0.5 21 122.616\n",
      "2 0.5 22 84.3674\n",
      "2 0.5 23 36.0399\n",
      "2 0.5 24 1.80391\n",
      "2 0.5 25 1.20399\n",
      "2 0.5 26 24.5492\n",
      "2 0.5 27 65.9372\n",
      "2 0.5 28 102.365\n",
      "2 0.5 29 115.616\n",
      "2 0.5 30 99.0644\n",
      "2 0.5 31 60.9852\n",
      "2 0.5 32 20.4184\n",
      "2 0.5 33 2.37327\n",
      "2 0.5 34 4.52377\n",
      "2 0.5 35 37.5465\n",
      "2 0.5 36 80.2798\n",
      "2 0.5 37 111.332\n",
      "2 0.5 38 115.176\n",
      "2 0.5 39 89.8885\n",
      "2 0.5 40 48.1127\n",
      "2 0.5 41 10.738\n",
      "2 0.5 42 3.57094\n",
      "2 0.5 43 12.3382\n",
      "2 0.5 44 50.4238\n",
      "2 0.5 45 91.6931\n",
      "2 0.5 46 115.504\n",
      "2 0.5 47 109.95\n",
      "2 0.5 48 77.8071\n",
      "2 0.5 49 35.1468\n",
      "3 0.05 0 9.16499\n",
      "3 0.05 1 27.0876\n",
      "3 0.05 2 52.8486\n",
      "3 0.05 3 85.1592\n",
      "3 0.05 4 122.404\n",
      "3 0.05 5 162.72\n",
      "3 0.05 6 204.092\n",
      "3 0.05 7 244.452\n",
      "3 0.05 8 281.78\n",
      "3 0.05 9 314.212\n",
      "3 0.05 10 340.125\n",
      "3 0.05 11 358.223\n",
      "3 0.05 12 367.603\n",
      "3 0.05 13 367.794\n",
      "3 0.05 14 358.787\n",
      "3 0.05 15 341.033\n",
      "3 0.05 16 315.419\n",
      "3 0.05 17 283.226\n",
      "3 0.05 18 246.063\n",
      "3 0.05 19 205.79\n",
      "3 0.05 20 164.419\n",
      "3 0.05 21 124.018\n",
      "3 0.05 22 86.6091\n",
      "3 0.05 23 54.0615\n",
      "3 0.05 24 28.0031\n",
      "3 0.05 25 9.73773\n",
      "3 0.05 26 0.262676\n",
      "3 0.05 27 1.54542\n",
      "3 0.05 28 13.4999\n",
      "3 0.05 29 35.7881\n",
      "3 0.05 30 67.214\n",
      "3 0.05 31 106.201\n",
      "3 0.05 32 150.797\n",
      "3 0.05 33 198.774\n",
      "3 0.05 34 247.731\n",
      "3 0.05 35 295.221\n",
      "3 0.05 36 338.869\n",
      "3 0.05 37 376.492\n",
      "3 0.05 38 406.21\n",
      "3 0.05 39 426.537\n",
      "3 0.05 40 436.455\n",
      "3 0.05 41 435.47\n",
      "3 0.05 42 423.63\n",
      "3 0.05 43 401.527\n",
      "3 0.05 44 370.267\n",
      "3 0.05 45 331.412\n",
      "3 0.05 46 286.906\n",
      "3 0.05 47 238.973\n",
      "3 0.05 48 190.009\n",
      "3 0.05 49 142.464\n",
      "4 0.005 0 25.2934\n",
      "4 0.005 1 75.4852\n",
      "4 0.005 2 150.459\n",
      "4 0.005 3 249.84\n",
      "4 0.005 4 373.132\n",
      "4 0.005 5 519.717\n",
      "4 0.005 6 688.863\n",
      "4 0.005 7 879.725\n",
      "4 0.005 8 1091.35\n",
      "4 0.005 9 1322.67\n",
      "4 0.005 10 1572.54\n",
      "4 0.005 11 1839.71\n",
      "4 0.005 12 2122.84\n",
      "4 0.005 13 2420.52\n",
      "4 0.005 14 2731.25\n",
      "4 0.005 15 3053.48\n",
      "4 0.005 16 3385.61\n",
      "4 0.005 17 3725.97\n",
      "4 0.005 18 4072.85\n",
      "4 0.005 19 4424.54\n",
      "4 0.005 20 4779.26\n",
      "4 0.005 21 5135.24\n",
      "4 0.005 22 5490.71\n",
      "4 0.005 23 5843.88\n",
      "4 0.005 24 6192.99\n",
      "4 0.005 25 6536.3\n",
      "4 0.005 26 6872.09\n",
      "4 0.005 27 7198.67\n",
      "4 0.005 28 7514.42\n",
      "4 0.005 29 7817.76\n",
      "4 0.005 30 8107.17\n",
      "4 0.005 31 8381.2\n",
      "4 0.005 32 8638.49\n",
      "4 0.005 33 8877.74\n",
      "4 0.005 34 9097.76\n",
      "4 0.005 35 9297.46\n",
      "4 0.005 36 9475.82\n",
      "4 0.005 37 9631.97\n",
      "4 0.005 38 9765.12\n",
      "4 0.005 39 9874.6\n",
      "4 0.005 40 9959.87\n",
      "4 0.005 41 10020.5\n",
      "4 0.005 42 10056.2\n",
      "4 0.005 43 10066.7\n",
      "4 0.005 44 10052.1\n",
      "4 0.005 45 10012.4\n",
      "4 0.005 46 9947.8\n",
      "4 0.005 47 9858.61\n",
      "4 0.005 48 9745.28\n",
      "4 0.005 49 9608.39\n",
      "5 0.0005 0 13.1422\n",
      "5 0.0005 1 39.346\n",
      "5 0.0005 2 78.6405\n",
      "5 0.0005 3 131.004\n",
      "5 0.0005 4 196.409\n",
      "5 0.0005 5 274.824\n",
      "5 0.0005 6 366.208\n",
      "5 0.0005 7 470.518\n",
      "5 0.0005 8 587.699\n",
      "5 0.0005 9 717.694\n",
      "5 0.0005 10 860.438\n",
      "5 0.0005 11 1015.86\n",
      "5 0.0005 12 1183.88\n",
      "5 0.0005 13 1364.42\n",
      "5 0.0005 14 1557.38\n",
      "5 0.0005 15 1762.67\n",
      "5 0.0005 16 1980.18\n",
      "5 0.0005 17 2209.82\n",
      "5 0.0005 18 2451.45\n",
      "5 0.0005 19 2704.97\n",
      "5 0.0005 20 2970.25\n",
      "5 0.0005 21 3247.14\n",
      "5 0.0005 22 3535.52\n",
      "5 0.0005 23 3835.24\n",
      "5 0.0005 24 4146.15\n",
      "5 0.0005 25 4468.09\n",
      "5 0.0005 26 4800.91\n",
      "5 0.0005 27 5144.43\n",
      "5 0.0005 28 5498.49\n",
      "5 0.0005 29 5862.91\n",
      "5 0.0005 30 6237.5\n",
      "5 0.0005 31 6622.09\n",
      "5 0.0005 32 7016.47\n",
      "5 0.0005 33 7420.44\n",
      "5 0.0005 34 7833.82\n",
      "5 0.0005 35 8256.38\n",
      "5 0.0005 36 8687.93\n",
      "5 0.0005 37 9128.24\n",
      "5 0.0005 38 9577.09\n",
      "5 0.0005 39 10034.3\n",
      "5 0.0005 40 10499.5\n",
      "5 0.0005 41 10972.6\n",
      "5 0.0005 42 11453.4\n",
      "5 0.0005 43 11941.5\n",
      "5 0.0005 44 12436.8\n",
      "5 0.0005 45 12938.9\n",
      "5 0.0005 46 13447.7\n",
      "5 0.0005 47 13962.9\n",
      "5 0.0005 48 14484.2\n",
      "5 0.0005 49 15011.3\n",
      "\n"
     ]
    },
    {
     "data": {
      "text/plain": [
       "(std::basic_ostream<char, std::char_traits<char> >::__ostream_type &) @0x7f8fc6f74640\n"
      ]
     },
     "execution_count": 27,
     "metadata": {},
     "output_type": "execute_result"
    }
   ],
   "source": [
    "#include <iostream>\n",
    "#include <chrono>\n",
    "#include <iostream>\n",
    "#include <vector>\n",
    "using namespace std;\n",
    "using namespace std::chrono;\n",
    "\n",
    "cout << \"attraction\" << endl;\n",
    "const std::vector<float> values = vector<float>({50.0f, 5.0f, 0.5f, 0.05f, 0.005f, 0.0005f});\n",
    "Experiment<float> e = Experiment<float>(SETTINGS.friction, values);\n",
    "for(auto i=0; i<e.values.size(); i++){\n",
    "  \n",
    "  for(auto j=0; j<e.histories[i].size(); j++){\n",
    "    cout << i << \" \" << e.values[i] << \" \" << j << \" \" << length(e.histories[i][j]) << endl;\n",
    "  }\n",
    "}\n",
    "cout << endl;"
   ]
  },
  {
   "cell_type": "code",
   "execution_count": null,
   "metadata": {},
   "outputs": [],
   "source": []
  },
  {
   "cell_type": "code",
   "execution_count": null,
   "metadata": {},
   "outputs": [],
   "source": []
  }
 ],
 "metadata": {
  "kernelspec": {
   "display_name": "C++17",
   "language": "C++",
   "name": "cling-cpp17"
  },
  "language_info": {
   "codemirror_mode": "c++",
   "file_extension": ".c++",
   "mimetype": "text/x-c++src",
   "name": "c++"
  }
 },
 "nbformat": 4,
 "nbformat_minor": 2
}
