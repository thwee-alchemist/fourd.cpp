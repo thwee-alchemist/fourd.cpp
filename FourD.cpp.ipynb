{
 "cells": [
  {
   "cell_type": "markdown",
   "metadata": {},
   "source": [
    "# FourD.cpp\n",
    "[Joshua Marshall Moore](joshua.moore@leudla.net)\n",
    "March 31st, 2019\n",
    "\n",
    "\n",
    "The goal here is to arrive at a dynamic, force directed layout written in cpp, that I can port to WebAssembly. The code is written in C++17, on a CERN's Cling C++ kernel.\n",
    "\n",
    "This code will not be pretty. Please don't evaluate it for prettiness, I wrote it over a weekend. I'm sure there could be more consts, and more private members, but I just wanted to get this going.\n",
    "\n",
    "I will need the following classes: \n",
    "\n",
    "1. Vertex\n",
    "2. Edge\n",
    "3. Graph\n",
    "4. BarnesHutNode3\n",
    "\n",
    "This is the order in which you should read this document. Each class is followed by a few (informal) tests, as appropriate. \n",
    "\n",
    "\n",
    "\n",
    "\n",
    "That should be enough for now. Let's begin: "
   ]
  },
  {
   "cell_type": "code",
   "execution_count": 1,
   "metadata": {},
   "outputs": [
    {
     "data": {
      "text/plain": []
     },
     "execution_count": 1,
     "metadata": {},
     "output_type": "execute_result"
    }
   ],
   "source": [
    "#include \"gmtl/gmtl/Vec.h\"\n",
    "#include \"gmtl/gmtl/VecOps.h\"\n",
    "#include \"gmtl/gmtl.h\"\n",
    "#include <vector>\n",
    "#include <random>\n",
    "#include <iostream>\n",
    "#include <chrono> \n",
    "#include <map>\n",
    "#include <sstream>\n",
    "\n",
    "using namespace std;\n",
    "using namespace std::chrono; \n",
    "using namespace gmtl;"
   ]
  },
  {
   "cell_type": "markdown",
   "metadata": {},
   "source": [
    "## Constants"
   ]
  },
  {
   "cell_type": "code",
   "execution_count": 2,
   "metadata": {},
   "outputs": [
    {
     "data": {
      "text/plain": []
     },
     "execution_count": 2,
     "metadata": {},
     "output_type": "execute_result"
    }
   ],
   "source": [
    "class Constants {\n",
    "  public:\n",
    "    static constexpr float repulsion = 25.0;\n",
    "    static constexpr float epsilon = 0.1;\n",
    "    static constexpr float inner_distance = 0.36;\n",
    "    static constexpr float attraction = 0.05;\n",
    "    static constexpr float friction = 0.60;\n",
    "    static constexpr float gravity = 10;\n",
    "  \n",
    "    static constexpr float min_start_pos = -1.0f;\n",
    "    static constexpr float max_start_pos = 1.0f;\n",
    "};\n",
    "\n",
    "class Settings {\n",
    "  public:\n",
    "  \n",
    "    Settings(){\n",
    "      repulsion = Constants::repulsion;\n",
    "      epsilon = Constants::epsilon;\n",
    "      inner_distance = Constants::inner_distance;\n",
    "      attraction = Constants::attraction;\n",
    "      friction = Constants::friction;\n",
    "      gravity = Constants::gravity;\n",
    "      \n",
    "      min_start_pos = Constants::min_start_pos;\n",
    "      max_start_pos = Constants::max_start_pos;\n",
    "    }\n",
    "  \n",
    "    float repulsion;\n",
    "    float epsilon;\n",
    "    float inner_distance;\n",
    "    float attraction;\n",
    "    float friction;\n",
    "    float gravity;\n",
    "    float min_start_pos;\n",
    "    float max_start_pos;\n",
    "};\n",
    "\n",
    "Settings SETTINGS;"
   ]
  },
  {
   "cell_type": "markdown",
   "metadata": {},
   "source": [
    "## The Randomator class\n",
    "The Randomator will return a floating point number in the range -1.0f to 1.0f for use in the Vertex constructor."
   ]
  },
  {
   "cell_type": "code",
   "execution_count": 3,
   "metadata": {},
   "outputs": [
    {
     "data": {
      "text/plain": []
     },
     "execution_count": 3,
     "metadata": {},
     "output_type": "execute_result"
    }
   ],
   "source": [
    "template <typename T>\n",
    "class Randomator {\n",
    "  public:\n",
    "    static inline random_device r;\n",
    "    static inline default_random_engine * engine = new default_random_engine(Randomator::r());\n",
    "    uniform_real_distribution<T> dist;\n",
    "  \n",
    "    Randomator(T min, T max){\n",
    "      this->dist = uniform_real_distribution<T>(min, max);\n",
    "    }\n",
    "\n",
    "    T get(){\n",
    "      return this->dist(*Randomator::engine);\n",
    "    }\n",
    "};"
   ]
  },
  {
   "cell_type": "code",
   "execution_count": 4,
   "metadata": {},
   "outputs": [
    {
     "name": "stdout",
     "output_type": "stream",
     "text": [
      "0.38162 -0.108155\n"
     ]
    },
    {
     "data": {
      "text/plain": [
       "(std::basic_ostream<char, std::char_traits<char> >::__ostream_type &) @0x7efc12803640\n"
      ]
     },
     "execution_count": 4,
     "metadata": {},
     "output_type": "execute_result"
    }
   ],
   "source": [
    "Randomator<float> ra( -1, 1);\n",
    "cout << ra.get() << \" \" << ra.get() << endl;"
   ]
  },
  {
   "cell_type": "code",
   "execution_count": 5,
   "metadata": {},
   "outputs": [
    {
     "data": {
      "text/plain": []
     },
     "execution_count": 5,
     "metadata": {},
     "output_type": "execute_result"
    }
   ],
   "source": [
    "float length(gmtl::Vec3f v){\n",
    "  return sqrt(v[0]*v[0] + v[1]*v[1] + v[2]*v[2]);\n",
    "};\n"
   ]
  },
  {
   "cell_type": "code",
   "execution_count": 6,
   "metadata": {},
   "outputs": [
    {
     "name": "stdout",
     "output_type": "stream",
     "text": [
      "(0.240722, -0.191243, -0.220411) (-0.455604, 0.660524, -0.57834)\n",
      "(0.696326, -0.851767, 0.357929)\n"
     ]
    },
    {
     "data": {
      "text/plain": [
       "(std::basic_ostream<char, std::char_traits<char> >::__ostream_type &) @0x7efc12803640\n"
      ]
     },
     "execution_count": 6,
     "metadata": {},
     "output_type": "execute_result"
    }
   ],
   "source": [
    "gmtl::Vec3f vec1(ra.get(), ra.get(), ra.get());\n",
    "gmtl::Vec3f vec2(ra.get(), ra.get(), ra.get());\n",
    "\n",
    "cout << vec1 << \" \" << vec2 << endl;\n",
    "cout << vec1 - vec2 << endl;"
   ]
  },
  {
   "cell_type": "markdown",
   "metadata": {},
   "source": [
    "## The Vertex class"
   ]
  },
  {
   "cell_type": "code",
   "execution_count": 7,
   "metadata": {},
   "outputs": [
    {
     "data": {
      "text/plain": []
     },
     "execution_count": 7,
     "metadata": {},
     "output_type": "execute_result"
    }
   ],
   "source": [
    "template <class T>\n",
    "class Vertex {\n",
    "  public:\n",
    "    static inline Randomator<float> r = Randomator<float>(-1.0f, 1.0f);\n",
    "    static inline int _id = 0;\n",
    "  \n",
    "    Vertex(T userdata){\n",
    "      data = userdata;\n",
    "      position = gmtl::Vec3f(Vertex::r.get(), Vertex::r.get(), Vertex::r.get());\n",
    "      id = Vertex::_id++;\n",
    "    }\n",
    "\n",
    "    int id;\n",
    "    T data;\n",
    "    gmtl::Vec3f position;\n",
    "    gmtl::Vec3f velocity;\n",
    "    gmtl::Vec3f acceleration;\n",
    "  \n",
    "    gmtl::Vec3f repulsion_forces;\n",
    "    gmtl::Vec3f attraction_forces;\n",
    "  \n",
    "    static gmtl::Vec3f pairwise_repulsion(const gmtl::Vec3f& one, const gmtl::Vec3f& other){\n",
    "      gmtl::Vec3f diff = one - other;\n",
    "      // gmtl::Vec3f diff = *(this->position) - *(other->position);\n",
    "      float abs_diff = length(diff);\n",
    "      return  (Constants::repulsion / \n",
    "               ((SETTINGS.epsilon + abs_diff)*(SETTINGS.epsilon + abs_diff)) * \n",
    "               (diff / abs_diff));\n",
    "    }\n",
    "  \n",
    "    bool operator==(const Vertex<T>& other){\n",
    "      return other.id == id;\n",
    "    }\n",
    "  \n",
    "    string toString(){\n",
    "      stringstream ss;\n",
    "      ss << \"Vertex \" << id;\n",
    "      return ss.str();\n",
    "    }\n",
    "};"
   ]
  },
  {
   "cell_type": "markdown",
   "metadata": {},
   "source": [
    "## Testing the Pairwise Repulsion Function"
   ]
  },
  {
   "cell_type": "code",
   "execution_count": 8,
   "metadata": {},
   "outputs": [
    {
     "name": "stdout",
     "output_type": "stream",
     "text": [
      "(2.94826, 2.88984, 8.31081)\n"
     ]
    },
    {
     "data": {
      "text/plain": [
       "(std::basic_ostream<char, std::char_traits<char> >::__ostream_type &) @0x7efc12803640\n"
      ]
     },
     "execution_count": 8,
     "metadata": {},
     "output_type": "execute_result"
    }
   ],
   "source": [
    "Vertex<int> v1(1);\n",
    "Vertex<int> v2(2);\n",
    "cout << Vertex<int>::pairwise_repulsion(v1.position, v2.position) << std::endl;"
   ]
  },
  {
   "cell_type": "markdown",
   "metadata": {},
   "source": [
    "## The Edge Class\n",
    "An edge connects a source and a target vertex."
   ]
  },
  {
   "cell_type": "code",
   "execution_count": 9,
   "metadata": {},
   "outputs": [
    {
     "data": {
      "text/plain": []
     },
     "execution_count": 9,
     "metadata": {},
     "output_type": "execute_result"
    }
   ],
   "source": [
    "template <class T>\n",
    "class Edge {\n",
    "  public:\n",
    "    static inline int _id = 0;\n",
    "  \n",
    "    Edge(Vertex<T>* _source, Vertex<T>* _target){\n",
    "      source = _source;\n",
    "      target = _target;\n",
    "      id = Edge::_id++;\n",
    "    };\n",
    "\n",
    "    int id;\n",
    "    Vertex<T>* source;\n",
    "    Vertex<T>* target;\n",
    "    bool directed = false;\n",
    "  \n",
    "    string toString(){\n",
    "      stringstream ss;\n",
    "      ss << \"Edge \" << id;\n",
    "      return ss.str();\n",
    "    }\n",
    "};"
   ]
  },
  {
   "cell_type": "markdown",
   "metadata": {},
   "source": [
    "## The Barnes Hut Tree\n",
    "\n",
    "A [Barnes Hut Tree](https://en.wikipedia.org/wiki/Barnes%E2%80%93Hut_simulation) is a three dimensional data structure. Like a binary tree for each axis, it sorts the received data into left/right up/down and in/out by comparing the received position with the calculated center of a node. If a certain distance to the center is overcome, the vertex argument is placed into its own tree node. "
   ]
  },
  {
   "cell_type": "code",
   "execution_count": 10,
   "metadata": {},
   "outputs": [
    {
     "data": {
      "text/plain": []
     },
     "execution_count": 10,
     "metadata": {},
     "output_type": "execute_result"
    }
   ],
   "source": [
    "template <class T>\n",
    "class BarnesHutNode3 {\n",
    "  public:\n",
    "    vector<Vertex<T>> inners;\n",
    "    map<string, BarnesHutNode3<T>*> outers;\n",
    "    gmtl::Vec3f center_sum;\n",
    "    int count = 0;\n",
    "  \n",
    "    gmtl::Vec3f center(){\n",
    "      return this->center_sum / (float)this->count;\n",
    "    }\n",
    "  \n",
    "    void place_inner(Vertex<T>& vertex){\n",
    "      this->inners.push_back(vertex);\n",
    "      this->center_sum += vertex.position;\n",
    "    }\n",
    "  \n",
    "    void place_outer(Vertex<T>& vertex){\n",
    "      string octant = this->get_octant(vertex.position);\n",
    "      // this->outers.insert(make_pair(octant, new BarnesHutNode3<T>()));\n",
    "      this->outers[octant] = new BarnesHutNode3<T>();\n",
    "      this->outers[octant]->insert(vertex);\n",
    "    }\n",
    "  \n",
    "    void insert(Vertex<T>& vertex){\n",
    "      if(this->inners.size() == 0){\n",
    "        this->place_inner(vertex);\n",
    "      }else{\n",
    "        gmtl::Vec3f center = this->center();\n",
    "        gmtl::Vec3f pos = vertex.position;\n",
    "        float distance = sqrt((center[0] - pos[0])*(center[0] - pos[0]) + \n",
    "                             (center[1] - pos[1])*(center[1] - pos[1]) +\n",
    "                             (center[2] - pos[2])*(center[2] - pos[2]));\n",
    "        \n",
    "        if(distance <= SETTINGS.inner_distance){\n",
    "          this->place_inner(vertex);\n",
    "        }else{\n",
    "          this->place_outer(vertex);\n",
    "        }\n",
    "      }\n",
    "      \n",
    "      this->count++;\n",
    "    }\n",
    "  \n",
    "    string get_octant(gmtl::Vec3f& position){\n",
    "      gmtl::Vec3f center = this->center();\n",
    "      string x = center[0] < position[0] ? \"l\" : \"r\";\n",
    "      string y = center[1] < position[1] ? \"u\" : \"d\";\n",
    "      string z = center[2] < position[2] ? \"i\" : \"o\";\n",
    "      return x+y+z;\n",
    "    }\n",
    "  \n",
    "    void estimate(Vertex<T>& vertex, gmtl::Vec3f& force, gmtl::Vec3f (*force_fn)(const gmtl::Vec3f& p1, const gmtl::Vec3f& p2)){\n",
    "      if(find(this->inners.begin(), this->inners.end(), vertex) != this->inners.end()){ // todo: make better, maintain a set or something\n",
    "        for(auto i=0; i<this->inners.size(); i++){\n",
    "          if(this->inners[i].id != vertex.id){\n",
    "            gmtl::Vec3f f = force_fn(vertex.position, this->inners[i].position);\n",
    "            force += f;\n",
    "          }\n",
    "        }\n",
    "      }else{\n",
    "        gmtl::Vec3f f = force_fn(vertex.position, this->center()) * (float)this->inners.size();\n",
    "        force += f;\n",
    "      }\n",
    "      \n",
    "      for(auto &it : this->outers){\n",
    "        this->outers[it.first]->estimate(vertex, force, force_fn);\n",
    "      }\n",
    "    }\n",
    "  \n",
    "    string toString(){\n",
    "      return \"BarnesHutNode3\";\n",
    "    }\n",
    "  \n",
    "    unsigned int size(){\n",
    "      return this->count;\n",
    "    }\n",
    "};"
   ]
  },
  {
   "cell_type": "markdown",
   "metadata": {},
   "source": [
    "## The Graph Class"
   ]
  },
  {
   "cell_type": "code",
   "execution_count": 11,
   "metadata": {},
   "outputs": [
    {
     "data": {
      "text/plain": []
     },
     "execution_count": 11,
     "metadata": {},
     "output_type": "execute_result"
    }
   ],
   "source": [
    "template <class T>\n",
    "class Graph {\n",
    "  public:\n",
    "    void add_vertex(Vertex<T> vertex){\n",
    "      V.push_back(vertex);\n",
    "    }\n",
    "  \n",
    "    void add_edge(Edge<T> edge){\n",
    "      E.push_back(edge);\n",
    "    }\n",
    "  \n",
    "    void remove_vertex(Vertex<T> vertex){\n",
    "      V.erase(vertex);\n",
    "    }\n",
    "  \n",
    "    void remove_edge(Edge<T> edge){\n",
    "      E.erase(edge);\n",
    "    }\n",
    "  \n",
    "    vector<Vertex<T>> V;\n",
    "    vector<Edge<T>> E;\n",
    "  \n",
    "    void layout(){\n",
    "      // calculate repulsions\n",
    "      \n",
    "      BarnesHutNode3<T> tree = BarnesHutNode3<T>();\n",
    "      for(Vertex<T>& vertex : this->V){\n",
    "        tree.insert(vertex);\n",
    "      }\n",
    "      for(Vertex<T>& vertex : this->V){\n",
    "        vertex.repulsion_forces = gmtl::Vec3f();\n",
    "        tree.estimate(\n",
    "          vertex,\n",
    "          vertex.repulsion_forces,\n",
    "          &Vertex<T>::pairwise_repulsion);\n",
    "      }\n",
    "      \n",
    "      // calculate attractions \n",
    "      for(Edge<T> edge : this->E){\n",
    "        gmtl::Vec3f attraction = (edge.source->position - edge.target->position) * (-1 * SETTINGS.attraction);\n",
    "        if(edge.directed){\n",
    "          gmtl::Vec3f sp = edge.source->position;\n",
    "          gmtl::Vec3f tp = edge.target->position;\n",
    "          \n",
    "          float distance = sqrt((sp[0] - tp[0])*(sp[0] - tp[0]) + \n",
    "                                      (sp[1] - tp[1])*(sp[1] - tp[1]) +\n",
    "                                      (sp[2] - tp[2])*(sp[2] - tp[2]));\n",
    "          gmtl::Vec3f gravity = gmtl::Vec3f(0.0f, SETTINGS.gravity/distance, 0.0f);\n",
    "          edge.source->attraction_forces -= attraction;\n",
    "          edge.target->attraction_forces += attraction;\n",
    "        }\n",
    "      }\n",
    "      \n",
    "      // update vertices\n",
    "      for(Vertex<T>& vertex : this->V){\n",
    "        gmtl::Vec3f friction = vertex.velocity * SETTINGS.friction;\n",
    "        vertex.acceleration += vertex.repulsion_forces - vertex.attraction_forces - friction;\n",
    "        vertex.velocity += vertex.acceleration;\n",
    "        vertex.position += vertex.velocity;\n",
    "      }\n",
    "    }\n",
    "};"
   ]
  },
  {
   "cell_type": "markdown",
   "metadata": {},
   "source": [
    "## A Quick Test Of The Graph"
   ]
  },
  {
   "cell_type": "code",
   "execution_count": 12,
   "metadata": {},
   "outputs": [
    {
     "data": {
      "text/plain": []
     },
     "execution_count": 12,
     "metadata": {},
     "output_type": "execute_result"
    }
   ],
   "source": [
    "Graph<int> graph;"
   ]
  },
  {
   "cell_type": "markdown",
   "metadata": {},
   "source": [
    "The graph instantiates."
   ]
  },
  {
   "cell_type": "code",
   "execution_count": 13,
   "metadata": {},
   "outputs": [
    {
     "name": "stdout",
     "output_type": "stream",
     "text": [
      "Empty graph layout test... done.\n"
     ]
    },
    {
     "data": {
      "text/plain": [
       "(std::basic_ostream<char, std::char_traits<char> >::__ostream_type &) @0x7efc12803640\n"
      ]
     },
     "execution_count": 13,
     "metadata": {},
     "output_type": "execute_result"
    }
   ],
   "source": [
    "cout << \"Empty graph layout test... \";\n",
    "graph.layout();\n",
    "cout << \"done.\" << endl;"
   ]
  },
  {
   "cell_type": "markdown",
   "metadata": {},
   "source": [
    "The layout function runs when called on an empty graph."
   ]
  },
  {
   "cell_type": "code",
   "execution_count": 14,
   "metadata": {},
   "outputs": [
    {
     "name": "stdout",
     "output_type": "stream",
     "text": [
      "Added 10 vertices in 2.9802e-05 seconds.\n"
     ]
    },
    {
     "data": {
      "text/plain": [
       "(std::basic_ostream<char, std::char_traits<char> >::__ostream_type &) @0x7efc12803640\n"
      ]
     },
     "execution_count": 14,
     "metadata": {},
     "output_type": "execute_result"
    }
   ],
   "source": [
    "#include <iostream>\n",
    "#include <chrono>\n",
    "using namespace std;\n",
    "using namespace std::chrono;\n",
    "\n",
    "int NUM_VERTICES = 10;\n",
    "int NUM_EDGES = 20;\n",
    "\n",
    "auto start = high_resolution_clock::now(); \n",
    "for(int i=0; i<NUM_VERTICES; i++){\n",
    "  graph.add_vertex(Vertex<int>(i));\n",
    "}\n",
    "\n",
    "for(int n=0; n<NUM_EDGES; ++n){\n",
    "  graph.add_edge(Edge<int>(&graph.V[random() % graph.V.size()], &graph.V[random() % graph.V.size()]));\n",
    "}\n",
    "auto stop = high_resolution_clock::now(); \n",
    "\n",
    "cout << \"Added \" << NUM_VERTICES << \" vertices in \" << duration<double>(stop - start).count() << \" seconds.\" << endl; "
   ]
  },
  {
   "cell_type": "code",
   "execution_count": 15,
   "metadata": {},
   "outputs": [
    {
     "name": "stdout",
     "output_type": "stream",
     "text": [
      "10 vertices\n",
      "20 edges\n"
     ]
    },
    {
     "data": {
      "text/plain": [
       "(std::basic_ostream<char, std::char_traits<char> >::__ostream_type &) @0x7efc12803640\n"
      ]
     },
     "execution_count": 15,
     "metadata": {},
     "output_type": "execute_result"
    }
   ],
   "source": [
    "cout << graph.V.size() << \" vertices\" << endl;\n",
    "cout << graph.E.size() << \" edges\" << endl;"
   ]
  },
  {
   "cell_type": "code",
   "execution_count": 16,
   "metadata": {},
   "outputs": [
    {
     "name": "stdout",
     "output_type": "stream",
     "text": [
      "Took 1.9936e-05s :  calculate (16.1886, -6.76704, -104.33)\n"
     ]
    },
    {
     "data": {
      "text/plain": [
       "(std::basic_ostream<char, std::char_traits<char> >::__ostream_type &) @0x7efc12803640\n"
      ]
     },
     "execution_count": 16,
     "metadata": {},
     "output_type": "execute_result"
    }
   ],
   "source": [
    "#include <iostream>\n",
    "#include <chrono>\n",
    "using namespace std;\n",
    "using namespace std::chrono;\n",
    "\n",
    "auto start2 = high_resolution_clock::now();\n",
    "gmtl::Vec3f all;\n",
    "\n",
    "for(auto i=0; i<graph.V.size(); i++){\n",
    "  for(auto j=0; j<graph.V.size(); j++){\n",
    "    if(i<j){\n",
    "      all += Vertex<int>::pairwise_repulsion(graph.V[i].position, graph.V[j].position);\n",
    "    }\n",
    "  }\n",
    "}\n",
    "auto stop2 = high_resolution_clock::now();\n",
    "cout << \"Took \" << duration<double>(stop2 - start2).count() << \"s : \" << \" calculate \"<< (all / (float)graph.V.size()) << endl;"
   ]
  },
  {
   "cell_type": "markdown",
   "metadata": {},
   "source": [
    "## Testing the insert and estimate functions"
   ]
  },
  {
   "cell_type": "code",
   "execution_count": 17,
   "metadata": {},
   "outputs": [
    {
     "data": {
      "text/plain": []
     },
     "execution_count": 17,
     "metadata": {},
     "output_type": "execute_result"
    }
   ],
   "source": [
    "BarnesHutNode3<int> tree;"
   ]
  },
  {
   "cell_type": "markdown",
   "metadata": {},
   "source": [
    "The tree instantiates."
   ]
  },
  {
   "cell_type": "code",
   "execution_count": 18,
   "metadata": {},
   "outputs": [
    {
     "name": "stdout",
     "output_type": "stream",
     "text": [
      "Took 4.5786e-05s to insert 10 vertices.\n"
     ]
    },
    {
     "data": {
      "text/plain": [
       "(std::basic_ostream<char, std::char_traits<char> >::__ostream_type &) @0x7efc12803640\n"
      ]
     },
     "execution_count": 18,
     "metadata": {},
     "output_type": "execute_result"
    }
   ],
   "source": [
    "using namespace std;\n",
    "using namespace std::chrono;\n",
    "\n",
    "auto start3 = high_resolution_clock::now();\n",
    "for(auto i=0; i<graph.V.size(); i++){\n",
    "  tree.insert(graph.V[i]);\n",
    "}\n",
    "auto stop3 = high_resolution_clock::now();\n",
    "\n",
    "cout << \"Took \" << duration<double>(stop3 - start3).count() << \"s to insert \" << graph.V.size() << \" vertices.\" << endl;"
   ]
  },
  {
   "cell_type": "markdown",
   "metadata": {},
   "source": [
    "Tree insertion successful."
   ]
  },
  {
   "cell_type": "code",
   "execution_count": 19,
   "metadata": {},
   "outputs": [
    {
     "name": "stdout",
     "output_type": "stream",
     "text": [
      "Took 2.077e-05s to estimate (56.836, 47.4924, 52.6478)\n",
      "Took 7.505e-06s to estimate (-0.00730515, 57.6918, 48.1621)\n",
      "Took 7.208e-06s to estimate (-11.6388, -21.0196, -168.688)\n",
      "Took 6.251e-06s to estimate (-24.0433, 14.9528, 21.1843)\n",
      "Took 6.808e-06s to estimate (37.8731, -27.7185, -36.1038)\n",
      "Took 6.738e-06s to estimate (58.7712, -84.4263, -47.997)\n",
      "Took 6.178e-06s to estimate (45.4917, 72.3731, 26.4635)\n",
      "Took 6.927e-06s to estimate (18.4283, -5.1219, -264.572)\n",
      "Took 6.218e-06s to estimate (30.1826, -40.563, -55.8337)\n",
      "Took 6.36e-06s to estimate (-24.1066, -20.9962, -9.91156)\n"
     ]
    },
    {
     "data": {
      "text/plain": []
     },
     "execution_count": 19,
     "metadata": {},
     "output_type": "execute_result"
    }
   ],
   "source": [
    "using namespace std;\n",
    "using namespace std::chrono;\n",
    "\n",
    "for(auto vertex : graph.V){\n",
    "  auto start4 = high_resolution_clock::now();\n",
    "  gmtl::Vec3f force;\n",
    "  tree.estimate(vertex, force, &Vertex<int>::pairwise_repulsion);\n",
    "  auto stop4 = high_resolution_clock::now();\n",
    "  cout << \"Took \" << duration<double>(stop4 - start4).count() << \"s to estimate \" << force << endl;\n",
    "}"
   ]
  },
  {
   "cell_type": "code",
   "execution_count": 20,
   "metadata": {},
   "outputs": [
    {
     "data": {
      "text/plain": [
       "(long [2]) { 149798315, 2038664370 }\n"
      ]
     },
     "execution_count": 20,
     "metadata": {},
     "output_type": "execute_result"
    }
   ],
   "source": [
    "long rs[] = {random(), random()};\n",
    "rs"
   ]
  },
  {
   "cell_type": "markdown",
   "metadata": {},
   "source": [
    "This proves that the random number generator indeed returns two different numbers for two different function calls."
   ]
  },
  {
   "cell_type": "markdown",
   "metadata": {},
   "source": [
    "## Testing graph.layout()"
   ]
  },
  {
   "cell_type": "code",
   "execution_count": 21,
   "metadata": {},
   "outputs": [
    {
     "name": "stdout",
     "output_type": "stream",
     "text": [
      "g.layout() took 0.225734s with 10000 vertices and 30000 edges.\n"
     ]
    },
    {
     "data": {
      "text/plain": [
       "(std::basic_ostream<char, std::char_traits<char> >::__ostream_type &) @0x7efc12803640\n"
      ]
     },
     "execution_count": 21,
     "metadata": {},
     "output_type": "execute_result"
    }
   ],
   "source": [
    "#include <iostream>\n",
    "#include <chrono>\n",
    "#include <iostream>\n",
    "using namespace std;\n",
    "using namespace std::chrono;\n",
    "\n",
    "NUM_VERTICES = 10000;\n",
    "NUM_EDGES = NUM_VERTICES * 3;\n",
    "\n",
    "time_point start5 = high_resolution_clock::now();\n",
    "Graph<int> g = Graph<int>();\n",
    "for(int i=0; i<NUM_VERTICES; i++){\n",
    "  g.add_vertex(Vertex<int>(i));\n",
    "}\n",
    "for(int i=0; i<NUM_EDGES; i++){\n",
    "  g.add_edge(Edge<int>(&g.V[random() % g.V.size()], &g.V[random() % g.V.size()]));\n",
    "}\n",
    "g.layout();\n",
    "time_point stop5 = high_resolution_clock::now();\n",
    "\n",
    "cout << \"g.layout() took \" << duration<double>(stop5 - start5).count() << \"s with \" << g.V.size() << \" vertices and \" << g.E.size() << \" edges.\" << endl;"
   ]
  },
  {
   "cell_type": "markdown",
   "metadata": {},
   "source": [
    "## Average Vertex Position\n",
    "\n",
    "The average vertex position is a tool I can use for analysis of the values over multiple layout() calls. \n"
   ]
  },
  {
   "cell_type": "code",
   "execution_count": 22,
   "metadata": {},
   "outputs": [
    {
     "data": {
      "text/plain": []
     },
     "execution_count": 22,
     "metadata": {},
     "output_type": "execute_result"
    }
   ],
   "source": [
    "template <class T>\n",
    "gmtl::Vec3f avg_position(const Graph<T>& graph){\n",
    "  gmtl::Vec3f position;\n",
    "  for(auto vertex : graph.V){\n",
    "    position += vertex.position;\n",
    "  }\n",
    "  return position / (float)graph.V.size();\n",
    "}\n",
    "\n",
    "/* only call this function with type int for now */\n",
    "template <class T>\n",
    "vector<gmtl::Vec3f> average_positions(int iterations, int vertices, int edges){\n",
    "  vector<gmtl::Vec3f> history;\n",
    "  Graph<T> h;\n",
    "  for(int i=0; i<vertices; i++){\n",
    "    h.add_vertex(Vertex<T>(i));\n",
    "  }\n",
    "  for(int i=0; i<edges; i++){\n",
    "    h.add_edge(Edge<T>(&h.V[random() % h.V.size()], &h.V[random() % h.V.size()]));\n",
    "  }\n",
    "\n",
    "  for(int i=0; i<iterations; i++){\n",
    "    h.layout();\n",
    "    cout << \".\";\n",
    "    history.push_back(avg_position(h));\n",
    "  }\n",
    "  \n",
    "  return history;\n",
    "};\n"
   ]
  },
  {
   "cell_type": "code",
   "execution_count": 23,
   "metadata": {},
   "outputs": [
    {
     "name": "stdout",
     "output_type": "stream",
     "text": [
      "(2.08831, 6.59068, 11.731)\n"
     ]
    },
    {
     "data": {
      "text/plain": [
       "(std::basic_ostream<char, std::char_traits<char> >::__ostream_type &) @0x7efc12803640\n"
      ]
     },
     "execution_count": 23,
     "metadata": {},
     "output_type": "execute_result"
    }
   ],
   "source": [
    "gmtl::Vec3f pos = avg_position<int>(g);\n",
    "cout << pos << endl;"
   ]
  },
  {
   "cell_type": "code",
   "execution_count": 24,
   "metadata": {},
   "outputs": [
    {
     "data": {
      "text/plain": []
     },
     "execution_count": 24,
     "metadata": {},
     "output_type": "execute_result"
    }
   ],
   "source": [
    "/*\n",
    "cout << avg_position<int>(g) << endl;\n",
    "for(auto n=0; n<100; n++){\n",
    "  g.layout();\n",
    "  cout << \".\";\n",
    "}\n",
    "cout << endl;\n",
    "cout << avg_position<int>(g) << endl;\n",
    "*/"
   ]
  },
  {
   "cell_type": "markdown",
   "metadata": {},
   "source": [
    "This establishes that the graph's layout function has an effect on its vertices' average positions."
   ]
  },
  {
   "cell_type": "code",
   "execution_count": 25,
   "metadata": {},
   "outputs": [
    {
     "data": {
      "text/plain": []
     },
     "execution_count": 25,
     "metadata": {},
     "output_type": "execute_result"
    }
   ],
   "source": [
    "/*\n",
    "auto history = average_positions<int>(200, 2, 1);\n",
    "for(auto i=0; i<history.size(); i++){\n",
    "  cout << length(history[i]) << endl;\n",
    "}\n",
    "*/"
   ]
  },
  {
   "cell_type": "markdown",
   "metadata": {},
   "source": [
    "The graph is oscillating. "
   ]
  },
  {
   "cell_type": "markdown",
   "metadata": {},
   "source": [
    "Let's fix that!"
   ]
  },
  {
   "cell_type": "code",
   "execution_count": 26,
   "metadata": {},
   "outputs": [
    {
     "data": {
      "text/plain": []
     },
     "execution_count": 26,
     "metadata": {},
     "output_type": "execute_result"
    }
   ],
   "source": [
    "#include <vector>\n",
    "template <class T>\n",
    "class Experiment {\n",
    "  public:\n",
    "    Experiment<T>(T& _variable, const std::vector<T>& _values){\n",
    "      variable = &_variable;\n",
    "      values = _values;\n",
    "      \n",
    "      for(auto value : values){\n",
    "        *(this->variable) = value;\n",
    "        this->histories.push_back(average_positions<int>(50, 10, 30));\n",
    "      }\n",
    "    }\n",
    "  \n",
    "    T* variable;\n",
    "    std::vector<T> values;\n",
    "    std::vector<std::vector<gmtl::Vec3f>> histories;\n",
    "};"
   ]
  },
  {
   "cell_type": "code",
   "execution_count": 27,
   "metadata": {},
   "outputs": [
    {
     "name": "stdout",
     "output_type": "stream",
     "text": [
      "repulsion\n",
      "..............................................................................................................................................................................................................................................................................................................................................................50\n",
      "12.0457\n",
      "28.964\n",
      "40.5674\n",
      "39.8935\n",
      "27.347\n",
      "10.4566\n",
      "0.664302\n",
      "10.1712\n",
      "17.8691\n",
      "24.1414\n",
      "27.7885\n",
      "26.6116\n",
      "19.8807\n",
      "9.39837\n",
      "1.67746\n",
      "11.0132\n",
      "18.5105\n",
      "24.5686\n",
      "27.8536\n",
      "26.178\n",
      "18.9948\n",
      "8.30941\n",
      "2.67869\n",
      "11.8006\n",
      "19.0961\n",
      "24.8643\n",
      "27.6801\n",
      "25.4779\n",
      "17.9305\n",
      "7.17186\n",
      "3.654\n",
      "12.5561\n",
      "19.7306\n",
      "25.3089\n",
      "27.6803\n",
      "24.8988\n",
      "16.9215\n",
      "6.06834\n",
      "4.57827\n",
      "13.2746\n",
      "20.3178\n",
      "25.7112\n",
      "27.695\n",
      "24.4154\n",
      "16.0566\n",
      "5.0982\n",
      "5.42476\n",
      "13.9325\n",
      "20.8701\n",
      "26.0934\n",
      "------\n",
      "25\n",
      "17.2583\n",
      "41.2611\n",
      "57.7216\n",
      "56.7627\n",
      "38.9599\n",
      "14.9961\n",
      "0.796569\n",
      "0.813728\n",
      "18.6888\n",
      "42.4929\n",
      "57.8087\n",
      "55.4435\n",
      "36.8152\n",
      "13.1009\n",
      "1.49908\n",
      "1.80179\n",
      "20.8132\n",
      "44.3476\n",
      "58.2148\n",
      "54.0905\n",
      "34.4477\n",
      "11.0719\n",
      "2.03663\n",
      "3.04306\n",
      "23.0826\n",
      "46.2121\n",
      "58.5105\n",
      "52.595\n",
      "32.0131\n",
      "9.1136\n",
      "2.38926\n",
      "4.47073\n",
      "25.4144\n",
      "47.998\n",
      "58.6414\n",
      "50.955\n",
      "29.5487\n",
      "7.26632\n",
      "2.55082\n",
      "6.05916\n",
      "27.7724\n",
      "49.6674\n",
      "58.5855\n",
      "49.172\n",
      "27.0734\n",
      "5.54945\n",
      "2.51805\n",
      "7.79228\n",
      "30.13\n",
      "51.193\n",
      "------\n",
      "10\n",
      "20.9423\n",
      "49.9693\n",
      "69.8737\n",
      "68.7129\n",
      "47.1832\n",
      "18.2028\n",
      "0.848602\n",
      "1.36028\n",
      "24.5829\n",
      "55.1735\n",
      "74.6905\n",
      "71.4206\n",
      "47.3245\n",
      "16.8594\n",
      "1.73921\n",
      "2.85054\n",
      "27.8322\n",
      "58.4246\n",
      "76.2104\n",
      "70.5137\n",
      "44.7502\n",
      "14.377\n",
      "2.42664\n",
      "4.64089\n",
      "31.1106\n",
      "61.2878\n",
      "77.0157\n",
      "68.8516\n",
      "41.691\n",
      "11.828\n",
      "2.87041\n",
      "6.65403\n",
      "34.4306\n",
      "63.9699\n",
      "77.5069\n",
      "66.913\n",
      "38.5407\n",
      "9.41053\n",
      "3.06269\n",
      "8.85816\n",
      "37.7462\n",
      "66.4408\n",
      "77.6915\n",
      "64.7412\n",
      "35.3557\n",
      "7.16334\n",
      "3.00342\n",
      "11.2318\n",
      "41.0241\n",
      "68.674\n",
      "------\n",
      "1\n",
      "19.8597\n",
      "47.3582\n",
      "66.214\n",
      "65.1135\n",
      "44.7171\n",
      "17.2625\n",
      "0.781294\n",
      "2.11825\n",
      "24.2663\n",
      "53.8104\n",
      "72.5139\n",
      "69.1243\n",
      "45.6607\n",
      "16.1847\n",
      "1.67016\n",
      "3.60556\n",
      "28.0422\n",
      "57.9834\n",
      "75.1482\n",
      "69.2064\n",
      "43.7061\n",
      "13.9265\n",
      "2.33961\n",
      "5.3198\n",
      "31.0465\n",
      "60.2098\n",
      "75.0932\n",
      "66.736\n",
      "40.1343\n",
      "11.2244\n",
      "2.75219\n",
      "7.23043\n",
      "34.3329\n",
      "62.975\n",
      "75.8143\n",
      "65.1188\n",
      "37.2876\n",
      "8.99228\n",
      "2.92757\n",
      "9.34085\n",
      "37.5314\n",
      "65.3487\n",
      "75.9845\n",
      "63.0313\n",
      "34.2427\n",
      "6.86273\n",
      "2.86824\n",
      "11.6261\n",
      "40.5998\n",
      "67.2687\n",
      "------\n",
      "0.1\n",
      "36.2513\n",
      "86.8162\n",
      "121.491\n",
      "119.47\n",
      "81.9665\n",
      "31.4832\n",
      "1.71447\n",
      "2.54648\n",
      "37.3451\n",
      "85.8241\n",
      "117.37\n",
      "113.005\n",
      "75.3263\n",
      "26.9199\n",
      "3.27174\n",
      "4.05846\n",
      "41.8891\n",
      "89.7002\n",
      "118.046\n",
      "109.873\n",
      "70.0611\n",
      "22.476\n",
      "4.45471\n",
      "6.37364\n",
      "46.6884\n",
      "93.7171\n",
      "118.805\n",
      "106.857\n",
      "65.0207\n",
      "18.3778\n",
      "5.2449\n",
      "9.19579\n",
      "51.8119\n",
      "98.0764\n",
      "119.952\n",
      "104.277\n",
      "60.4367\n",
      "14.7206\n",
      "5.6458\n",
      "12.4203\n",
      "56.8407\n",
      "101.815\n",
      "120.171\n",
      "100.862\n",
      "55.4583\n",
      "11.1988\n",
      "5.64239\n",
      "15.9811\n",
      "61.825\n",
      "105.124\n",
      "------\n",
      "0.01\n",
      "18.574\n",
      "44.3575\n",
      "62.0415\n",
      "61.0158\n",
      "41.8962\n",
      "16.1555\n",
      "0.761913\n",
      "1.65045\n",
      "20.8163\n",
      "47.5666\n",
      "65.0498\n",
      "62.7422\n",
      "42.014\n",
      "15.2899\n",
      "1.52728\n",
      "2.73932\n",
      "23.7979\n",
      "50.769\n",
      "66.9098\n",
      "62.4925\n",
      "40.1468\n",
      "13.2597\n",
      "2.17919\n",
      "4.06764\n",
      "26.6221\n",
      "53.3071\n",
      "67.7271\n",
      "61.1865\n",
      "37.5867\n",
      "11.0633\n",
      "2.63825\n",
      "5.63836\n",
      "29.472\n",
      "55.6721\n",
      "68.2458\n",
      "59.6078\n",
      "34.9173\n",
      "8.96298\n",
      "2.89103\n",
      "7.42172\n",
      "32.3691\n",
      "57.9513\n",
      "68.6186\n",
      "57.9332\n",
      "32.2831\n",
      "7.03579\n",
      "2.93627\n",
      "9.36239\n",
      "35.1363\n",
      "59.8194\n",
      "------\n",
      "0.0001\n",
      "13.4913\n",
      "32.1491\n",
      "44.9472\n",
      "44.2069\n",
      "30.373\n",
      "11.7467\n",
      "0.501534\n",
      "10.3077\n",
      "17.4113\n",
      "23.5964\n",
      "28.366\n",
      "28.4663\n",
      "22.0087\n",
      "10.6493\n",
      "1.53208\n",
      "11.7096\n",
      "18.8171\n",
      "24.0138\n",
      "27.4793\n",
      "26.9304\n",
      "20.5798\n",
      "9.55545\n",
      "2.61625\n",
      "12.8021\n",
      "19.7785\n",
      "24.5927\n",
      "27.4892\n",
      "26.4087\n",
      "19.7035\n",
      "8.51046\n",
      "3.71092\n",
      "13.7508\n",
      "20.5562\n",
      "25.1326\n",
      "27.5751\n",
      "25.9063\n",
      "18.7201\n",
      "7.32897\n",
      "4.8139\n",
      "14.6087\n",
      "21.0536\n",
      "25.263\n",
      "27.3392\n",
      "25.2832\n",
      "17.7527\n",
      "6.1819\n",
      "5.8915\n",
      "15.3815\n",
      "21.4903\n",
      "25.4293\n",
      "------\n"
     ]
    },
    {
     "data": {
      "text/plain": []
     },
     "execution_count": 27,
     "metadata": {},
     "output_type": "execute_result"
    }
   ],
   "source": [
    "#include <iostream>\n",
    "#include <chrono>\n",
    "#include <iostream>\n",
    "#include <vector>\n",
    "using namespace std;\n",
    "using namespace std::chrono;\n",
    "\n",
    "cout << \"repulsion\" << endl;\n",
    "const std::vector<float> values = vector<float>({50.0f, 25.0f, 10.0f, 1.0f, 0.1f, 0.01f, 0.0001f});\n",
    "Experiment<float> e = Experiment<float>(SETTINGS.repulsion, values);\n",
    "for(auto i=0; i<e.values.size(); i++){\n",
    "  cout << e.values[i] << endl;\n",
    "  for(auto j=0; j<e.histories[i].size(); j++){\n",
    "    cout << length(e.histories[i][j]) << endl;\n",
    "  }\n",
    "  cout << \"------\" << endl;\n",
    "}"
   ]
  },
  {
   "cell_type": "code",
   "execution_count": null,
   "metadata": {},
   "outputs": [],
   "source": []
  }
 ],
 "metadata": {
  "kernelspec": {
   "display_name": "C++17",
   "language": "C++",
   "name": "cling-cpp17"
  },
  "language_info": {
   "codemirror_mode": "c++",
   "file_extension": ".c++",
   "mimetype": "text/x-c++src",
   "name": "c++"
  }
 },
 "nbformat": 4,
 "nbformat_minor": 2
}
