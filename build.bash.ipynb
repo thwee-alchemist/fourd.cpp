{
 "cells": [
  {
   "cell_type": "code",
   "execution_count": 2,
   "metadata": {},
   "outputs": [
    {
     "name": "stdout",
     "output_type": "stream",
     "text": [
      "Makefile:14: warning: overriding recipe for target `build/DMVertex.o'\n",
      "Makefile:11: warning: ignoring old recipe for target `build/DMVertex.o'\n",
      "./emsdk/emsdk activate clang-incoming-64bit\n",
      "Writing .emscripten configuration file to user home directory /home/thwee/\n",
      "The Emscripten configuration file /home/thwee/.emscripten has been rewritten with the following contents:\n",
      "\n",
      "import os\n",
      "NODE_JS = '/home/thwee/Code/fourd.cpp/emsdk/node/8.9.1_64bit/bin/node'\n",
      "EMSCRIPTEN_ROOT = '/home/thwee/Code/fourd.cpp/emsdk/emscripten/1.38.30'\n",
      "LLVM_ROOT = '/home/thwee/Code/fourd.cpp/emsdk/clang/fastcomp/build_incoming_64/bin'\n",
      "SPIDERMONKEY_ENGINE = ''\n",
      "V8_ENGINE = ''\n",
      "TEMP_DIR = '/tmp'\n",
      "COMPILER_ENGINE = NODE_JS\n",
      "JS_ENGINES = [NODE_JS]\n",
      "\n",
      "To conveniently access the selected set of tools from the command line, consider adding the following directories to PATH, or call 'source emsdk/emsdk_env.sh' to do this for you.\n",
      "\n",
      "   /home/thwee/Code/fourd.cpp/emsdk:/home/thwee/Code/fourd.cpp/emsdk/node/8.9.1_64bit/bin:/home/thwee/Code/fourd.cpp/emsdk/emscripten/1.38.30:/home/thwee/Code/fourd.cpp/emsdk/clang/fastcomp/build_incoming_64/bin\n",
      "Set the following tools as active:\n",
      "   node-8.9.1-64bit\n",
      "   emscripten-1.38.30\n",
      "   clang-incoming-64bit\n",
      "\n",
      "./emsdk/emsdk_env.sh\n",
      "Adding directories to PATH:\n",
      "PATH += /home/thwee/Code/fourd.cpp/emsdk\n",
      "PATH += /home/thwee/Code/fourd.cpp/emsdk/clang/fastcomp/build_incoming_64/bin\n",
      "PATH += /home/thwee/Code/fourd.cpp/emsdk/node/8.9.1_64bit/bin\n",
      "PATH += /home/thwee/Code/fourd.cpp/emsdk/emscripten/1.38.30\n",
      "\n",
      "Setting environment variables:\n",
      "EMSDK = /home/thwee/Code/fourd.cpp/emsdk\n",
      "EM_CONFIG = /home/thwee/.emscripten\n",
      "LLVM_ROOT = /home/thwee/Code/fourd.cpp/emsdk/clang/fastcomp/build_incoming_64/bin\n",
      "EMSDK_NODE = /home/thwee/Code/fourd.cpp/emsdk/node/8.9.1_64bit/bin/node\n",
      "EMSCRIPTEN = /home/thwee/Code/fourd.cpp/emsdk/emscripten/1.38.30\n",
      "\n",
      "Adding directories to PATH:\n",
      "PATH += /home/thwee/Code/fourd.cpp/emsdk\n",
      "PATH += /home/thwee/Code/fourd.cpp/emsdk/clang/fastcomp/build_incoming_64/bin\n",
      "PATH += /home/thwee/Code/fourd.cpp/emsdk/node/8.9.1_64bit/bin\n",
      "PATH += /home/thwee/Code/fourd.cpp/emsdk/emscripten/1.38.30\n",
      "\n",
      "Setting environment variables:\n",
      "EMSDK = /home/thwee/Code/fourd.cpp/emsdk\n",
      "EM_CONFIG = /home/thwee/.emscripten\n",
      "LLVM_ROOT = /home/thwee/Code/fourd.cpp/emsdk/clang/fastcomp/build_incoming_64/bin\n",
      "EMSDK_NODE = /home/thwee/Code/fourd.cpp/emsdk/node/8.9.1_64bit/bin/node\n",
      "EMSCRIPTEN = /home/thwee/Code/fourd.cpp/emsdk/emscripten/1.38.30\n",
      "\n",
      "cache:INFO: \u001b[32mgenerating system asset: is_vanilla.txt... (this will be cached in \"/home/thwee/.emscripten_cache/is_vanilla.txt\" for subsequent builds)\u001b[0m\n",
      "cache:INFO: \u001b[32m - ok\u001b[0m\n",
      "shared:INFO: \u001b[32m(Emscripten: Running sanity checks)\u001b[0m\n",
      "shared:ERROR: \u001b[31msrc/DynamicMatching.cppsrc/Settings.cpp: No such file or directory (\"src/DynamicMatching.cppsrc/Settings.cpp\" was expected to be an input file, based on the commandline arguments provided)\u001b[0m\n"
     ]
    },
    {
     "ename": "",
     "evalue": "1",
     "execution_count": 2,
     "output_type": "error",
     "traceback": []
    }
   ],
   "source": [
    "make activate\n",
    "source ./emsdk/emsdk_env.sh\n",
    "\n",
    "em++ -I/home/thwee/Code/fourd.cpp/gmtl -std=c++11 src/FourDType.cpp src/Vertex.cpp src/Edge.cpp src/DMVertex.cpp src/DMEdge.cpp src/BarnesHutNode3.cpp src/DynamicMatching.cppsrc/Settings.cpp src/fourd.cpp -s ASSERTIONS=1 -s ALLOW_MEMORY_GROWTH=1 -s SAFE_HEAP=1 -Oz -g4 --bind -o build/fourd.js"
   ]
  },
  {
   "cell_type": "code",
   "execution_count": 1,
   "metadata": {},
   "outputs": [
    {
     "name": "stdout",
     "output_type": "stream",
     "text": [
      "/home/thwee/Code/fourd.cpp\n"
     ]
    }
   ],
   "source": [
    "pwd"
   ]
  },
  {
   "cell_type": "code",
   "execution_count": null,
   "metadata": {},
   "outputs": [],
   "source": []
  }
 ],
 "metadata": {
  "kernelspec": {
   "display_name": "Bash",
   "language": "bash",
   "name": "bash"
  },
  "language_info": {
   "codemirror_mode": "shell",
   "file_extension": ".sh",
   "mimetype": "text/x-sh",
   "name": "bash"
  }
 },
 "nbformat": 4,
 "nbformat_minor": 2
}
