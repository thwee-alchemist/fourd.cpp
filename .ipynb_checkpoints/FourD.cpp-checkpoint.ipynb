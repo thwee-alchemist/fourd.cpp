{
 "cells": [
  {
   "cell_type": "markdown",
   "metadata": {},
   "source": [
    "# FourD.cpp\n",
    "[Joshua Marshall Moore](joshua.moore@leudla.net)\n",
    "March 31st, 2019\n",
    "\n",
    "\n",
    "The goal here is to arrive at a dynamic, force directed layout written in cpp, that I can port to WebAssembly. The code is written in C++17, on a CERN's Cling C++ kernel.\n",
    "\n",
    "This code will not be pretty. Please don't evaluate it for prettiness, I wrote it over a weekend. I'm sure there could be more consts, and more private members, but I just wanted to get this going.\n",
    "\n",
    "I will need the following classes: \n",
    "\n",
    "1. Vertex\n",
    "2. Edge\n",
    "3. Graph\n",
    "4. BarnesHutNode3\n",
    "\n",
    "This is the order in which you should read this document. Each class is followed by a few (informal) tests, as appropriate. \n",
    "\n",
    "\n",
    "\n",
    "\n",
    "That should be enough for now. Let's begin: "
   ]
  },
  {
   "cell_type": "code",
   "execution_count": 1,
   "metadata": {},
   "outputs": [
    {
     "data": {
      "text/plain": []
     },
     "execution_count": 1,
     "metadata": {},
     "output_type": "execute_result"
    }
   ],
   "source": [
    "#include \"gmtl/gmtl/Vec.h\"\n",
    "#include \"gmtl/gmtl/VecOps.h\"\n",
    "#include \"gmtl/gmtl.h\"\n",
    "#include <vector>\n",
    "#include <random>\n",
    "#include <iostream>\n",
    "#include <chrono> \n",
    "#include <map>\n",
    "#include <sstream>\n",
    "\n",
    "using namespace std;\n",
    "using namespace std::chrono; \n",
    "using namespace gmtl;"
   ]
  },
  {
   "cell_type": "markdown",
   "metadata": {},
   "source": [
    "## Constants"
   ]
  },
  {
   "cell_type": "code",
   "execution_count": 2,
   "metadata": {},
   "outputs": [
    {
     "data": {
      "text/plain": []
     },
     "execution_count": 2,
     "metadata": {},
     "output_type": "execute_result"
    }
   ],
   "source": [
    "class Constants {\n",
    "  public:\n",
    "    static constexpr float repulsion = 25.0;\n",
    "    static constexpr float epsilon = 0.1;\n",
    "    static constexpr float inner_distance = 0.36;\n",
    "    static constexpr float attraction = 0.05;\n",
    "    static constexpr float friction = 0.60;\n",
    "    static constexpr float gravity = 10;\n",
    "  \n",
    "    static constexpr float min_start_pos = -1.0f;\n",
    "    static constexpr float max_start_pos = 1.0f;\n",
    "};\n",
    "\n",
    "class Settings {\n",
    "  public:\n",
    "  \n",
    "    Settings(){\n",
    "      repulsion = Constants::repulsion;\n",
    "      epsilon = Constants::epsilon;\n",
    "      inner_distance = Constants::inner_distance;\n",
    "      attraction = Constants::attraction;\n",
    "      friction = Constants::friction;\n",
    "      gravity = Constants::gravity;\n",
    "      \n",
    "      min_start_pos = Constants::min_start_pos;\n",
    "      max_start_pos = Constants::max_start_pos;\n",
    "    }\n",
    "  \n",
    "    float repulsion;\n",
    "    float epsilon;\n",
    "    float inner_distance;\n",
    "    float attraction;\n",
    "    float friction;\n",
    "    float gravity;\n",
    "    float min_start_pos;\n",
    "    float max_start_pos;\n",
    "};\n",
    "\n",
    "Settings SETTINGS;"
   ]
  },
  {
   "cell_type": "markdown",
   "metadata": {},
   "source": [
    "## The Randomator class\n",
    "The Randomator will return a floating point number in the range -1.0f to 1.0f for use in the Vertex constructor."
   ]
  },
  {
   "cell_type": "code",
   "execution_count": 3,
   "metadata": {},
   "outputs": [
    {
     "data": {
      "text/plain": []
     },
     "execution_count": 3,
     "metadata": {},
     "output_type": "execute_result"
    }
   ],
   "source": [
    "template <typename T>\n",
    "class Randomator {\n",
    "  public:\n",
    "    static inline random_device r;\n",
    "    static inline default_random_engine * engine = new default_random_engine(Randomator::r());\n",
    "    uniform_real_distribution<T> dist;\n",
    "  \n",
    "    Randomator(T min, T max){\n",
    "      this->dist = uniform_real_distribution<T>(min, max);\n",
    "    }\n",
    "\n",
    "    T get(){\n",
    "      return this->dist(*Randomator::engine);\n",
    "    }\n",
    "};"
   ]
  },
  {
   "cell_type": "code",
   "execution_count": 4,
   "metadata": {},
   "outputs": [
    {
     "name": "stdout",
     "output_type": "stream",
     "text": [
      "0.777942 0.875919\n"
     ]
    },
    {
     "data": {
      "text/plain": [
       "(std::basic_ostream<char, std::char_traits<char> >::__ostream_type &) @0x7f4e343a6640\n"
      ]
     },
     "execution_count": 4,
     "metadata": {},
     "output_type": "execute_result"
    }
   ],
   "source": [
    "Randomator<float> ra( -1, 1);\n",
    "cout << ra.get() << \" \" << ra.get() << endl;"
   ]
  },
  {
   "cell_type": "code",
   "execution_count": 5,
   "metadata": {},
   "outputs": [
    {
     "data": {
      "text/plain": []
     },
     "execution_count": 5,
     "metadata": {},
     "output_type": "execute_result"
    }
   ],
   "source": [
    "float length(gmtl::Vec3f v){\n",
    "  return sqrt(v[0]*v[0] + v[1]*v[1] + v[2]*v[2]);\n",
    "};\n"
   ]
  },
  {
   "cell_type": "code",
   "execution_count": 6,
   "metadata": {},
   "outputs": [
    {
     "name": "stdout",
     "output_type": "stream",
     "text": [
      "(-0.434983, -0.762238, -0.927718) (-0.15407, 0.544716, -0.965398)\n",
      "(-0.280913, -1.30695, 0.0376803)\n"
     ]
    },
    {
     "data": {
      "text/plain": [
       "(std::basic_ostream<char, std::char_traits<char> >::__ostream_type &) @0x7f4e343a6640\n"
      ]
     },
     "execution_count": 6,
     "metadata": {},
     "output_type": "execute_result"
    }
   ],
   "source": [
    "gmtl::Vec3f vec1(ra.get(), ra.get(), ra.get());\n",
    "gmtl::Vec3f vec2(ra.get(), ra.get(), ra.get());\n",
    "\n",
    "cout << vec1 << \" \" << vec2 << endl;\n",
    "cout << vec1 - vec2 << endl;"
   ]
  },
  {
   "cell_type": "markdown",
   "metadata": {},
   "source": [
    "## The Vertex class"
   ]
  },
  {
   "cell_type": "code",
   "execution_count": 7,
   "metadata": {},
   "outputs": [
    {
     "data": {
      "text/plain": []
     },
     "execution_count": 7,
     "metadata": {},
     "output_type": "execute_result"
    }
   ],
   "source": [
    "template <class T>\n",
    "class Vertex {\n",
    "  public:\n",
    "    static inline Randomator<float> r = Randomator<float>(-1.0f, 1.0f);\n",
    "    static inline int _id = 0;\n",
    "  \n",
    "    Vertex(T userdata){\n",
    "      data = userdata;\n",
    "      position = gmtl::Vec3f(Vertex::r.get(), Vertex::r.get(), Vertex::r.get());\n",
    "      id = Vertex::_id++;\n",
    "    }\n",
    "\n",
    "    int id;\n",
    "    T data;\n",
    "    gmtl::Vec3f position;\n",
    "    gmtl::Vec3f velocity;\n",
    "    gmtl::Vec3f acceleration;\n",
    "  \n",
    "    gmtl::Vec3f repulsion_forces;\n",
    "    gmtl::Vec3f attraction_forces;\n",
    "  \n",
    "    static gmtl::Vec3f pairwise_repulsion(const gmtl::Vec3f& one, const gmtl::Vec3f& other){\n",
    "      gmtl::Vec3f diff = one - other;\n",
    "      // gmtl::Vec3f diff = *(this->position) - *(other->position);\n",
    "      float abs_diff = length(diff);\n",
    "      return  (Constants::repulsion / \n",
    "               ((SETTINGS.epsilon + abs_diff)*(SETTINGS.epsilon + abs_diff)) * \n",
    "               (diff / abs_diff));\n",
    "    }\n",
    "  \n",
    "    bool operator==(const Vertex<T>& other){\n",
    "      return other.id == id;\n",
    "    }\n",
    "  \n",
    "    string toString(){\n",
    "      stringstream ss;\n",
    "      ss << \"Vertex \" << id;\n",
    "      return ss.str();\n",
    "    }\n",
    "};"
   ]
  },
  {
   "cell_type": "markdown",
   "metadata": {},
   "source": [
    "## Testing the Pairwise Repulsion Function"
   ]
  },
  {
   "cell_type": "code",
   "execution_count": 8,
   "metadata": {},
   "outputs": [
    {
     "name": "stdout",
     "output_type": "stream",
     "text": [
      "(2.03346, -6.52093, 3.3757)\n"
     ]
    },
    {
     "data": {
      "text/plain": [
       "(std::basic_ostream<char, std::char_traits<char> >::__ostream_type &) @0x7f4e343a6640\n"
      ]
     },
     "execution_count": 8,
     "metadata": {},
     "output_type": "execute_result"
    }
   ],
   "source": [
    "Vertex<int> v1(1);\n",
    "Vertex<int> v2(2);\n",
    "cout << Vertex<int>::pairwise_repulsion(v1.position, v2.position) << std::endl;"
   ]
  },
  {
   "cell_type": "markdown",
   "metadata": {},
   "source": [
    "## The Edge Class\n",
    "An edge connects a source and a target vertex."
   ]
  },
  {
   "cell_type": "code",
   "execution_count": 9,
   "metadata": {},
   "outputs": [
    {
     "data": {
      "text/plain": []
     },
     "execution_count": 9,
     "metadata": {},
     "output_type": "execute_result"
    }
   ],
   "source": [
    "template <class T>\n",
    "class Edge {\n",
    "  public:\n",
    "    static inline int _id = 0;\n",
    "  \n",
    "    Edge(Vertex<T>* _source, Vertex<T>* _target){\n",
    "      source = _source;\n",
    "      target = _target;\n",
    "      id = Edge::_id++;\n",
    "    };\n",
    "\n",
    "    int id;\n",
    "    Vertex<T>* source;\n",
    "    Vertex<T>* target;\n",
    "    bool directed = false;\n",
    "  \n",
    "    string toString(){\n",
    "      stringstream ss;\n",
    "      ss << \"Edge \" << id;\n",
    "      return ss.str();\n",
    "    }\n",
    "};"
   ]
  },
  {
   "cell_type": "markdown",
   "metadata": {},
   "source": [
    "## The Barnes Hut Tree\n",
    "\n",
    "A [Barnes Hut Tree](https://en.wikipedia.org/wiki/Barnes%E2%80%93Hut_simulation) is a three dimensional data structure. Like a binary tree for each axis, it sorts the received data into left/right up/down and in/out by comparing the received position with the calculated center of a node. If a certain distance to the center is overcome, the vertex argument is placed into its own tree node. "
   ]
  },
  {
   "cell_type": "code",
   "execution_count": 10,
   "metadata": {},
   "outputs": [
    {
     "data": {
      "text/plain": []
     },
     "execution_count": 10,
     "metadata": {},
     "output_type": "execute_result"
    }
   ],
   "source": [
    "template <class T>\n",
    "class BarnesHutNode3 {\n",
    "  public:\n",
    "    vector<Vertex<T>> inners;\n",
    "    map<string, BarnesHutNode3<T>*> outers;\n",
    "    gmtl::Vec3f center_sum;\n",
    "    int count = 0;\n",
    "  \n",
    "    gmtl::Vec3f center(){\n",
    "      return this->center_sum / (float)this->count;\n",
    "    }\n",
    "  \n",
    "    void place_inner(Vertex<T>& vertex){\n",
    "      this->inners.push_back(vertex);\n",
    "      this->center_sum += vertex.position;\n",
    "    }\n",
    "  \n",
    "    void place_outer(Vertex<T>& vertex){\n",
    "      string octant = this->get_octant(vertex.position);\n",
    "      // this->outers.insert(make_pair(octant, new BarnesHutNode3<T>()));\n",
    "      this->outers[octant] = new BarnesHutNode3<T>();\n",
    "      this->outers[octant]->insert(vertex);\n",
    "    }\n",
    "  \n",
    "    void insert(Vertex<T>& vertex){\n",
    "      if(this->inners.size() == 0){\n",
    "        this->place_inner(vertex);\n",
    "      }else{\n",
    "        gmtl::Vec3f center = this->center();\n",
    "        gmtl::Vec3f pos = vertex.position;\n",
    "        float distance = sqrt((center[0] - pos[0])*(center[0] - pos[0]) + \n",
    "                             (center[1] - pos[1])*(center[1] - pos[1]) +\n",
    "                             (center[2] - pos[2])*(center[2] - pos[2]));\n",
    "        \n",
    "        if(distance <= SETTINGS.inner_distance){\n",
    "          this->place_inner(vertex);\n",
    "        }else{\n",
    "          this->place_outer(vertex);\n",
    "        }\n",
    "      }\n",
    "      \n",
    "      this->count++;\n",
    "    }\n",
    "  \n",
    "    string get_octant(gmtl::Vec3f& position){\n",
    "      gmtl::Vec3f center = this->center();\n",
    "      string x = center[0] < position[0] ? \"l\" : \"r\";\n",
    "      string y = center[1] < position[1] ? \"u\" : \"d\";\n",
    "      string z = center[2] < position[2] ? \"i\" : \"o\";\n",
    "      return x+y+z;\n",
    "    }\n",
    "  \n",
    "    void estimate(Vertex<T>& vertex, gmtl::Vec3f& force, gmtl::Vec3f (*force_fn)(const gmtl::Vec3f& p1, const gmtl::Vec3f& p2)){\n",
    "      if(find(this->inners.begin(), this->inners.end(), vertex) != this->inners.end()){ // todo: make better, maintain a set or something\n",
    "        for(auto i=0; i<this->inners.size(); i++){\n",
    "          if(this->inners[i].id != vertex.id){\n",
    "            gmtl::Vec3f f = force_fn(vertex.position, this->inners[i].position);\n",
    "            force += f;\n",
    "          }\n",
    "        }\n",
    "      }else{\n",
    "        gmtl::Vec3f f = force_fn(vertex.position, this->center()) * (float)this->inners.size();\n",
    "        force += f;\n",
    "      }\n",
    "      \n",
    "      for(auto &it : this->outers){\n",
    "        this->outers[it.first]->estimate(vertex, force, force_fn);\n",
    "      }\n",
    "    }\n",
    "  \n",
    "    string toString(){\n",
    "      return \"BarnesHutNode3\";\n",
    "    }\n",
    "  \n",
    "    unsigned int size(){\n",
    "      return this->count;\n",
    "    }\n",
    "};"
   ]
  },
  {
   "cell_type": "markdown",
   "metadata": {},
   "source": [
    "## The Graph Class"
   ]
  },
  {
   "cell_type": "code",
   "execution_count": 11,
   "metadata": {},
   "outputs": [
    {
     "data": {
      "text/plain": []
     },
     "execution_count": 11,
     "metadata": {},
     "output_type": "execute_result"
    }
   ],
   "source": [
    "template <class T>\n",
    "class Graph {\n",
    "  public:\n",
    "    void add_vertex(Vertex<T> vertex){\n",
    "      V.push_back(vertex);\n",
    "    }\n",
    "  \n",
    "    void add_edge(Edge<T> edge){\n",
    "      E.push_back(edge);\n",
    "    }\n",
    "  \n",
    "    void remove_vertex(Vertex<T> vertex){\n",
    "      V.erase(vertex);\n",
    "    }\n",
    "  \n",
    "    void remove_edge(Edge<T> edge){\n",
    "      E.erase(edge);\n",
    "    }\n",
    "  \n",
    "    vector<Vertex<T>> V;\n",
    "    vector<Edge<T>> E;\n",
    "  \n",
    "    void layout(){\n",
    "      // calculate repulsions\n",
    "      \n",
    "      BarnesHutNode3<T> tree = BarnesHutNode3<T>();\n",
    "      for(Vertex<T>& vertex : this->V){\n",
    "        tree.insert(vertex);\n",
    "      }\n",
    "      for(Vertex<T>& vertex : this->V){\n",
    "        vertex.repulsion_forces = gmtl::Vec3f();\n",
    "        tree.estimate(\n",
    "          vertex,\n",
    "          vertex.repulsion_forces,\n",
    "          &Vertex<T>::pairwise_repulsion);\n",
    "      }\n",
    "      \n",
    "      // calculate attractions \n",
    "      for(Edge<T> edge : this->E){\n",
    "        gmtl::Vec3f attraction = (edge.source->position - edge.target->position) * (-1 * SETTINGS.attraction);\n",
    "        if(edge.directed){\n",
    "          gmtl::Vec3f sp = edge.source->position;\n",
    "          gmtl::Vec3f tp = edge.target->position;\n",
    "          \n",
    "          float distance = sqrt((sp[0] - tp[0])*(sp[0] - tp[0]) + \n",
    "                                      (sp[1] - tp[1])*(sp[1] - tp[1]) +\n",
    "                                      (sp[2] - tp[2])*(sp[2] - tp[2]));\n",
    "          gmtl::Vec3f gravity = gmtl::Vec3f(0.0f, SETTINGS.gravity/distance, 0.0f);\n",
    "          edge.source->attraction_forces -= attraction;\n",
    "          edge.target->attraction_forces += attraction;\n",
    "        }\n",
    "      }\n",
    "      \n",
    "      // update vertices\n",
    "      for(Vertex<T>& vertex : this->V){\n",
    "        gmtl::Vec3f friction = vertex.velocity * SETTINGS.friction;\n",
    "        vertex.acceleration += vertex.repulsion_forces - vertex.attraction_forces - friction;\n",
    "        vertex.velocity += vertex.acceleration;\n",
    "        vertex.position += vertex.velocity;\n",
    "      }\n",
    "    }\n",
    "};"
   ]
  },
  {
   "cell_type": "markdown",
   "metadata": {},
   "source": [
    "## A Quick Test Of The Graph"
   ]
  },
  {
   "cell_type": "code",
   "execution_count": 12,
   "metadata": {},
   "outputs": [
    {
     "data": {
      "text/plain": []
     },
     "execution_count": 12,
     "metadata": {},
     "output_type": "execute_result"
    }
   ],
   "source": [
    "Graph<int> graph;"
   ]
  },
  {
   "cell_type": "markdown",
   "metadata": {},
   "source": [
    "The graph instantiates."
   ]
  },
  {
   "cell_type": "code",
   "execution_count": 13,
   "metadata": {},
   "outputs": [
    {
     "name": "stdout",
     "output_type": "stream",
     "text": [
      "Empty graph layout test... done.\n"
     ]
    },
    {
     "data": {
      "text/plain": [
       "(std::basic_ostream<char, std::char_traits<char> >::__ostream_type &) @0x7f4e343a6640\n"
      ]
     },
     "execution_count": 13,
     "metadata": {},
     "output_type": "execute_result"
    }
   ],
   "source": [
    "cout << \"Empty graph layout test... \";\n",
    "graph.layout();\n",
    "cout << \"done.\" << endl;"
   ]
  },
  {
   "cell_type": "markdown",
   "metadata": {},
   "source": [
    "The layout function runs when called on an empty graph."
   ]
  },
  {
   "cell_type": "code",
   "execution_count": 14,
   "metadata": {},
   "outputs": [
    {
     "name": "stdout",
     "output_type": "stream",
     "text": [
      "Added 10 vertices in 2.5494e-05 seconds.\n"
     ]
    },
    {
     "data": {
      "text/plain": [
       "(std::basic_ostream<char, std::char_traits<char> >::__ostream_type &) @0x7f4e343a6640\n"
      ]
     },
     "execution_count": 14,
     "metadata": {},
     "output_type": "execute_result"
    }
   ],
   "source": [
    "#include <iostream>\n",
    "#include <chrono>\n",
    "using namespace std;\n",
    "using namespace std::chrono;\n",
    "\n",
    "int NUM_VERTICES = 10;\n",
    "int NUM_EDGES = 20;\n",
    "\n",
    "auto start = high_resolution_clock::now(); \n",
    "for(int i=0; i<NUM_VERTICES; i++){\n",
    "  graph.add_vertex(Vertex<int>(i));\n",
    "}\n",
    "\n",
    "for(int n=0; n<NUM_EDGES; ++n){\n",
    "  graph.add_edge(Edge<int>(&graph.V[random() % graph.V.size()], &graph.V[random() % graph.V.size()]));\n",
    "}\n",
    "auto stop = high_resolution_clock::now(); \n",
    "\n",
    "cout << \"Added \" << NUM_VERTICES << \" vertices in \" << duration<double>(stop - start).count() << \" seconds.\" << endl; "
   ]
  },
  {
   "cell_type": "code",
   "execution_count": 15,
   "metadata": {},
   "outputs": [
    {
     "name": "stdout",
     "output_type": "stream",
     "text": [
      "10 vertices\n",
      "20 edges\n"
     ]
    },
    {
     "data": {
      "text/plain": [
       "(std::basic_ostream<char, std::char_traits<char> >::__ostream_type &) @0x7f4e343a6640\n"
      ]
     },
     "execution_count": 15,
     "metadata": {},
     "output_type": "execute_result"
    }
   ],
   "source": [
    "cout << graph.V.size() << \" vertices\" << endl;\n",
    "cout << graph.E.size() << \" edges\" << endl;"
   ]
  },
  {
   "cell_type": "code",
   "execution_count": 16,
   "metadata": {},
   "outputs": [
    {
     "name": "stdout",
     "output_type": "stream",
     "text": [
      "Took 1.663e-05s :  calculate (7.87552, 1.28477, 4.90479)\n"
     ]
    },
    {
     "data": {
      "text/plain": [
       "(std::basic_ostream<char, std::char_traits<char> >::__ostream_type &) @0x7f4e343a6640\n"
      ]
     },
     "execution_count": 16,
     "metadata": {},
     "output_type": "execute_result"
    }
   ],
   "source": [
    "#include <iostream>\n",
    "#include <chrono>\n",
    "using namespace std;\n",
    "using namespace std::chrono;\n",
    "\n",
    "auto start2 = high_resolution_clock::now();\n",
    "gmtl::Vec3f all;\n",
    "\n",
    "for(auto i=0; i<graph.V.size(); i++){\n",
    "  for(auto j=0; j<graph.V.size(); j++){\n",
    "    if(i<j){\n",
    "      all += Vertex<int>::pairwise_repulsion(graph.V[i].position, graph.V[j].position);\n",
    "    }\n",
    "  }\n",
    "}\n",
    "auto stop2 = high_resolution_clock::now();\n",
    "cout << \"Took \" << duration<double>(stop2 - start2).count() << \"s : \" << \" calculate \"<< (all / (float)graph.V.size()) << endl;"
   ]
  },
  {
   "cell_type": "markdown",
   "metadata": {},
   "source": [
    "## Testing the insert and estimate functions"
   ]
  },
  {
   "cell_type": "code",
   "execution_count": 17,
   "metadata": {},
   "outputs": [
    {
     "data": {
      "text/plain": []
     },
     "execution_count": 17,
     "metadata": {},
     "output_type": "execute_result"
    }
   ],
   "source": [
    "BarnesHutNode3<int> tree;"
   ]
  },
  {
   "cell_type": "markdown",
   "metadata": {},
   "source": [
    "The tree instantiates."
   ]
  },
  {
   "cell_type": "code",
   "execution_count": 18,
   "metadata": {},
   "outputs": [
    {
     "name": "stdout",
     "output_type": "stream",
     "text": [
      "Took 3.8841e-05s to insert 10 vertices.\n"
     ]
    },
    {
     "data": {
      "text/plain": [
       "(std::basic_ostream<char, std::char_traits<char> >::__ostream_type &) @0x7f4e343a6640\n"
      ]
     },
     "execution_count": 18,
     "metadata": {},
     "output_type": "execute_result"
    }
   ],
   "source": [
    "using namespace std;\n",
    "using namespace std::chrono;\n",
    "\n",
    "auto start3 = high_resolution_clock::now();\n",
    "for(auto i=0; i<graph.V.size(); i++){\n",
    "  tree.insert(graph.V[i]);\n",
    "}\n",
    "auto stop3 = high_resolution_clock::now();\n",
    "\n",
    "cout << \"Took \" << duration<double>(stop3 - start3).count() << \"s to insert \" << graph.V.size() << \" vertices.\" << endl;"
   ]
  },
  {
   "cell_type": "markdown",
   "metadata": {},
   "source": [
    "Tree insertion successful."
   ]
  },
  {
   "cell_type": "code",
   "execution_count": 19,
   "metadata": {},
   "outputs": [
    {
     "name": "stdout",
     "output_type": "stream",
     "text": [
      "Took 1.7095e-05s to estimate (-55.0265, 99.8117, -5.18054)\n",
      "Took 4.973e-06s to estimate (-39.8056, 47.4501, 6.57203)\n",
      "Took 4.481e-06s to estimate (119.401, 16.474, -84.4221)\n",
      "Took 4.472e-06s to estimate (-94.8089, 45.6419, 124.963)\n",
      "Took 4.038e-06s to estimate (52.0577, -8.60923, -50.2244)\n",
      "Took 4.401e-06s to estimate (-1.77721, -4.31986, 76.541)\n",
      "Took 4.013e-06s to estimate (41.7451, 31.2148, 48.0746)\n",
      "Took 4.159e-06s to estimate (-87.2108, -60.4375, -19.4446)\n",
      "Took 3.964e-06s to estimate (7.53884, -35.2181, 28.345)\n",
      "Took 4.021e-06s to estimate (-36.6101, 83.3104, -47.764)\n"
     ]
    },
    {
     "data": {
      "text/plain": []
     },
     "execution_count": 19,
     "metadata": {},
     "output_type": "execute_result"
    }
   ],
   "source": [
    "using namespace std;\n",
    "using namespace std::chrono;\n",
    "\n",
    "for(auto vertex : graph.V){\n",
    "  auto start4 = high_resolution_clock::now();\n",
    "  gmtl::Vec3f force;\n",
    "  tree.estimate(vertex, force, &Vertex<int>::pairwise_repulsion);\n",
    "  auto stop4 = high_resolution_clock::now();\n",
    "  cout << \"Took \" << duration<double>(stop4 - start4).count() << \"s to estimate \" << force << endl;\n",
    "}"
   ]
  },
  {
   "cell_type": "code",
   "execution_count": 20,
   "metadata": {},
   "outputs": [
    {
     "data": {
      "text/plain": [
       "(long [2]) { 149798315, 2038664370 }\n"
      ]
     },
     "execution_count": 20,
     "metadata": {},
     "output_type": "execute_result"
    }
   ],
   "source": [
    "long rs[] = {random(), random()};\n",
    "rs"
   ]
  },
  {
   "cell_type": "markdown",
   "metadata": {},
   "source": [
    "This proves that the random number generator indeed returns two different numbers for two different function calls."
   ]
  },
  {
   "cell_type": "markdown",
   "metadata": {},
   "source": [
    "## Testing graph.layout()"
   ]
  },
  {
   "cell_type": "code",
   "execution_count": 21,
   "metadata": {},
   "outputs": [
    {
     "name": "stdout",
     "output_type": "stream",
     "text": [
      "g.layout() took 0.174656s with 10000 vertices and 30000 edges.\n"
     ]
    },
    {
     "data": {
      "text/plain": [
       "(std::basic_ostream<char, std::char_traits<char> >::__ostream_type &) @0x7f4e343a6640\n"
      ]
     },
     "execution_count": 21,
     "metadata": {},
     "output_type": "execute_result"
    }
   ],
   "source": [
    "#include <iostream>\n",
    "#include <chrono>\n",
    "#include <iostream>\n",
    "using namespace std;\n",
    "using namespace std::chrono;\n",
    "\n",
    "NUM_VERTICES = 10000;\n",
    "NUM_EDGES = NUM_VERTICES * 3;\n",
    "\n",
    "time_point start5 = high_resolution_clock::now();\n",
    "Graph<int> g = Graph<int>();\n",
    "for(int i=0; i<NUM_VERTICES; i++){\n",
    "  g.add_vertex(Vertex<int>(i));\n",
    "}\n",
    "for(int i=0; i<NUM_EDGES; i++){\n",
    "  g.add_edge(Edge<int>(&g.V[random() % g.V.size()], &g.V[random() % g.V.size()]));\n",
    "}\n",
    "g.layout();\n",
    "time_point stop5 = high_resolution_clock::now();\n",
    "\n",
    "cout << \"g.layout() took \" << duration<double>(stop5 - start5).count() << \"s with \" << g.V.size() << \" vertices and \" << g.E.size() << \" edges.\" << endl;"
   ]
  },
  {
   "cell_type": "markdown",
   "metadata": {},
   "source": [
    "## Average Vertex Position\n",
    "\n",
    "The average vertex position is a tool I can use for analysis of the values over multiple layout() calls. \n"
   ]
  },
  {
   "cell_type": "code",
   "execution_count": 22,
   "metadata": {},
   "outputs": [
    {
     "data": {
      "text/plain": []
     },
     "execution_count": 22,
     "metadata": {},
     "output_type": "execute_result"
    }
   ],
   "source": [
    "template <class T>\n",
    "gmtl::Vec3f avg_position(const Graph<T>& graph){\n",
    "  gmtl::Vec3f position;\n",
    "  for(auto vertex : graph.V){\n",
    "    position += vertex.position;\n",
    "  }\n",
    "  return position / (float)graph.V.size();\n",
    "}\n",
    "\n",
    "/* only call this function with type int for now */\n",
    "template <class T>\n",
    "vector<gmtl::Vec3f> average_positions(int iterations, int vertices, int edges){\n",
    "  vector<gmtl::Vec3f> history;\n",
    "  Graph<T> h;\n",
    "  for(int i=0; i<vertices; i++){\n",
    "    h.add_vertex(Vertex<T>(i));\n",
    "  }\n",
    "  for(int i=0; i<edges; i++){\n",
    "    h.add_edge(Edge<T>(&h.V[random() % h.V.size()], &h.V[random() % h.V.size()]));\n",
    "  }\n",
    "\n",
    "  for(int i=0; i<iterations; i++){\n",
    "    h.layout();\n",
    "    cout << \".\";\n",
    "    history.push_back(avg_position(h));\n",
    "  }\n",
    "  \n",
    "  return history;\n",
    "};\n"
   ]
  },
  {
   "cell_type": "code",
   "execution_count": 23,
   "metadata": {},
   "outputs": [
    {
     "name": "stdout",
     "output_type": "stream",
     "text": [
      "(21.687, -78.7926, -31.8319)\n"
     ]
    },
    {
     "data": {
      "text/plain": [
       "(std::basic_ostream<char, std::char_traits<char> >::__ostream_type &) @0x7f4e343a6640\n"
      ]
     },
     "execution_count": 23,
     "metadata": {},
     "output_type": "execute_result"
    }
   ],
   "source": [
    "gmtl::Vec3f pos = avg_position<int>(g);\n",
    "cout << pos << endl;"
   ]
  },
  {
   "cell_type": "code",
   "execution_count": 24,
   "metadata": {},
   "outputs": [
    {
     "name": "stdout",
     "output_type": "stream",
     "text": [
      "(21.687, -78.7926, -31.8319)\n",
      "....................................................................................................\n",
      "(13.4954, -48.1863, -19.4471)\n"
     ]
    },
    {
     "data": {
      "text/plain": [
       "(std::basic_ostream<char, std::char_traits<char> >::__ostream_type &) @0x7f4e343a6640\n"
      ]
     },
     "execution_count": 24,
     "metadata": {},
     "output_type": "execute_result"
    }
   ],
   "source": [
    "cout << avg_position<int>(g) << endl;\n",
    "for(auto n=0; n<100; n++){\n",
    "  g.layout();\n",
    "  cout << \".\";\n",
    "}\n",
    "cout << endl;\n",
    "cout << avg_position<int>(g) << endl;"
   ]
  },
  {
   "cell_type": "markdown",
   "metadata": {},
   "source": [
    "This establishes that the graph's layout function has an effect on its vertices' average positions."
   ]
  },
  {
   "cell_type": "code",
   "execution_count": 25,
   "metadata": {},
   "outputs": [
    {
     "name": "stdout",
     "output_type": "stream",
     "text": [
      "........................................................................................................................................................................................................1.9072\n",
      "3.96881\n",
      "5.39324\n",
      "5.3133\n",
      "3.77812\n",
      "1.72637\n",
      "0.509691\n",
      "45.6281\n",
      "109.988\n",
      "154.049\n",
      "151.383\n",
      "103.598\n",
      "39.3906\n",
      "3.2204\n",
      "2.40208\n",
      "51.9218\n",
      "116.007\n",
      "156.211\n",
      "148.418\n",
      "97.3153\n",
      "33.5933\n",
      "4.85938\n",
      "5.68634\n",
      "58.3442\n",
      "121.709\n",
      "157.772\n",
      "144.904\n",
      "90.8348\n",
      "28.0439\n",
      "6.09474\n",
      "9.41105\n",
      "64.8555\n",
      "127.09\n",
      "158.785\n",
      "140.931\n",
      "84.2516\n",
      "22.8014\n",
      "6.87827\n",
      "13.4636\n",
      "71.2992\n",
      "132.007\n",
      "159.173\n",
      "136.506\n",
      "77.6171\n",
      "17.9021\n",
      "7.10292\n",
      "17.991\n",
      "77.8122\n",
      "136.58\n",
      "159.028\n",
      "131.689\n",
      "70.9759\n",
      "13.3762\n",
      "6.73053\n",
      "23.1211\n",
      "84.7744\n",
      "141.276\n",
      "158.733\n",
      "126.68\n",
      "64.3599\n",
      "9.27921\n",
      "5.97278\n",
      "28.2375\n",
      "91.1147\n",
      "144.962\n",
      "157.481\n",
      "121.166\n",
      "57.8222\n",
      "5.65513\n",
      "4.65494\n",
      "33.7541\n",
      "97.4918\n",
      "148.34\n",
      "155.799\n",
      "115.4\n",
      "51.3994\n",
      "2.6792\n",
      "2.81479\n",
      "39.5362\n",
      "103.701\n",
      "151.201\n",
      "153.544\n",
      "109.333\n",
      "45.1131\n",
      "1.68227\n",
      "0.472661\n",
      "45.7009\n",
      "110.108\n",
      "154.122\n",
      "151.343\n",
      "103.446\n",
      "39.1926\n",
      "3.30007\n",
      "2.36364\n",
      "51.9996\n",
      "116.118\n",
      "156.262\n",
      "148.355\n",
      "97.1476\n",
      "33.3926\n",
      "4.95766\n",
      "5.66828\n",
      "58.4294\n",
      "121.818\n",
      "157.813\n",
      "144.827\n",
      "90.6593\n",
      "27.8443\n",
      "6.19253\n",
      "9.40858\n",
      "64.9491\n",
      "127.197\n",
      "158.817\n",
      "140.843\n",
      "84.0697\n",
      "22.6038\n",
      "6.96195\n",
      "13.4956\n",
      "71.4276\n",
      "132.138\n",
      "159.213\n",
      "136.413\n",
      "77.4292\n",
      "17.7075\n",
      "7.14535\n",
      "18.1425\n",
      "78.1244\n",
      "136.895\n",
      "159.191\n",
      "131.639\n",
      "70.7795\n",
      "13.191\n",
      "6.75952\n",
      "23.2836\n",
      "85.0582\n",
      "141.537\n",
      "158.841\n",
      "126.595\n",
      "64.1577\n",
      "9.10293\n",
      "5.97204\n",
      "28.4427\n",
      "91.4391\n",
      "145.248\n",
      "157.593\n",
      "121.073\n",
      "57.6152\n",
      "5.49036\n",
      "4.63228\n",
      "33.9794\n",
      "97.823\n",
      "148.616\n",
      "155.891\n",
      "115.29\n",
      "51.1887\n",
      "2.53841\n",
      "2.77092\n",
      "39.7798\n",
      "104.037\n",
      "151.467\n",
      "153.619\n",
      "109.209\n",
      "44.9025\n",
      "1.70143\n",
      "0.411702\n",
      "45.8905\n",
      "110.267\n",
      "154.114\n",
      "151.131\n",
      "103.115\n",
      "38.8981\n",
      "3.38995\n",
      "2.44856\n",
      "52.1881\n",
      "116.252\n",
      "156.215\n",
      "148.107\n",
      "96.8004\n",
      "33.1058\n",
      "5.04176\n",
      "5.76914\n",
      "58.6195\n",
      "121.937\n",
      "157.743\n",
      "144.562\n",
      "90.3102\n",
      "27.5714\n",
      "6.26051\n",
      "9.52463\n",
      "65.1393\n",
      "127.301\n",
      "158.725\n",
      "140.562\n",
      "83.721\n",
      "22.3461\n",
      "7.00897\n",
      "13.631\n",
      "71.6231\n",
      "132.233\n",
      "159.104\n"
     ]
    },
    {
     "data": {
      "text/plain": []
     },
     "execution_count": 25,
     "metadata": {},
     "output_type": "execute_result"
    }
   ],
   "source": [
    "auto history = average_positions<int>(200, 2, 1);\n",
    "for(auto i=0; i<history.size(); i++){\n",
    "  cout << length(history[i]) << endl;\n",
    "}"
   ]
  },
  {
   "cell_type": "markdown",
   "metadata": {},
   "source": [
    "The graph is oscillating. "
   ]
  },
  {
   "cell_type": "markdown",
   "metadata": {},
   "source": [
    "Let's fix that!"
   ]
  },
  {
   "cell_type": "code",
   "execution_count": 26,
   "metadata": {},
   "outputs": [
    {
     "data": {
      "text/plain": []
     },
     "execution_count": 26,
     "metadata": {},
     "output_type": "execute_result"
    }
   ],
   "source": [
    "template <class T>\n",
    "class Experiment {\n",
    "  public:\n",
    "    Experiment<T>(const T* _variable, const std::vector<T>* _values){\n",
    "      this->variable = _variable;\n",
    "      this->values = _values;\n",
    "      \n",
    "      for(auto value : values){\n",
    "        *(this->variable) = value;\n",
    "        this->histories.push_back(average_positions<int>(50, 10, 30));\n",
    "      }\n",
    "    }\n",
    "  \n",
    "    T& variable;\n",
    "    std::vector<T> values;\n",
    "    std::vector<std::vector<gmtl::Vec3f>> histories;\n",
    "};"
   ]
  },
  {
   "cell_type": "code",
   "execution_count": 29,
   "metadata": {},
   "outputs": [
    {
     "name": "stderr",
     "output_type": "stream",
     "text": [
      "\u001b[1minput_line_32:10:23: \u001b[0m\u001b[0;1;31merror: \u001b[0m\u001b[1mno matching constructor for initialization of 'Experiment<float>'\u001b[0m\n",
      "Experiment<float> e = Experiment<float>(&(Constants::repulsion), values);\n",
      "\u001b[0;1;32m                      ^                 ~~~~~~~~~~~~~~~~~~~~~~~~~~~~~~~\n",
      "\u001b[0m\u001b[1minput_line_29:4:5: \u001b[0m\u001b[0;1;30mnote: \u001b[0mcandidate constructor not viable: no known conversion from 'const\n",
      "      std::vector<float>' to 'const std::vector<float> *' for 2nd argument; take\n",
      "      the address of the argument with &\u001b[0m\n",
      "    Experiment<T>(const T* _variable, const std::vector<T>* _values){\n",
      "\u001b[0;1;32m    ^\n",
      "\u001b[0m\u001b[1minput_line_29:2:7: \u001b[0m\u001b[0;1;30mnote: \u001b[0mcandidate constructor (the implicit copy constructor) not viable: requires 1\n",
      "      argument, but 2 were provided\u001b[0m\n",
      "class Experiment {\n",
      "\u001b[0;1;32m      ^\n",
      "\u001b[0m\u001b[1minput_line_29:2:7: \u001b[0m\u001b[0;1;30mnote: \u001b[0mcandidate constructor (the implicit move constructor) not viable: requires 1\n",
      "      argument, but 2 were provided\u001b[0m\n",
      "\u001b[1minput_line_32:13:30: \u001b[0m\u001b[0;1;31merror: \u001b[0m\u001b[1mtype 'std::vector<std::vector<gmtl::Vec3f> >' (aka 'vector<vector<Vec<float, 3>\n",
      "      > >') does not provide a subscript operator\u001b[0m\n",
      "  for(auto j=0; j<e.histories[i].size(); j++){\n",
      "\u001b[0;1;32m                  ~~~~~~~~~~~^~\n",
      "\u001b[0m\u001b[1minput_line_32:14:24: \u001b[0m\u001b[0;1;31merror: \u001b[0m\u001b[1mtype 'std::vector<std::vector<gmtl::Vec3f> >' (aka 'vector<vector<Vec<float, 3>\n",
      "      > >') does not provide a subscript operator\u001b[0m\n",
      "    cout << e.histories[i][j] << endl;\n",
      "\u001b[0;1;32m            ~~~~~~~~~~~^~\n",
      "\u001b[0m"
     ]
    },
    {
     "ename": "ename",
     "evalue": "evalue",
     "output_type": "error",
     "traceback": []
    }
   ],
   "source": [
    "#include <iostream>\n",
    "#include <chrono>\n",
    "#include <iostream>\n",
    "using namespace std;\n",
    "using namespace std::chrono;\n",
    "\n",
    "cout << \"repulsion\" << endl;\n",
    "const std::vector<float> values = vector<float>({50.0f, 25.0f, 10.0f, 1.0f, 0.1f, 0.01f, 0.0001f});\n",
    "Experiment<float> e = Experiment<float>(&(SETTINGS.repulsion), values);\n",
    "for(auto i=0; i<e.values.size(); i++){\n",
    "  cout << e.values[i];\n",
    "  for(auto j=0; j<e.histories[i].size(); j++){\n",
    "    cout << e.histories[i][j] << endl;\n",
    "  }\n",
    "  cout << \"------\" << endl;\n",
    "}"
   ]
  },
  {
   "cell_type": "code",
   "execution_count": null,
   "metadata": {},
   "outputs": [],
   "source": []
  },
  {
   "cell_type": "code",
   "execution_count": null,
   "metadata": {},
   "outputs": [],
   "source": []
  },
  {
   "cell_type": "code",
   "execution_count": null,
   "metadata": {},
   "outputs": [],
   "source": []
  },
  {
   "cell_type": "code",
   "execution_count": null,
   "metadata": {},
   "outputs": [],
   "source": []
  },
  {
   "cell_type": "code",
   "execution_count": null,
   "metadata": {},
   "outputs": [],
   "source": []
  }
 ],
 "metadata": {
  "kernelspec": {
   "display_name": "C++17",
   "language": "C++",
   "name": "cling-cpp17"
  },
  "language_info": {
   "codemirror_mode": "c++",
   "file_extension": ".c++",
   "mimetype": "text/x-c++src",
   "name": "c++"
  }
 },
 "nbformat": 4,
 "nbformat_minor": 2
}
